{
 "cells": [
  {
   "cell_type": "code",
   "execution_count": 1,
   "metadata": {},
   "outputs": [],
   "source": [
    "import numpy as np\n",
    "import csv as csv\n",
    "from matplotlib import pyplot as plt\n"
   ]
  },
  {
   "cell_type": "markdown",
   "metadata": {},
   "source": [
    "# 1d case"
   ]
  },
  {
   "cell_type": "markdown",
   "metadata": {},
   "source": [
    "Classification"
   ]
  },
  {
   "cell_type": "code",
   "execution_count": 2,
   "metadata": {},
   "outputs": [],
   "source": [
    "predictions1d_cla=np.load('predictions/more_traj/task2_predictions1d.npy')"
   ]
  },
  {
   "cell_type": "code",
   "execution_count": 3,
   "metadata": {},
   "outputs": [
    {
     "data": {
      "text/plain": [
       "(13531, 5)"
      ]
     },
     "execution_count": 3,
     "metadata": {},
     "output_type": "execute_result"
    }
   ],
   "source": [
    "predictions1d_cla.shape"
   ]
  },
  {
   "cell_type": "markdown",
   "metadata": {},
   "source": [
    "Inference"
   ]
  },
  {
   "cell_type": "code",
   "execution_count": 4,
   "metadata": {},
   "outputs": [],
   "source": [
    "predictions1d_inf=np.load('predictions/more_traj/task1_pred_1d.npy')"
   ]
  },
  {
   "cell_type": "code",
   "execution_count": 5,
   "metadata": {},
   "outputs": [
    {
     "data": {
      "text/plain": [
       "(13531,)"
      ]
     },
     "execution_count": 5,
     "metadata": {},
     "output_type": "execute_result"
    }
   ],
   "source": [
    "predictions1d_inf.shape"
   ]
  },
  {
   "cell_type": "markdown",
   "metadata": {},
   "source": [
    "# 2d case"
   ]
  },
  {
   "cell_type": "markdown",
   "metadata": {},
   "source": [
    "# Classification"
   ]
  },
  {
   "cell_type": "markdown",
   "metadata": {},
   "source": [
    "Importing predictions made on 2d data using nets trained on 2d data"
   ]
  },
  {
   "cell_type": "code",
   "execution_count": 6,
   "metadata": {},
   "outputs": [],
   "source": [
    "predictions2d_u2d_cla=np.load('predictions/more_traj/task2_pred_2d_u2d.npy')"
   ]
  },
  {
   "cell_type": "code",
   "execution_count": 7,
   "metadata": {},
   "outputs": [
    {
     "data": {
      "text/plain": [
       "(5158, 5)"
      ]
     },
     "execution_count": 7,
     "metadata": {},
     "output_type": "execute_result"
    }
   ],
   "source": [
    "predictions2d_u2d_cla.shape"
   ]
  },
  {
   "cell_type": "markdown",
   "metadata": {},
   "source": [
    "Converting output of predictions in two single number indicating what model class it was predicted. Recall 3 is LW"
   ]
  },
  {
   "cell_type": "code",
   "execution_count": 8,
   "metadata": {},
   "outputs": [],
   "source": [
    "pred2_num=np.argmax(predictions2d_u2d_cla,axis=1)"
   ]
  },
  {
   "cell_type": "markdown",
   "metadata": {},
   "source": [
    "Writing vector identifying all trajectories that were NOT predicted as LW by the 2d nets"
   ]
  },
  {
   "cell_type": "code",
   "execution_count": 9,
   "metadata": {},
   "outputs": [],
   "source": [
    "aa=pred2_num!=3"
   ]
  },
  {
   "cell_type": "markdown",
   "metadata": {},
   "source": [
    "Predictions on 2d data using average of 1d nets applied on different dimensions independently.\n",
    "We know that this gives a wrong result for LW trajectories"
   ]
  },
  {
   "cell_type": "code",
   "execution_count": 10,
   "metadata": {},
   "outputs": [],
   "source": [
    "predictions2d_u1d_cla=np.load('predictions/more_traj/task2_predictions2d_u1d.npy')"
   ]
  },
  {
   "cell_type": "markdown",
   "metadata": {},
   "source": [
    "For trajectories that are NOT LW, the 1d nets yield good results. Here we average the predictions made with 1d nets and the ones made on 2d nets for trajectories that were predicted NOT to be LW. For the LW traj keep 2d predictions"
   ]
  },
  {
   "cell_type": "code",
   "execution_count": 11,
   "metadata": {},
   "outputs": [],
   "source": [
    "comb_cla=np.copy(predictions2d_u2d_cla)\n",
    "comb_cla_ave=(predictions2d_u1d_cla+predictions2d_u2d_cla)/2\n",
    "comb_cla[aa,:]=comb_cla_ave[aa,:]"
   ]
  },
  {
   "cell_type": "markdown",
   "metadata": {},
   "source": [
    "# Inference"
   ]
  },
  {
   "cell_type": "markdown",
   "metadata": {},
   "source": [
    "Using average of nets trained in 1d of 2 dimensions treated independently"
   ]
  },
  {
   "cell_type": "code",
   "execution_count": 12,
   "metadata": {},
   "outputs": [],
   "source": [
    "predictions2d_u1d_inf=np.load('predictions/more_traj/task1_pred_2d_u1d.npy')"
   ]
  },
  {
   "cell_type": "code",
   "execution_count": 13,
   "metadata": {},
   "outputs": [
    {
     "data": {
      "text/plain": [
       "(5158,)"
      ]
     },
     "execution_count": 13,
     "metadata": {},
     "output_type": "execute_result"
    }
   ],
   "source": [
    "predictions2d_u1d_inf.shape"
   ]
  },
  {
   "cell_type": "markdown",
   "metadata": {},
   "source": [
    "Using nets trained in 2d trajectories"
   ]
  },
  {
   "cell_type": "code",
   "execution_count": 14,
   "metadata": {},
   "outputs": [],
   "source": [
    "predictions2d_u2d_inf=np.load('predictions/more_traj/task1_pred_2d_u2d.npy')"
   ]
  },
  {
   "cell_type": "markdown",
   "metadata": {},
   "source": [
    "For trajectories that are NOT LW, the 1d nets yield good results.\n",
    "Here we use the 1d for all non LW cases and the 2d just for the LW cases. \n"
   ]
  },
  {
   "cell_type": "code",
   "execution_count": 15,
   "metadata": {},
   "outputs": [],
   "source": [
    "comb_inf2d_alt=np.copy(predictions2d_u2d_inf)\n",
    "comb_inf_ave2d_alt=np.copy(predictions2d_u1d_inf)\n",
    "comb_inf2d_alt[aa]=comb_inf_ave2d_alt[aa]"
   ]
  },
  {
   "cell_type": "markdown",
   "metadata": {},
   "source": [
    "# Producing output"
   ]
  },
  {
   "cell_type": "markdown",
   "metadata": {},
   "source": [
    "Inference"
   ]
  },
  {
   "cell_type": "code",
   "execution_count": 16,
   "metadata": {},
   "outputs": [],
   "source": [
    "predictions_task1=[predictions1d_inf,comb_inf2d_alt]"
   ]
  },
  {
   "cell_type": "code",
   "execution_count": 17,
   "metadata": {},
   "outputs": [],
   "source": [
    "pred_to_txt_fin=np.ones((len(predictions_task1[0]), 2))\n",
    "pred_to_txt_fin[:len(predictions_task1[0]), 1] = predictions_task1[0]\n",
    "for dim in [2]:\n",
    "    pred_to_txt_temp = dim*np.ones((len(predictions_task1[dim-1]), 2))\n",
    "    pred_to_txt_temp[:, 1] = predictions_task1[dim-1]\n",
    "    pred_to_txt_fin=np.concatenate((pred_to_txt_fin,pred_to_txt_temp))\n",
    "np.savetxt('sub_more_traj/task1.txt', pred_to_txt_fin.astype(float), fmt = '%1.5f', delimiter = ';')"
   ]
  },
  {
   "cell_type": "markdown",
   "metadata": {},
   "source": [
    "Classification"
   ]
  },
  {
   "cell_type": "code",
   "execution_count": 18,
   "metadata": {},
   "outputs": [],
   "source": [
    "predictions_task2 = [predictions1d_cla, comb_cla]"
   ]
  },
  {
   "cell_type": "code",
   "execution_count": 19,
   "metadata": {},
   "outputs": [],
   "source": [
    "pred_to_txt = np.concatenate((np.ones((len(predictions1d_cla), 6)),\n",
    "                              2*np.ones((len(comb_cla), 6))))\n",
    "bb=0\n",
    "for dim in [1,2]:\n",
    "    dis=len(predictions_task2[dim-1])\n",
    "    #print(bb)\n",
    "    for i in range(dis):\n",
    "        for j in range(5):\n",
    "            pred_to_txt[i+bb, j+1] = predictions_task2[dim-1][i][j]\n",
    "    bb=bb+dis\n",
    "    \n",
    "np.savetxt('sub_more_traj/task2.txt', pred_to_txt.astype(float), fmt = '%1.5f', delimiter = ';')"
   ]
  }
 ],
 "metadata": {
  "kernelspec": {
   "display_name": "Python 3",
   "language": "python",
   "name": "python3"
  },
  "language_info": {
   "codemirror_mode": {
    "name": "ipython",
    "version": 3
   },
   "file_extension": ".py",
   "mimetype": "text/x-python",
   "name": "python",
   "nbconvert_exporter": "python",
   "pygments_lexer": "ipython3",
   "version": "3.7.4"
  }
 },
 "nbformat": 4,
 "nbformat_minor": 4
}
