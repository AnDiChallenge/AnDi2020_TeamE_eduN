{
 "cells": [
  {
   "cell_type": "code",
   "execution_count": null,
   "metadata": {},
   "outputs": [],
   "source": [
    "import andi\n",
    "import numpy as np\n",
    "from tensorflow.keras.models import load_model\n",
    "import os\n",
    "import scipy.io as sci\n",
    "AD = andi.andi_datasets()\n",
    "n=0\n",
    "for repeat in range(30): \n",
    "    i = 200\n",
    "    N = 100000\n",
    "    dimension = 1\n",
    "    z, z, z, z, X, Y = AD.andi_dataset(N = N, tasks = 3, dimensions = dimension,\n",
    "                                                 min_T = i, max_T = i+1, save_dataset=False, path_datasets=str(i)+'master1')\n",
    "    sci.savemat('task3_1d' + str(i) + '_' + str(n) + '.mat',{'X': X, 'Y':Y})\n",
    "    n += 1 "
   ]
  },
  {
   "cell_type": "code",
   "execution_count": null,
   "metadata": {},
   "outputs": [],
   "source": []
  }
 ],
 "metadata": {
  "kernelspec": {
   "display_name": "Python 3",
   "language": "python",
   "name": "python3"
  },
  "language_info": {
   "codemirror_mode": {
    "name": "ipython",
    "version": 3
   },
   "file_extension": ".py",
   "mimetype": "text/x-python",
   "name": "python",
   "nbconvert_exporter": "python",
   "pygments_lexer": "ipython3",
   "version": "3.7.4"
  }
 },
 "nbformat": 4,
 "nbformat_minor": 4
}
