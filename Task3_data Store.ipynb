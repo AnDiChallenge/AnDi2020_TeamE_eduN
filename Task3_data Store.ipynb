{
 "cells": [
  {
   "cell_type": "code",
   "execution_count": 1,
   "metadata": {},
   "outputs": [
    {
     "name": "stdout",
     "output_type": "stream",
     "text": [
      "Creating a dataset for task(s) 3 and dimension(s) 1.\n",
      "Generating dataset for dimension 1.\n"
     ]
    },
    {
     "name": "stderr",
     "output_type": "stream",
     "text": [
      "/opt/anaconda3/lib/python3.7/site-packages/fbm/fbm.py:172: UserWarning: Combination of increments n and Hurst value H invalid for Davies-Harte method. Reverting to Hosking method. Occurs when n is small and Hurst is close to 1. \n",
      "  \"Combination of increments n and Hurst value H \"\n"
     ]
    },
    {
     "name": "stdout",
     "output_type": "stream",
     "text": [
      "Creating a dataset for task(s) 3 and dimension(s) 1.\n",
      "Generating dataset for dimension 1.\n",
      "Creating a dataset for task(s) 3 and dimension(s) 1.\n",
      "Generating dataset for dimension 1.\n",
      "Creating a dataset for task(s) 3 and dimension(s) 1.\n",
      "Generating dataset for dimension 1.\n",
      "Creating a dataset for task(s) 3 and dimension(s) 1.\n",
      "Generating dataset for dimension 1.\n",
      "Creating a dataset for task(s) 3 and dimension(s) 1.\n",
      "Generating dataset for dimension 1.\n",
      "Creating a dataset for task(s) 3 and dimension(s) 1.\n",
      "Generating dataset for dimension 1.\n",
      "Creating a dataset for task(s) 3 and dimension(s) 1.\n",
      "Generating dataset for dimension 1.\n",
      "Creating a dataset for task(s) 3 and dimension(s) 1.\n",
      "Generating dataset for dimension 1.\n",
      "Creating a dataset for task(s) 3 and dimension(s) 1.\n",
      "Generating dataset for dimension 1.\n",
      "Creating a dataset for task(s) 3 and dimension(s) 1.\n",
      "Generating dataset for dimension 1.\n",
      "Creating a dataset for task(s) 3 and dimension(s) 1.\n",
      "Generating dataset for dimension 1.\n",
      "Creating a dataset for task(s) 3 and dimension(s) 1.\n",
      "Generating dataset for dimension 1.\n",
      "Creating a dataset for task(s) 3 and dimension(s) 1.\n",
      "Generating dataset for dimension 1.\n",
      "Creating a dataset for task(s) 3 and dimension(s) 1.\n",
      "Generating dataset for dimension 1.\n",
      "Creating a dataset for task(s) 3 and dimension(s) 1.\n",
      "Generating dataset for dimension 1.\n",
      "Creating a dataset for task(s) 3 and dimension(s) 1.\n",
      "Generating dataset for dimension 1.\n",
      "Creating a dataset for task(s) 3 and dimension(s) 1.\n",
      "Generating dataset for dimension 1.\n",
      "Creating a dataset for task(s) 3 and dimension(s) 1.\n",
      "Generating dataset for dimension 1.\n",
      "Creating a dataset for task(s) 3 and dimension(s) 1.\n",
      "Generating dataset for dimension 1.\n",
      "Creating a dataset for task(s) 3 and dimension(s) 1.\n",
      "Generating dataset for dimension 1.\n",
      "Creating a dataset for task(s) 3 and dimension(s) 1.\n",
      "Generating dataset for dimension 1.\n",
      "Creating a dataset for task(s) 3 and dimension(s) 1.\n",
      "Generating dataset for dimension 1.\n",
      "Creating a dataset for task(s) 3 and dimension(s) 1.\n",
      "Generating dataset for dimension 1.\n",
      "Creating a dataset for task(s) 3 and dimension(s) 1.\n",
      "Generating dataset for dimension 1.\n",
      "Creating a dataset for task(s) 3 and dimension(s) 1.\n",
      "Generating dataset for dimension 1.\n",
      "Creating a dataset for task(s) 3 and dimension(s) 1.\n",
      "Generating dataset for dimension 1.\n",
      "Creating a dataset for task(s) 3 and dimension(s) 1.\n",
      "Generating dataset for dimension 1.\n",
      "Creating a dataset for task(s) 3 and dimension(s) 1.\n",
      "Generating dataset for dimension 1.\n",
      "Creating a dataset for task(s) 3 and dimension(s) 1.\n",
      "Generating dataset for dimension 1.\n"
     ]
    }
   ],
   "source": [
    "import andi\n",
    "import numpy as np\n",
    "from tensorflow.keras.models import load_model\n",
    "import os\n",
    "import scipy.io as sci\n",
    "AD = andi.andi_datasets()\n",
    "n=0\n",
    "for repeat in range(30): \n",
    "    i = 200\n",
    "    N = 10\n",
    "    dimension = 1\n",
    "    z, z, z, z, X, Y = AD.andi_dataset(N = N, tasks = 3, dimensions = dimension,\n",
    "                                                 min_T = i, max_T = i+1, save_dataset=False, path_datasets=str(i)+'master1')\n",
    "    sci.savemat('task3_1d' + str(i) + '_' + str(n) + '.mat',{'X': X, 'Y':Y})\n",
    "    n += 1 "
   ]
  },
  {
   "cell_type": "code",
   "execution_count": null,
   "metadata": {},
   "outputs": [],
   "source": []
  }
 ],
 "metadata": {
  "kernelspec": {
   "display_name": "Python 3",
   "language": "python",
   "name": "python3"
  },
  "language_info": {
   "codemirror_mode": {
    "name": "ipython",
    "version": 3
   },
   "file_extension": ".py",
   "mimetype": "text/x-python",
   "name": "python",
   "nbconvert_exporter": "python",
   "pygments_lexer": "ipython3",
   "version": "3.7.4"
  }
 },
 "nbformat": 4,
 "nbformat_minor": 4
}
