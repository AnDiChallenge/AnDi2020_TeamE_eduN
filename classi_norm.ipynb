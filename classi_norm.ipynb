{
 "cells": [
  {
   "cell_type": "code",
   "execution_count": 1,
   "metadata": {},
   "outputs": [
    {
     "name": "stderr",
     "output_type": "stream",
     "text": [
      "Using TensorFlow backend.\n"
     ]
    }
   ],
   "source": [
    "\n",
    "\n",
    "import andi\n",
    "import numpy as np\n",
    "import csv as csv\n",
    "import numpy as np\n",
    "\n",
    "from sklearn.metrics import mean_absolute_error\n",
    "import tensorflow as tf\n",
    "\n",
    "\n",
    "\n",
    "import keras\n",
    "from keras.models import Sequential\n",
    "from keras.layers import Dense, Dropout, Activation\n",
    "from keras.optimizers import SGD\n",
    "from keras import losses, metrics\n",
    "\n",
    "from keras.models import Sequential\n",
    "from keras.layers import Dense\n",
    "from keras.layers import SimpleRNN\n",
    "from keras.layers import LSTM\n",
    "\n",
    "from keras.layers import Dropout\n",
    "from keras.layers import Bidirectional\n",
    "#from keras.models import load_model\n",
    "from tensorflow.keras.models import load_model\n",
    "import os\n",
    "from matplotlib import pyplot as plt\n",
    "from data_split import data_split\n",
    "from many_net import many_net, many_net_diffv, many_net_only_diff, many_net_only_diff_cont, many_net_only_diff_cont_varc"
   ]
  },
  {
   "cell_type": "code",
   "execution_count": 2,
   "metadata": {},
   "outputs": [],
   "source": [
    "import keras\n",
    "from keras.models import Sequential\n",
    "from keras.layers import Dense, Dropout, Activation\n",
    "from keras.optimizers import SGD\n",
    "from keras import losses, metrics\n",
    "\n",
    "from keras.models import Sequential\n",
    "from keras.layers import Dense\n",
    "from keras.layers import SimpleRNN\n",
    "from keras.layers import LSTM\n",
    "\n",
    "from keras.layers import Dropout\n",
    "from keras.layers import Bidirectional\n",
    "#from keras.models import load_model\n",
    "from tensorflow.keras.models import load_model\n",
    "import os\n",
    "from matplotlib import pyplot as plt\n",
    "from data_split import data_split\n",
    "from many_net import many_net, many_net_diffv, many_net_only_diff"
   ]
  },
  {
   "cell_type": "code",
   "execution_count": 2,
   "metadata": {},
   "outputs": [],
   "source": [
    "from keras.models import Sequential, load_model\n",
    "from keras.layers import Dense, Conv1D, Dropout, BatchNormalization, Flatten\n",
    "\n",
    "from keras.regularizers import l2 as regularizer_l2\n",
    "\n",
    "from keras.optimizers import Adam"
   ]
  },
  {
   "cell_type": "code",
   "execution_count": 5,
   "metadata": {},
   "outputs": [],
   "source": [
    "AD = andi.andi_datasets()\n"
   ]
  },
  {
   "cell_type": "markdown",
   "metadata": {},
   "source": [
    "Important to create a \"balanced\" data set"
   ]
  },
  {
   "cell_type": "code",
   "execution_count": 18,
   "metadata": {},
   "outputs": [
    {
     "name": "stdout",
     "output_type": "stream",
     "text": [
      "Creating a dataset for task(s) 2 and dimension(s) 1.\n",
      "Generating dataset for dimension 1.\n",
      "Creating a dataset for task(s) 2 and dimension(s) 1.\n",
      "Generating dataset for dimension 1.\n",
      "Creating a dataset for task(s) 2 and dimension(s) 1.\n",
      "Generating dataset for dimension 1.\n",
      "Creating a dataset for task(s) 2 and dimension(s) 1.\n",
      "Generating dataset for dimension 1.\n",
      "Creating a dataset for task(s) 2 and dimension(s) 1.\n",
      "Generating dataset for dimension 1.\n",
      "Creating a dataset for task(s) 2 and dimension(s) 1.\n",
      "Generating dataset for dimension 1.\n",
      "Creating a dataset for task(s) 2 and dimension(s) 1.\n",
      "Generating dataset for dimension 1.\n",
      "Creating a dataset for task(s) 2 and dimension(s) 1.\n",
      "Generating dataset for dimension 1.\n",
      "Creating a dataset for task(s) 2 and dimension(s) 1.\n",
      "Generating dataset for dimension 1.\n",
      "Creating a dataset for task(s) 2 and dimension(s) 1.\n",
      "Generating dataset for dimension 1.\n"
     ]
    }
   ],
   "source": [
    "bb={}\n",
    "cc={}\n",
    "cl=25+100*np.arange(10)\n",
    "j=0\n",
    "for i in cl:\n",
    "    X1, Y1, X2, Y2, X3, Y3 = AD.andi_dataset(N = 10000, tasks = 2, dimensions = 1,\n",
    "                                             min_T = i, max_T = i+1, save_dataset=True, path_datasets=str(i)+'multi')\n",
    "    bb[i]=X2[0]\n",
    "    cc[i]=Y2[0]"
   ]
  },
  {
   "cell_type": "code",
   "execution_count": 12,
   "metadata": {},
   "outputs": [
    {
     "name": "stdout",
     "output_type": "stream",
     "text": [
      "Creating a dataset for task(s) 2 and dimension(s) 1.\n",
      "Creating a dataset for task(s) 2 and dimension(s) 1.\n",
      "Creating a dataset for task(s) 2 and dimension(s) 1.\n",
      "Creating a dataset for task(s) 2 and dimension(s) 1.\n",
      "Creating a dataset for task(s) 2 and dimension(s) 1.\n",
      "Creating a dataset for task(s) 2 and dimension(s) 1.\n",
      "Creating a dataset for task(s) 2 and dimension(s) 1.\n",
      "Creating a dataset for task(s) 2 and dimension(s) 1.\n",
      "Creating a dataset for task(s) 2 and dimension(s) 1.\n",
      "Creating a dataset for task(s) 2 and dimension(s) 1.\n"
     ]
    }
   ],
   "source": [
    "bbv={}\n",
    "ccv={}\n",
    "cl=25+100*np.arange(10)\n",
    "j=0\n",
    "for i in cl:\n",
    "    X1, Y1, X2, Y2, X3, Y3 = AD.andi_dataset(N = 1000, tasks = 2, dimensions = 1,\n",
    "                                             min_T = i, max_T = i+1, load_dataset=True, path_datasets=str(i)+'multi_val')\n",
    "    bbv[i]=X2[0]\n",
    "    ccv[i]=Y2[0]"
   ]
  },
  {
   "cell_type": "code",
   "execution_count": null,
   "metadata": {},
   "outputs": [],
   "source": [
    "ccm={}\n",
    "for i in cl:\n",
    "    ccm[i]=np.zeros((len(cc[i]),5))\n",
    "    print(ccm[i])\n",
    "    print(ccm[i][j][2])\n",
    "    for j in range(len(cc[i])):\n",
    "        ccm[i][j][int(cc[i][j])]=1"
   ]
  },
  {
   "cell_type": "code",
   "execution_count": 13,
   "metadata": {},
   "outputs": [
    {
     "name": "stdout",
     "output_type": "stream",
     "text": [
      "[[0. 0. 0. 0. 0.]\n",
      " [0. 0. 0. 0. 0.]\n",
      " [0. 0. 0. 0. 0.]\n",
      " ...\n",
      " [0. 0. 0. 0. 0.]\n",
      " [0. 0. 0. 0. 0.]\n",
      " [0. 0. 0. 0. 0.]]\n",
      "0.0\n",
      "[[0. 0. 0. 0. 0.]\n",
      " [0. 0. 0. 0. 0.]\n",
      " [0. 0. 0. 0. 0.]\n",
      " ...\n",
      " [0. 0. 0. 0. 0.]\n",
      " [0. 0. 0. 0. 0.]\n",
      " [0. 0. 0. 0. 0.]]\n",
      "0.0\n",
      "[[0. 0. 0. 0. 0.]\n",
      " [0. 0. 0. 0. 0.]\n",
      " [0. 0. 0. 0. 0.]\n",
      " ...\n",
      " [0. 0. 0. 0. 0.]\n",
      " [0. 0. 0. 0. 0.]\n",
      " [0. 0. 0. 0. 0.]]\n",
      "0.0\n",
      "[[0. 0. 0. 0. 0.]\n",
      " [0. 0. 0. 0. 0.]\n",
      " [0. 0. 0. 0. 0.]\n",
      " ...\n",
      " [0. 0. 0. 0. 0.]\n",
      " [0. 0. 0. 0. 0.]\n",
      " [0. 0. 0. 0. 0.]]\n",
      "0.0\n",
      "[[0. 0. 0. 0. 0.]\n",
      " [0. 0. 0. 0. 0.]\n",
      " [0. 0. 0. 0. 0.]\n",
      " ...\n",
      " [0. 0. 0. 0. 0.]\n",
      " [0. 0. 0. 0. 0.]\n",
      " [0. 0. 0. 0. 0.]]\n",
      "0.0\n",
      "[[0. 0. 0. 0. 0.]\n",
      " [0. 0. 0. 0. 0.]\n",
      " [0. 0. 0. 0. 0.]\n",
      " ...\n",
      " [0. 0. 0. 0. 0.]\n",
      " [0. 0. 0. 0. 0.]\n",
      " [0. 0. 0. 0. 0.]]\n",
      "0.0\n",
      "[[0. 0. 0. 0. 0.]\n",
      " [0. 0. 0. 0. 0.]\n",
      " [0. 0. 0. 0. 0.]\n",
      " ...\n",
      " [0. 0. 0. 0. 0.]\n",
      " [0. 0. 0. 0. 0.]\n",
      " [0. 0. 0. 0. 0.]]\n",
      "0.0\n",
      "[[0. 0. 0. 0. 0.]\n",
      " [0. 0. 0. 0. 0.]\n",
      " [0. 0. 0. 0. 0.]\n",
      " ...\n",
      " [0. 0. 0. 0. 0.]\n",
      " [0. 0. 0. 0. 0.]\n",
      " [0. 0. 0. 0. 0.]]\n",
      "0.0\n",
      "[[0. 0. 0. 0. 0.]\n",
      " [0. 0. 0. 0. 0.]\n",
      " [0. 0. 0. 0. 0.]\n",
      " ...\n",
      " [0. 0. 0. 0. 0.]\n",
      " [0. 0. 0. 0. 0.]\n",
      " [0. 0. 0. 0. 0.]]\n",
      "0.0\n",
      "[[0. 0. 0. 0. 0.]\n",
      " [0. 0. 0. 0. 0.]\n",
      " [0. 0. 0. 0. 0.]\n",
      " ...\n",
      " [0. 0. 0. 0. 0.]\n",
      " [0. 0. 0. 0. 0.]\n",
      " [0. 0. 0. 0. 0.]]\n",
      "0.0\n"
     ]
    }
   ],
   "source": [
    "ccvm={}\n",
    "for i in cl:\n",
    "    ccvm[i]=np.zeros((len(ccv[i]),5))\n",
    "    print(ccvm[i])\n",
    "    print(ccvm[i][j][2])\n",
    "    for j in range(len(ccv[i])):\n",
    "        ccvm[i][j][int(ccv[i][j])]=1"
   ]
  },
  {
   "cell_type": "code",
   "execution_count": 8,
   "metadata": {},
   "outputs": [],
   "source": [
    "#FUNCTION TO TURN SPLIT DATA IN NORMALIZED SUB-TRAJECTORIES.\n",
    "#Possible to choose data corresponding to a certain interval of h\n",
    "#USING TIMES TOO Otpion to normalize!!\n",
    "#Should find a more elegant way of using the hmin and hmax, now i have to express it anyway\n",
    "def data_split(data_tot,meas_times,labels,start_row,num_row,traj_len,\n",
    "               n_in,n_samples,hmin=0.,hmax=1,limith=False,normalization=True,p_p=1):\n",
    "    '''\n",
    "    returns data_tot: collection of recorded trajectories and associated time stamps,\n",
    "    split into normalized sub-trajectories. It also returns the associated labels, and\n",
    "    separately the time stamps and trajectories.\n",
    "    PARAMETERS EXPLANATION:\n",
    "    meas_times: times at which the position was recorded,\n",
    "    labels: the true exponent corresponding with which the trajectory was generated\n",
    "    start_row: exclude recorded trajectories with index i<start_row\n",
    "    num_row: number of recorde trajectories to use (NB the actual number\n",
    "    will be <total number-start_row) \n",
    "    traj_len: length of the trajectory segments to output\n",
    "    n_in: starting data point from the recorded data\n",
    "    n_samples: number of the trajectory segments to take from each recorded trajectory\n",
    "    h_min: use only trajectories genearted with h>h_min\n",
    "    h_max: use only trajectories genearted with h<h_max\n",
    "    p_p: factor introduced to roughly normalize the time steps so that the total trajectory\n",
    "    duration is close to 1'''\n",
    "    j=0\n",
    "\n",
    "\n",
    "\n",
    "    tr=data_tot[start_row:num_row+start_row]\n",
    "    sel_times=meas_times[start_row:num_row+start_row]\n",
    "    tar=labels[start_row:num_row+start_row]\n",
    "\n",
    "    if(limith==True):\n",
    "        \n",
    "        tr=tr[np.where((tar<=hmax) & (tar >=hmin))]\n",
    "        sel_times=sel_times[np.where((tar<=hmax) & (tar >=hmin))]\n",
    "        tar=tar[((tar<=hmax) & (tar >=hmin))]\n",
    "\n",
    "    if(n_samples>1):\n",
    "        \n",
    "        gap=int((data_tot.shape[1]-n_in-traj_len)/(n_samples-1))\n",
    "    else:\n",
    "        gap=0    \n",
    "    print(\"n initial=\",n_in,\"gap=\",gap)\n",
    "    if(gap<traj_len):\n",
    "        print(\"warning!! Overlapping trajectories. gap=\",\n",
    "              gap,\"trajectory length=\",traj_len,\"final_point=\",\n",
    "              (n_samples-1)*gap+n_in+traj_len,\"data length\",data_tot.shape[1])\n",
    "\n",
    "    if(normalization==True):\n",
    "        trj=tr[:,n_in+gap*j:n_in+gap*j+traj_len]\n",
    "        test_data_new=(trj-(np.tile(np.transpose([np.mean(trj,axis=1)]),\n",
    "                                    (1,traj_len))))/(np.tile(np.transpose([np.std(trj,axis=1)]),\n",
    "                                                             (1,traj_len)))\n",
    "        test_times=np.cumsum(np.insert(np.diff(sel_times[:,n_in+gap*j:n_in+gap*j+traj_len])\n",
    "                                       ,0,0, axis=1),axis=1)\n",
    "#train_data_new=(data_tot[start_row:30000,:traj_len]-(np.tile(np.transpose([np.mean(data_tot[start_row:30000,:traj_len],axis=1)]),(1,traj_len))))/(np.tile(np.transpose([np.std(data_tot[start_row:30000,:traj_len],axis=1)]),(1,traj_len)))\n",
    "        test_labels_large=tar\n",
    "#test_labels=labels[start_row:num_row+start_row]\n",
    "        #print(test_data_new.shape)\n",
    "        #print(\"trj=\",trj.shape)\n",
    "        #print(\"sart=\",n_in+gap*j,\"end=\",n_in+gap*j+traj_len)\n",
    "        for j in range(1,n_samples):\n",
    "            trj=tr[:,n_in+gap*j:n_in+gap*j+traj_len]\n",
    "            #print(\"sart=\",n_in+gap*j,\"end=\",n_in+gap*j+traj_len)\n",
    "            #print(trj.shape)\n",
    "            test_data_new=np.concatenate((test_data_new,(trj-(np.tile(np.transpose([np.mean(trj,axis=1)]),(1,traj_len))))/(np.tile(np.transpose([np.std(trj,axis=1)]),(1,traj_len)))),axis=0)\n",
    "    #test_data_new=np.concatenate((test_data_new,(data_tot2[:,n_in+gap*j:n_in+gap*j+traj_len]-np.mean(data_tot2[:,n_in+gap*j:n_in+gap*j+traj_len]))/np.std(data_tot2[:,n_in+gap*j:n_in+gap*j+traj_len])),axis=0)\n",
    "            test_labels_large=np.append(test_labels_large,tar)\n",
    "            test_times=np.concatenate((test_times,np.cumsum(np.insert(np.diff(sel_times[:,n_in+gap*j:n_in+gap*j+traj_len]),0,0, axis=1),axis=1)),axis=0)\n",
    "    #test_labels=np.append(test_labels,many_label2)  \n",
    "    else:\n",
    "        test_data_new=tr[:,n_in+gap*j:n_in+gap*j+traj_len]\n",
    "        test_times=np.cumsum(np.insert(np.diff(sel_times[:,n_in+gap*j:n_in+gap*j+traj_len]),\n",
    "                                       0,0, axis=1),axis=1)\n",
    "#train_data_new=(data_tot[start_row:30000,:traj_len]-(np.tile(np.transpose([np.mean(data_tot[start_row:30000,:traj_len],axis=1)]),(1,traj_len))))/(np.tile(np.transpose([np.std(data_tot[start_row:30000,:traj_len],axis=1)]),(1,traj_len)))\n",
    "        test_labels_large=tar\n",
    "#test_labels=labels[start_row:num_row+start_row]\n",
    "        for j in range(1,n_samples):\n",
    "            test_data_new=np.concatenate((test_data_new,tr[:,n_in+gap*j:n_in+gap*j+traj_len]),\n",
    "                                         axis=0)\n",
    "    #test_data_new=np.concatenate((test_data_new,(data_tot2[:,n_in+gap*j:n_in+gap*j+traj_len]-np.mean(data_tot2[:,n_in+gap*j:n_in+gap*j+traj_len]))/np.std(data_tot2[:,n_in+gap*j:n_in+gap*j+traj_len])),axis=0)\n",
    "            test_labels_large=np.append(test_labels_large,tar)\n",
    "            test_times=np.concatenate((test_times,np.cumsum(\n",
    "                np.insert(np.diff(sel_times[:,n_in+gap*j:n_in+gap*j+traj_len]),0,0, axis=1),\n",
    "                axis=1)),axis=0)\n",
    "    #test_labels=np.append(test_labels,many_label2) \n",
    "        \n",
    "\n",
    "\n",
    "#normalization of time stamps, potentially dangerous!!!!!!!\n",
    "    test_times=test_times*p_p/traj_len\n",
    "    \n",
    "#RESHAPING\n",
    "    test_set=np.transpose(np.array((np.transpose(test_data_new),np.transpose(test_times))))  \n",
    "    return test_set, test_labels_large, test_data_new,test_times\n",
    "   "
   ]
  },
  {
   "cell_type": "code",
   "execution_count": 63,
   "metadata": {},
   "outputs": [
    {
     "name": "stdout",
     "output_type": "stream",
     "text": [
      "Model: \"sequential_5\"\n",
      "_________________________________________________________________\n",
      "Layer (type)                 Output Shape              Param #   \n",
      "=================================================================\n",
      "lstm_9 (LSTM)                (None, None, 64)          16896     \n",
      "_________________________________________________________________\n",
      "lstm_10 (LSTM)               (None, 16)                5184      \n",
      "_________________________________________________________________\n",
      "dense_9 (Dense)              (None, 5)                 85        \n",
      "_________________________________________________________________\n",
      "dense_10 (Dense)             (None, 5)                 30        \n",
      "=================================================================\n",
      "Total params: 22,195\n",
      "Trainable params: 22,195\n",
      "Non-trainable params: 0\n",
      "_________________________________________________________________\n"
     ]
    }
   ],
   "source": [
    "#LTSM network for learning  the Hurst exponet H, Normalized trajectories!!!\n",
    "\n",
    "#Building the network\n",
    "model_classi_norm_chi = Sequential()\n",
    "#first layer: LSTM of dimension 64\n",
    "model_classi_norm_chi.add(LSTM(64,\n",
    "                return_sequences=True,\n",
    "                dropout=0,\n",
    "                recurrent_dropout=0,\n",
    "                input_shape=(None, 1)\n",
    "                ))\n",
    "\n",
    "#second layer: LSTM of dimension 16\n",
    "model_classi_norm_chi.add(LSTM(16,\n",
    "                dropout=0,\n",
    "                recurrent_dropout=0))\n",
    "#Last layer, fully connected\n",
    "model_classi_norm_chi.add(Dense(5))\n",
    "model_classi_norm_chi.add(Dense(5,activation= 'softmax'))\n",
    "\n",
    "model_classi_norm_chi.compile(optimizer='adam',\n",
    "                loss='binary_crossentropy', \n",
    "                metrics=['accuracy'])\n",
    "\n",
    "#Printing a summary of the built network\n",
    "model_classi_norm_chi.summary()\n",
    "\n",
    "#Training the network first with minibatches of size 32 for 10 epochs, \n",
    "#then with minibatches of size 128\n",
    "    \n"
   ]
  },
  {
   "cell_type": "code",
   "execution_count": 64,
   "metadata": {},
   "outputs": [
    {
     "name": "stdout",
     "output_type": "stream",
     "text": [
      "traj length= 25 batch size= 32 \n",
      "\n",
      "n initial= 0 gap= 0\n",
      "warning!! Overlapping trajectories. gap= 0 trajectory length= 25 final_point= 25 data length 25\n",
      "traj length= 25 batch size= 32 \n",
      "\n",
      "Train on 8000 samples, validate on 2000 samples\n",
      "Epoch 1/10\n",
      "8000/8000 [==============================] - 10s 1ms/step - loss: 0.4767 - accuracy: 0.8001 - val_loss: 0.4596 - val_accuracy: 0.8049\n",
      "Epoch 2/10\n",
      "8000/8000 [==============================] - 7s 863us/step - loss: 0.4494 - accuracy: 0.8050 - val_loss: 0.4468 - val_accuracy: 0.8062\n",
      "Epoch 3/10\n",
      "8000/8000 [==============================] - 8s 950us/step - loss: 0.4346 - accuracy: 0.8121 - val_loss: 0.4294 - val_accuracy: 0.8150\n",
      "Epoch 4/10\n",
      "8000/8000 [==============================] - 8s 1ms/step - loss: 0.4231 - accuracy: 0.8160 - val_loss: 0.4165 - val_accuracy: 0.8189\n",
      "Epoch 5/10\n",
      "8000/8000 [==============================] - 11s 1ms/step - loss: 0.4093 - accuracy: 0.8212 - val_loss: 0.4073 - val_accuracy: 0.8209\n",
      "Epoch 6/10\n",
      "8000/8000 [==============================] - 13s 2ms/step - loss: 0.4007 - accuracy: 0.8233 - val_loss: 0.4135 - val_accuracy: 0.8184\n",
      "Epoch 7/10\n",
      "8000/8000 [==============================] - 9s 1ms/step - loss: 0.3918 - accuracy: 0.8257 - val_loss: 0.3949 - val_accuracy: 0.8242\n",
      "Epoch 8/10\n",
      "8000/8000 [==============================] - 8s 1ms/step - loss: 0.3870 - accuracy: 0.8281 - val_loss: 0.3886 - val_accuracy: 0.8275\n",
      "Epoch 9/10\n",
      "8000/8000 [==============================] - 9s 1ms/step - loss: 0.3785 - accuracy: 0.8310 - val_loss: 0.3805 - val_accuracy: 0.8314\n",
      "Epoch 10/10\n",
      "8000/8000 [==============================] - 11s 1ms/step - loss: 0.3739 - accuracy: 0.8318 - val_loss: 0.3808 - val_accuracy: 0.8271\n",
      "traj length= 925 batch size= 32 \n",
      "\n",
      "n initial= 0 gap= 0\n",
      "warning!! Overlapping trajectories. gap= 0 trajectory length= 925 final_point= 925 data length 925\n",
      "traj length= 925 batch size= 32 \n",
      "\n",
      "Train on 8000 samples, validate on 2000 samples\n",
      "Epoch 1/6\n",
      "8000/8000 [==============================] - 309s 39ms/step - loss: 0.4377 - accuracy: 0.8088 - val_loss: 0.4122 - val_accuracy: 0.8147\n",
      "Epoch 2/6\n",
      "8000/8000 [==============================] - 309s 39ms/step - loss: 0.4169 - accuracy: 0.8138 - val_loss: 0.4194 - val_accuracy: 0.8106\n",
      "Epoch 3/6\n",
      "8000/8000 [==============================] - 330s 41ms/step - loss: 0.4237 - accuracy: 0.8070 - val_loss: 0.4307 - val_accuracy: 0.8150\n",
      "Epoch 4/6\n",
      "8000/8000 [==============================] - 272s 34ms/step - loss: 0.4274 - accuracy: 0.8086 - val_loss: 0.4126 - val_accuracy: 0.8117\n",
      "Epoch 5/6\n",
      "8000/8000 [==============================] - 268s 33ms/step - loss: 0.4117 - accuracy: 0.8138 - val_loss: 0.3996 - val_accuracy: 0.8166\n",
      "Epoch 6/6\n",
      "8000/8000 [==============================] - 265s 33ms/step - loss: 0.4312 - accuracy: 0.8115 - val_loss: 0.5328 - val_accuracy: 0.7850\n",
      "traj length= 125 batch size= 32 \n",
      "\n",
      "n initial= 0 gap= 0\n",
      "warning!! Overlapping trajectories. gap= 0 trajectory length= 125 final_point= 125 data length 125\n",
      "traj length= 125 batch size= 32 \n",
      "\n",
      "Train on 8000 samples, validate on 2000 samples\n",
      "Epoch 1/10\n",
      "8000/8000 [==============================] - 37s 5ms/step - loss: 0.4774 - accuracy: 0.8031 - val_loss: 0.4412 - val_accuracy: 0.8104\n",
      "Epoch 2/10\n",
      "8000/8000 [==============================] - 36s 4ms/step - loss: 0.4305 - accuracy: 0.8103 - val_loss: 0.4154 - val_accuracy: 0.8114\n",
      "Epoch 3/10\n",
      "8000/8000 [==============================] - 35s 4ms/step - loss: 0.4187 - accuracy: 0.8155 - val_loss: 0.4041 - val_accuracy: 0.8233\n",
      "Epoch 4/10\n",
      "8000/8000 [==============================] - 37s 5ms/step - loss: 0.3958 - accuracy: 0.8233 - val_loss: 0.3931 - val_accuracy: 0.8220\n",
      "Epoch 5/10\n",
      "8000/8000 [==============================] - 36s 5ms/step - loss: 0.3773 - accuracy: 0.8315 - val_loss: 0.3616 - val_accuracy: 0.8382\n",
      "Epoch 6/10\n",
      "8000/8000 [==============================] - 40s 5ms/step - loss: 0.3555 - accuracy: 0.8386 - val_loss: 0.3460 - val_accuracy: 0.8432\n",
      "Epoch 7/10\n",
      "8000/8000 [==============================] - 43s 5ms/step - loss: 0.3937 - accuracy: 0.8268 - val_loss: 0.3807 - val_accuracy: 0.8328\n",
      "Epoch 8/10\n",
      "8000/8000 [==============================] - 38s 5ms/step - loss: 0.3566 - accuracy: 0.8416 - val_loss: 0.3456 - val_accuracy: 0.8486\n",
      "Epoch 9/10\n",
      "8000/8000 [==============================] - 35s 4ms/step - loss: 0.3379 - accuracy: 0.8488 - val_loss: 0.3325 - val_accuracy: 0.8535\n",
      "Epoch 10/10\n",
      "8000/8000 [==============================] - 34s 4ms/step - loss: 0.3241 - accuracy: 0.8541 - val_loss: 0.3419 - val_accuracy: 0.8493\n",
      "traj length= 825 batch size= 32 \n",
      "\n",
      "n initial= 0 gap= 0\n",
      "warning!! Overlapping trajectories. gap= 0 trajectory length= 825 final_point= 825 data length 825\n",
      "traj length= 825 batch size= 32 \n",
      "\n",
      "Train on 8000 samples, validate on 2000 samples\n",
      "Epoch 1/6\n",
      "8000/8000 [==============================] - 228s 28ms/step - loss: 0.3874 - accuracy: 0.8332 - val_loss: 0.3400 - val_accuracy: 0.8513\n",
      "Epoch 2/6\n",
      "8000/8000 [==============================] - 225s 28ms/step - loss: 0.3617 - accuracy: 0.8416 - val_loss: 0.3633 - val_accuracy: 0.8406\n",
      "Epoch 3/6\n",
      "8000/8000 [==============================] - 232s 29ms/step - loss: 0.3442 - accuracy: 0.8499 - val_loss: 0.3234 - val_accuracy: 0.8586\n",
      "Epoch 4/6\n",
      "8000/8000 [==============================] - 232s 29ms/step - loss: 0.3304 - accuracy: 0.8544 - val_loss: 0.3616 - val_accuracy: 0.8462\n",
      "Epoch 5/6\n",
      "8000/8000 [==============================] - 229s 29ms/step - loss: 0.3201 - accuracy: 0.8589 - val_loss: 0.3075 - val_accuracy: 0.8645\n",
      "Epoch 6/6\n",
      "8000/8000 [==============================] - 229s 29ms/step - loss: 0.3698 - accuracy: 0.8431 - val_loss: 0.3572 - val_accuracy: 0.8452\n",
      "traj length= 225 batch size= 32 \n",
      "\n",
      "n initial= 0 gap= 0\n",
      "warning!! Overlapping trajectories. gap= 0 trajectory length= 225 final_point= 225 data length 225\n",
      "traj length= 225 batch size= 32 \n",
      "\n",
      "Train on 8000 samples, validate on 2000 samples\n",
      "Epoch 1/9\n",
      "8000/8000 [==============================] - 63s 8ms/step - loss: 0.3472 - accuracy: 0.8460 - val_loss: 0.3291 - val_accuracy: 0.8540\n",
      "Epoch 2/9\n",
      "8000/8000 [==============================] - 61s 8ms/step - loss: 0.3216 - accuracy: 0.8568 - val_loss: 0.3099 - val_accuracy: 0.8608\n",
      "Epoch 3/9\n",
      "8000/8000 [==============================] - 61s 8ms/step - loss: 0.3354 - accuracy: 0.8482 - val_loss: 0.3946 - val_accuracy: 0.8184\n",
      "Epoch 4/9\n",
      "8000/8000 [==============================] - 61s 8ms/step - loss: 0.3170 - accuracy: 0.8573 - val_loss: 0.3172 - val_accuracy: 0.8587\n",
      "Epoch 5/9\n",
      "8000/8000 [==============================] - 64s 8ms/step - loss: 0.3017 - accuracy: 0.8642 - val_loss: 0.2955 - val_accuracy: 0.8687\n",
      "Epoch 6/9\n",
      "8000/8000 [==============================] - 63s 8ms/step - loss: 0.3752 - accuracy: 0.8396 - val_loss: 0.3475 - val_accuracy: 0.8508\n",
      "Epoch 7/9\n",
      "8000/8000 [==============================] - 62s 8ms/step - loss: 0.3048 - accuracy: 0.8642 - val_loss: 0.2983 - val_accuracy: 0.8672\n",
      "Epoch 8/9\n",
      "8000/8000 [==============================] - 61s 8ms/step - loss: 0.2885 - accuracy: 0.8700 - val_loss: 0.2921 - val_accuracy: 0.8734\n",
      "Epoch 9/9\n",
      "8000/8000 [==============================] - 61s 8ms/step - loss: 0.2922 - accuracy: 0.8693 - val_loss: 0.2842 - val_accuracy: 0.8733\n",
      "traj length= 725 batch size= 32 \n",
      "\n",
      "n initial= 0 gap= 0\n",
      "warning!! Overlapping trajectories. gap= 0 trajectory length= 725 final_point= 725 data length 725\n",
      "traj length= 725 batch size= 32 \n",
      "\n",
      "Train on 8000 samples, validate on 2000 samples\n",
      "Epoch 1/7\n",
      "8000/8000 [==============================] - 202s 25ms/step - loss: 0.2823 - accuracy: 0.8749 - val_loss: 0.3287 - val_accuracy: 0.8678\n",
      "Epoch 2/7\n",
      "8000/8000 [==============================] - 201s 25ms/step - loss: 0.3786 - accuracy: 0.8471 - val_loss: 0.4477 - val_accuracy: 0.8163\n",
      "Epoch 3/7\n",
      "8000/8000 [==============================] - 192s 24ms/step - loss: 0.4187 - accuracy: 0.8200 - val_loss: 0.4007 - val_accuracy: 0.8226\n",
      "Epoch 4/7\n",
      "8000/8000 [==============================] - 198s 25ms/step - loss: 0.3993 - accuracy: 0.8250 - val_loss: 0.3893 - val_accuracy: 0.8322\n",
      "Epoch 5/7\n",
      "8000/8000 [==============================] - 203s 25ms/step - loss: 0.3802 - accuracy: 0.8344 - val_loss: 0.3723 - val_accuracy: 0.8404\n",
      "Epoch 6/7\n",
      "8000/8000 [==============================] - 196s 24ms/step - loss: 0.3697 - accuracy: 0.8365 - val_loss: 0.3647 - val_accuracy: 0.8390\n"
     ]
    },
    {
     "name": "stdout",
     "output_type": "stream",
     "text": [
      "Epoch 7/7\n",
      "8000/8000 [==============================] - 214s 27ms/step - loss: 0.3558 - accuracy: 0.8437 - val_loss: 0.3534 - val_accuracy: 0.8440\n",
      "traj length= 325 batch size= 32 \n",
      "\n",
      "n initial= 0 gap= 0\n",
      "warning!! Overlapping trajectories. gap= 0 trajectory length= 325 final_point= 325 data length 325\n",
      "traj length= 325 batch size= 32 \n",
      "\n",
      "Train on 8000 samples, validate on 2000 samples\n",
      "Epoch 1/9\n",
      "8000/8000 [==============================] - 92s 12ms/step - loss: 0.3837 - accuracy: 0.8306 - val_loss: 0.3636 - val_accuracy: 0.8390\n",
      "Epoch 2/9\n",
      "8000/8000 [==============================] - 93s 12ms/step - loss: 0.3507 - accuracy: 0.8430 - val_loss: 0.3680 - val_accuracy: 0.8372\n",
      "Epoch 3/9\n",
      "8000/8000 [==============================] - 89s 11ms/step - loss: 0.3595 - accuracy: 0.8410 - val_loss: 0.3476 - val_accuracy: 0.8434\n",
      "Epoch 4/9\n",
      "8000/8000 [==============================] - 88s 11ms/step - loss: 0.3401 - accuracy: 0.8489 - val_loss: 0.3348 - val_accuracy: 0.8515\n",
      "Epoch 5/9\n",
      "8000/8000 [==============================] - 89s 11ms/step - loss: 0.3329 - accuracy: 0.8515 - val_loss: 0.3202 - val_accuracy: 0.8560\n",
      "Epoch 6/9\n",
      "8000/8000 [==============================] - 93s 12ms/step - loss: 0.3285 - accuracy: 0.8536 - val_loss: 0.3222 - val_accuracy: 0.8570\n",
      "Epoch 7/9\n",
      "8000/8000 [==============================] - 88s 11ms/step - loss: 0.3150 - accuracy: 0.8593 - val_loss: 0.3132 - val_accuracy: 0.8588\n",
      "Epoch 8/9\n",
      "8000/8000 [==============================] - 89s 11ms/step - loss: 0.3121 - accuracy: 0.8609 - val_loss: 0.3197 - val_accuracy: 0.8538\n",
      "Epoch 9/9\n",
      "8000/8000 [==============================] - 94s 12ms/step - loss: 0.3051 - accuracy: 0.8634 - val_loss: 0.3081 - val_accuracy: 0.8601\n",
      "traj length= 625 batch size= 32 \n",
      "\n",
      "n initial= 0 gap= 0\n",
      "warning!! Overlapping trajectories. gap= 0 trajectory length= 625 final_point= 625 data length 625\n",
      "traj length= 625 batch size= 32 \n",
      "\n",
      "Train on 8000 samples, validate on 2000 samples\n",
      "Epoch 1/7\n",
      "8000/8000 [==============================] - 179s 22ms/step - loss: 0.3054 - accuracy: 0.8631 - val_loss: 0.2889 - val_accuracy: 0.8692\n",
      "Epoch 2/7\n",
      "8000/8000 [==============================] - 188s 23ms/step - loss: 0.3009 - accuracy: 0.8652 - val_loss: 0.3043 - val_accuracy: 0.8648\n",
      "Epoch 3/7\n",
      "8000/8000 [==============================] - 183s 23ms/step - loss: 0.2982 - accuracy: 0.8665 - val_loss: 0.3230 - val_accuracy: 0.8582\n",
      "Epoch 4/7\n",
      "8000/8000 [==============================] - 181s 23ms/step - loss: 0.2921 - accuracy: 0.8681 - val_loss: 0.3127 - val_accuracy: 0.8595\n",
      "Epoch 5/7\n",
      "8000/8000 [==============================] - 186s 23ms/step - loss: 0.2967 - accuracy: 0.8661 - val_loss: 0.3008 - val_accuracy: 0.8630\n",
      "Epoch 6/7\n",
      "8000/8000 [==============================] - 179s 22ms/step - loss: 0.2908 - accuracy: 0.8686 - val_loss: 0.2810 - val_accuracy: 0.8736\n",
      "Epoch 7/7\n",
      "8000/8000 [==============================] - 185s 23ms/step - loss: 0.2847 - accuracy: 0.8714 - val_loss: 0.2750 - val_accuracy: 0.8752\n",
      "traj length= 525 batch size= 32 \n",
      "\n",
      "n initial= 0 gap= 0\n",
      "warning!! Overlapping trajectories. gap= 0 trajectory length= 525 final_point= 525 data length 525\n",
      "traj length= 525 batch size= 32 \n",
      "\n",
      "Train on 8000 samples, validate on 2000 samples\n",
      "Epoch 1/8\n",
      "8000/8000 [==============================] - 147s 18ms/step - loss: 0.2844 - accuracy: 0.8713 - val_loss: 0.2737 - val_accuracy: 0.8776\n",
      "Epoch 2/8\n",
      "8000/8000 [==============================] - 155s 19ms/step - loss: 0.2838 - accuracy: 0.8722 - val_loss: 0.2748 - val_accuracy: 0.8758\n",
      "Epoch 3/8\n",
      "8000/8000 [==============================] - 148s 18ms/step - loss: 0.2785 - accuracy: 0.8742 - val_loss: 0.2907 - val_accuracy: 0.8687\n",
      "Epoch 4/8\n",
      "8000/8000 [==============================] - 152s 19ms/step - loss: 0.2773 - accuracy: 0.8741 - val_loss: 0.2768 - val_accuracy: 0.8746\n",
      "Epoch 5/8\n",
      "8000/8000 [==============================] - 148s 18ms/step - loss: 0.2750 - accuracy: 0.8762 - val_loss: 0.2721 - val_accuracy: 0.8774\n",
      "Epoch 6/8\n",
      "8000/8000 [==============================] - 155s 19ms/step - loss: 0.2727 - accuracy: 0.8762 - val_loss: 0.2758 - val_accuracy: 0.8734\n",
      "Epoch 7/8\n",
      "8000/8000 [==============================] - 145s 18ms/step - loss: 0.2693 - accuracy: 0.8772 - val_loss: 0.2715 - val_accuracy: 0.8761\n",
      "Epoch 8/8\n",
      "8000/8000 [==============================] - 157s 20ms/step - loss: 0.2687 - accuracy: 0.8785 - val_loss: 0.2653 - val_accuracy: 0.8799\n",
      "traj length= 425 batch size= 32 \n",
      "\n",
      "n initial= 0 gap= 0\n",
      "warning!! Overlapping trajectories. gap= 0 trajectory length= 425 final_point= 425 data length 425\n",
      "traj length= 425 batch size= 32 \n",
      "\n",
      "Train on 8000 samples, validate on 2000 samples\n",
      "Epoch 1/8\n",
      "8000/8000 [==============================] - 116s 15ms/step - loss: 0.2707 - accuracy: 0.8780 - val_loss: 0.2684 - val_accuracy: 0.8768\n",
      "Epoch 2/8\n",
      "8000/8000 [==============================] - 124s 15ms/step - loss: 0.2646 - accuracy: 0.8815 - val_loss: 0.2615 - val_accuracy: 0.8801\n",
      "Epoch 3/8\n",
      "8000/8000 [==============================] - 118s 15ms/step - loss: 0.2615 - accuracy: 0.8824 - val_loss: 0.2622 - val_accuracy: 0.8829\n",
      "Epoch 4/8\n",
      "8000/8000 [==============================] - 147s 18ms/step - loss: 0.2584 - accuracy: 0.8834 - val_loss: 0.2551 - val_accuracy: 0.8850\n",
      "Epoch 5/8\n",
      "8000/8000 [==============================] - 119s 15ms/step - loss: 0.2518 - accuracy: 0.8867 - val_loss: 0.2577 - val_accuracy: 0.8834\n",
      "Epoch 6/8\n",
      "8000/8000 [==============================] - 116s 14ms/step - loss: 0.2525 - accuracy: 0.8859 - val_loss: 0.2499 - val_accuracy: 0.8879\n",
      "Epoch 7/8\n",
      "8000/8000 [==============================] - 122s 15ms/step - loss: 0.2455 - accuracy: 0.8892 - val_loss: 0.2460 - val_accuracy: 0.8872\n",
      "Epoch 8/8\n",
      "8000/8000 [==============================] - 117s 15ms/step - loss: 0.2890 - accuracy: 0.8715 - val_loss: 0.2606 - val_accuracy: 0.8822\n",
      "traj length= 25 batch size= 128 \n",
      "\n",
      "n initial= 0 gap= 0\n",
      "warning!! Overlapping trajectories. gap= 0 trajectory length= 25 final_point= 25 data length 25\n",
      "traj length= 25 batch size= 128 \n",
      "\n",
      "Train on 8000 samples, validate on 2000 samples\n",
      "Epoch 1/10\n",
      "8000/8000 [==============================] - 4s 496us/step - loss: 0.4747 - accuracy: 0.8026 - val_loss: 0.4341 - val_accuracy: 0.8148\n",
      "Epoch 2/10\n",
      "8000/8000 [==============================] - 4s 489us/step - loss: 0.4139 - accuracy: 0.8215 - val_loss: 0.4156 - val_accuracy: 0.8195\n",
      "Epoch 3/10\n",
      "8000/8000 [==============================] - 4s 494us/step - loss: 0.4016 - accuracy: 0.8245 - val_loss: 0.4061 - val_accuracy: 0.8224\n",
      "Epoch 4/10\n",
      "8000/8000 [==============================] - 4s 494us/step - loss: 0.3949 - accuracy: 0.8256 - val_loss: 0.3999 - val_accuracy: 0.8228\n",
      "Epoch 5/10\n",
      "8000/8000 [==============================] - 4s 488us/step - loss: 0.3901 - accuracy: 0.8266 - val_loss: 0.3949 - val_accuracy: 0.8247\n",
      "Epoch 6/10\n",
      "8000/8000 [==============================] - 4s 491us/step - loss: 0.3861 - accuracy: 0.8276 - val_loss: 0.3914 - val_accuracy: 0.8255\n",
      "Epoch 7/10\n",
      "8000/8000 [==============================] - 4s 482us/step - loss: 0.3830 - accuracy: 0.8285 - val_loss: 0.3886 - val_accuracy: 0.8272\n",
      "Epoch 8/10\n",
      "8000/8000 [==============================] - 4s 475us/step - loss: 0.3804 - accuracy: 0.8285 - val_loss: 0.3857 - val_accuracy: 0.8271\n",
      "Epoch 9/10\n",
      "8000/8000 [==============================] - 4s 492us/step - loss: 0.3774 - accuracy: 0.8296 - val_loss: 0.3836 - val_accuracy: 0.8281\n",
      "Epoch 10/10\n",
      "8000/8000 [==============================] - 4s 494us/step - loss: 0.3751 - accuracy: 0.8299 - val_loss: 0.3809 - val_accuracy: 0.8300\n",
      "traj length= 925 batch size= 128 \n",
      "\n",
      "n initial= 0 gap= 0\n",
      "warning!! Overlapping trajectories. gap= 0 trajectory length= 925 final_point= 925 data length 925\n",
      "traj length= 925 batch size= 128 \n",
      "\n",
      "Train on 8000 samples, validate on 2000 samples\n",
      "Epoch 1/6\n",
      "8000/8000 [==============================] - 167s 21ms/step - loss: 0.4033 - accuracy: 0.8362 - val_loss: 0.2970 - val_accuracy: 0.8643\n",
      "Epoch 2/6\n",
      "8000/8000 [==============================] - 161s 20ms/step - loss: 0.2789 - accuracy: 0.8740 - val_loss: 0.2648 - val_accuracy: 0.8808\n",
      "Epoch 3/6\n",
      "8000/8000 [==============================] - 170s 21ms/step - loss: 0.2540 - accuracy: 0.8872 - val_loss: 0.2477 - val_accuracy: 0.8883\n",
      "Epoch 4/6\n",
      "8000/8000 [==============================] - 161s 20ms/step - loss: 0.2431 - accuracy: 0.8895 - val_loss: 0.2403 - val_accuracy: 0.8926\n",
      "Epoch 5/6\n",
      "8000/8000 [==============================] - 166s 21ms/step - loss: 0.2377 - accuracy: 0.8906 - val_loss: 0.2351 - val_accuracy: 0.8952\n",
      "Epoch 6/6\n",
      "8000/8000 [==============================] - 165s 21ms/step - loss: 0.2319 - accuracy: 0.8931 - val_loss: 0.2376 - val_accuracy: 0.8946\n",
      "traj length= 125 batch size= 128 \n",
      "\n",
      "n initial= 0 gap= 0\n",
      "warning!! Overlapping trajectories. gap= 0 trajectory length= 125 final_point= 125 data length 125\n",
      "traj length= 125 batch size= 128 \n",
      "\n",
      "Train on 8000 samples, validate on 2000 samples\n",
      "Epoch 1/10\n",
      "8000/8000 [==============================] - 20s 3ms/step - loss: 0.3101 - accuracy: 0.8582 - val_loss: 0.2875 - val_accuracy: 0.8747\n",
      "Epoch 2/10\n",
      "8000/8000 [==============================] - 19s 2ms/step - loss: 0.2848 - accuracy: 0.8713 - val_loss: 0.2808 - val_accuracy: 0.8778\n",
      "Epoch 3/10\n",
      "8000/8000 [==============================] - 20s 2ms/step - loss: 0.2798 - accuracy: 0.8737 - val_loss: 0.2776 - val_accuracy: 0.8793\n",
      "Epoch 4/10\n",
      "8000/8000 [==============================] - 19s 2ms/step - loss: 0.2775 - accuracy: 0.8749 - val_loss: 0.2769 - val_accuracy: 0.8787\n",
      "Epoch 5/10\n",
      "8000/8000 [==============================] - 19s 2ms/step - loss: 0.2751 - accuracy: 0.8767 - val_loss: 0.2771 - val_accuracy: 0.8789\n",
      "Epoch 6/10\n",
      "8000/8000 [==============================] - 19s 2ms/step - loss: 0.2728 - accuracy: 0.8767 - val_loss: 0.2751 - val_accuracy: 0.8790\n",
      "Epoch 7/10\n",
      "8000/8000 [==============================] - 19s 2ms/step - loss: 0.2720 - accuracy: 0.8774 - val_loss: 0.2723 - val_accuracy: 0.8812\n",
      "Epoch 8/10\n",
      "8000/8000 [==============================] - 19s 2ms/step - loss: 0.2702 - accuracy: 0.8783 - val_loss: 0.2711 - val_accuracy: 0.8818\n",
      "Epoch 9/10\n",
      "8000/8000 [==============================] - 19s 2ms/step - loss: 0.2676 - accuracy: 0.8789 - val_loss: 0.2759 - val_accuracy: 0.8788\n",
      "Epoch 10/10\n",
      "8000/8000 [==============================] - 19s 2ms/step - loss: 0.2663 - accuracy: 0.8803 - val_loss: 0.2690 - val_accuracy: 0.8823\n",
      "traj length= 825 batch size= 128 \n",
      "\n",
      "n initial= 0 gap= 0\n",
      "warning!! Overlapping trajectories. gap= 0 trajectory length= 825 final_point= 825 data length 825\n",
      "traj length= 825 batch size= 128 \n",
      "\n",
      "Train on 8000 samples, validate on 2000 samples\n",
      "Epoch 1/6\n",
      "8000/8000 [==============================] - 145s 18ms/step - loss: 0.3213 - accuracy: 0.8643 - val_loss: 0.2438 - val_accuracy: 0.8917\n",
      "Epoch 2/6\n",
      "8000/8000 [==============================] - 140s 18ms/step - loss: 0.2377 - accuracy: 0.8913 - val_loss: 0.2350 - val_accuracy: 0.8926\n",
      "Epoch 3/6\n",
      "8000/8000 [==============================] - 144s 18ms/step - loss: 0.2312 - accuracy: 0.8945 - val_loss: 0.2318 - val_accuracy: 0.8945\n",
      "Epoch 4/6\n",
      "8000/8000 [==============================] - 141s 18ms/step - loss: 0.2247 - accuracy: 0.8962 - val_loss: 0.2277 - val_accuracy: 0.8950\n",
      "Epoch 5/6\n",
      "8000/8000 [==============================] - 145s 18ms/step - loss: 0.2255 - accuracy: 0.8967 - val_loss: 0.2240 - val_accuracy: 0.8983\n",
      "Epoch 6/6\n",
      "8000/8000 [==============================] - 141s 18ms/step - loss: 0.2224 - accuracy: 0.8979 - val_loss: 0.2236 - val_accuracy: 0.8946\n",
      "traj length= 225 batch size= 128 \n",
      "\n",
      "n initial= 0 gap= 0\n",
      "warning!! Overlapping trajectories. gap= 0 trajectory length= 225 final_point= 225 data length 225\n",
      "traj length= 225 batch size= 128 \n",
      "\n",
      "Train on 8000 samples, validate on 2000 samples\n",
      "Epoch 1/9\n",
      "8000/8000 [==============================] - 35s 4ms/step - loss: 0.2576 - accuracy: 0.8816 - val_loss: 0.2468 - val_accuracy: 0.8868\n",
      "Epoch 2/9\n",
      "8000/8000 [==============================] - 35s 4ms/step - loss: 0.2443 - accuracy: 0.8878 - val_loss: 0.2439 - val_accuracy: 0.8893\n",
      "Epoch 3/9\n",
      "8000/8000 [==============================] - 35s 4ms/step - loss: 0.2419 - accuracy: 0.8890 - val_loss: 0.2427 - val_accuracy: 0.8902\n",
      "Epoch 4/9\n",
      "8000/8000 [==============================] - 38s 5ms/step - loss: 0.2387 - accuracy: 0.8907 - val_loss: 0.2427 - val_accuracy: 0.8904\n",
      "Epoch 5/9\n",
      "8000/8000 [==============================] - 36s 4ms/step - loss: 0.2373 - accuracy: 0.8907 - val_loss: 0.2409 - val_accuracy: 0.8878\n",
      "Epoch 6/9\n",
      "8000/8000 [==============================] - 37s 5ms/step - loss: 0.2369 - accuracy: 0.8914 - val_loss: 0.2398 - val_accuracy: 0.8892\n",
      "Epoch 7/9\n",
      "8000/8000 [==============================] - 35s 4ms/step - loss: 0.2363 - accuracy: 0.8918 - val_loss: 0.2391 - val_accuracy: 0.8937\n",
      "Epoch 8/9\n",
      "8000/8000 [==============================] - 35s 4ms/step - loss: 0.2322 - accuracy: 0.8928 - val_loss: 0.2368 - val_accuracy: 0.8904\n",
      "Epoch 9/9\n",
      "8000/8000 [==============================] - 35s 4ms/step - loss: 0.2307 - accuracy: 0.8936 - val_loss: 0.2343 - val_accuracy: 0.8952\n",
      "traj length= 725 batch size= 128 \n",
      "\n",
      "n initial= 0 gap= 0\n",
      "warning!! Overlapping trajectories. gap= 0 trajectory length= 725 final_point= 725 data length 725\n",
      "traj length= 725 batch size= 128 \n",
      "\n",
      "Train on 8000 samples, validate on 2000 samples\n",
      "Epoch 1/7\n",
      "8000/8000 [==============================] - 126s 16ms/step - loss: 0.2336 - accuracy: 0.8940 - val_loss: 0.2370 - val_accuracy: 0.8913\n",
      "Epoch 2/7\n",
      "8000/8000 [==============================] - 125s 16ms/step - loss: 0.2154 - accuracy: 0.9007 - val_loss: 0.2083 - val_accuracy: 0.9050\n",
      "Epoch 3/7\n",
      "8000/8000 [==============================] - 122s 15ms/step - loss: 0.2065 - accuracy: 0.9057 - val_loss: 0.2126 - val_accuracy: 0.9017\n",
      "Epoch 4/7\n",
      "8000/8000 [==============================] - 126s 16ms/step - loss: 0.2058 - accuracy: 0.9053 - val_loss: 0.2028 - val_accuracy: 0.9061\n",
      "Epoch 5/7\n",
      "8000/8000 [==============================] - 123s 15ms/step - loss: 0.1999 - accuracy: 0.9081 - val_loss: 0.2066 - val_accuracy: 0.9043\n",
      "Epoch 6/7\n",
      "8000/8000 [==============================] - 127s 16ms/step - loss: 0.1972 - accuracy: 0.9086 - val_loss: 0.1982 - val_accuracy: 0.9100\n",
      "Epoch 7/7\n",
      "8000/8000 [==============================] - 134s 17ms/step - loss: 0.1943 - accuracy: 0.9122 - val_loss: 0.1982 - val_accuracy: 0.9083\n",
      "traj length= 325 batch size= 128 \n",
      "\n",
      "n initial= 0 gap= 0\n",
      "warning!! Overlapping trajectories. gap= 0 trajectory length= 325 final_point= 325 data length 325\n",
      "traj length= 325 batch size= 128 \n",
      "\n",
      "Train on 8000 samples, validate on 2000 samples\n",
      "Epoch 1/9\n",
      "8000/8000 [==============================] - 53s 7ms/step - loss: 0.2228 - accuracy: 0.8964 - val_loss: 0.2315 - val_accuracy: 0.8950\n",
      "Epoch 2/9\n",
      "8000/8000 [==============================] - 51s 6ms/step - loss: 0.2130 - accuracy: 0.9013 - val_loss: 0.2262 - val_accuracy: 0.8957\n",
      "Epoch 3/9\n",
      "8000/8000 [==============================] - 55s 7ms/step - loss: 0.2104 - accuracy: 0.9029 - val_loss: 0.2271 - val_accuracy: 0.8971\n",
      "Epoch 4/9\n",
      "8000/8000 [==============================] - 52s 6ms/step - loss: 0.2087 - accuracy: 0.9043 - val_loss: 0.2281 - val_accuracy: 0.8956\n",
      "Epoch 5/9\n",
      "8000/8000 [==============================] - 51s 6ms/step - loss: 0.2039 - accuracy: 0.9062 - val_loss: 0.2250 - val_accuracy: 0.8943\n",
      "Epoch 6/9\n",
      "8000/8000 [==============================] - 51s 6ms/step - loss: 0.2062 - accuracy: 0.9052 - val_loss: 0.2241 - val_accuracy: 0.8957\n",
      "Epoch 7/9\n",
      "8000/8000 [==============================] - 52s 6ms/step - loss: 0.2017 - accuracy: 0.9081 - val_loss: 0.2217 - val_accuracy: 0.8970\n",
      "Epoch 8/9\n",
      "8000/8000 [==============================] - 51s 6ms/step - loss: 0.2011 - accuracy: 0.9087 - val_loss: 0.2204 - val_accuracy: 0.8982\n",
      "Epoch 9/9\n",
      "8000/8000 [==============================] - 56s 7ms/step - loss: 0.1998 - accuracy: 0.9087 - val_loss: 0.2242 - val_accuracy: 0.8971\n",
      "traj length= 625 batch size= 128 \n",
      "\n",
      "n initial= 0 gap= 0\n",
      "warning!! Overlapping trajectories. gap= 0 trajectory length= 625 final_point= 625 data length 625\n",
      "traj length= 625 batch size= 128 \n",
      "\n",
      "Train on 8000 samples, validate on 2000 samples\n",
      "Epoch 1/7\n",
      "8000/8000 [==============================] - 104s 13ms/step - loss: 0.1924 - accuracy: 0.9129 - val_loss: 0.1811 - val_accuracy: 0.9129\n",
      "Epoch 2/7\n",
      "8000/8000 [==============================] - 103s 13ms/step - loss: 0.1881 - accuracy: 0.9145 - val_loss: 0.1888 - val_accuracy: 0.9131\n",
      "Epoch 3/7\n",
      "8000/8000 [==============================] - 109s 14ms/step - loss: 0.1847 - accuracy: 0.9154 - val_loss: 0.1877 - val_accuracy: 0.9094\n"
     ]
    },
    {
     "name": "stdout",
     "output_type": "stream",
     "text": [
      "Epoch 4/7\n",
      "8000/8000 [==============================] - 108s 13ms/step - loss: 0.1837 - accuracy: 0.9151 - val_loss: 0.1788 - val_accuracy: 0.9144\n",
      "Epoch 5/7\n",
      "8000/8000 [==============================] - 107s 13ms/step - loss: 0.1840 - accuracy: 0.9157 - val_loss: 0.1801 - val_accuracy: 0.9123\n",
      "Epoch 6/7\n",
      "8000/8000 [==============================] - 113s 14ms/step - loss: 0.1801 - accuracy: 0.9178 - val_loss: 0.1814 - val_accuracy: 0.9102\n",
      "Epoch 7/7\n",
      "8000/8000 [==============================] - 106s 13ms/step - loss: 0.1788 - accuracy: 0.9197 - val_loss: 0.1789 - val_accuracy: 0.9140\n",
      "traj length= 525 batch size= 128 \n",
      "\n",
      "n initial= 0 gap= 0\n",
      "warning!! Overlapping trajectories. gap= 0 trajectory length= 525 final_point= 525 data length 525\n",
      "traj length= 525 batch size= 128 \n",
      "\n",
      "Train on 8000 samples, validate on 2000 samples\n",
      "Epoch 1/8\n",
      "8000/8000 [==============================] - 87s 11ms/step - loss: 0.1901 - accuracy: 0.9121 - val_loss: 0.1954 - val_accuracy: 0.9079\n",
      "Epoch 2/8\n",
      "8000/8000 [==============================] - 89s 11ms/step - loss: 0.1862 - accuracy: 0.9140 - val_loss: 0.1863 - val_accuracy: 0.9125\n",
      "Epoch 3/8\n",
      "8000/8000 [==============================] - 87s 11ms/step - loss: 0.1803 - accuracy: 0.9172 - val_loss: 0.1833 - val_accuracy: 0.9130\n",
      "Epoch 4/8\n",
      "8000/8000 [==============================] - 86s 11ms/step - loss: 0.1803 - accuracy: 0.9164 - val_loss: 0.1840 - val_accuracy: 0.9113\n",
      "Epoch 5/8\n",
      "8000/8000 [==============================] - 89s 11ms/step - loss: 0.1792 - accuracy: 0.9168 - val_loss: 0.1843 - val_accuracy: 0.9170\n",
      "Epoch 6/8\n",
      "8000/8000 [==============================] - 88s 11ms/step - loss: 0.1784 - accuracy: 0.9194 - val_loss: 0.1892 - val_accuracy: 0.9133\n",
      "Epoch 7/8\n",
      "8000/8000 [==============================] - 86s 11ms/step - loss: 0.1786 - accuracy: 0.9172 - val_loss: 0.1829 - val_accuracy: 0.9146\n",
      "Epoch 8/8\n",
      "8000/8000 [==============================] - 86s 11ms/step - loss: 0.1771 - accuracy: 0.9192 - val_loss: 0.1919 - val_accuracy: 0.9100\n",
      "traj length= 425 batch size= 128 \n",
      "\n",
      "n initial= 0 gap= 0\n",
      "warning!! Overlapping trajectories. gap= 0 trajectory length= 425 final_point= 425 data length 425\n",
      "traj length= 425 batch size= 128 \n",
      "\n",
      "Train on 8000 samples, validate on 2000 samples\n",
      "Epoch 1/8\n",
      "8000/8000 [==============================] - 73s 9ms/step - loss: 0.1938 - accuracy: 0.9104 - val_loss: 0.1946 - val_accuracy: 0.9107\n",
      "Epoch 2/8\n",
      "8000/8000 [==============================] - 69s 9ms/step - loss: 0.1858 - accuracy: 0.9125 - val_loss: 0.1926 - val_accuracy: 0.9145\n",
      "Epoch 3/8\n",
      "8000/8000 [==============================] - 69s 9ms/step - loss: 0.1850 - accuracy: 0.9130 - val_loss: 0.1915 - val_accuracy: 0.9128\n",
      "Epoch 4/8\n",
      "8000/8000 [==============================] - 69s 9ms/step - loss: 0.1792 - accuracy: 0.9177 - val_loss: 0.1960 - val_accuracy: 0.9121\n",
      "Epoch 5/8\n",
      "8000/8000 [==============================] - 73s 9ms/step - loss: 0.1794 - accuracy: 0.9189 - val_loss: 0.1997 - val_accuracy: 0.9079\n",
      "Epoch 6/8\n",
      "8000/8000 [==============================] - 69s 9ms/step - loss: 0.1811 - accuracy: 0.9162 - val_loss: 0.1920 - val_accuracy: 0.9104\n",
      "Epoch 7/8\n",
      "8000/8000 [==============================] - 69s 9ms/step - loss: 0.1773 - accuracy: 0.9195 - val_loss: 0.1964 - val_accuracy: 0.9100\n",
      "Epoch 8/8\n",
      "8000/8000 [==============================] - 69s 9ms/step - loss: 0.1752 - accuracy: 0.9206 - val_loss: 0.1993 - val_accuracy: 0.9085\n"
     ]
    }
   ],
   "source": [
    "for batch_size in [32,128]:#[32, 128]:\n",
    "    j=0\n",
    "   \n",
    "    for i in [25,925,125,825,225,725,325,625,525,425]:\n",
    "    \n",
    "        print('traj length=',i,'batch size=', batch_size,'\\n')\n",
    "\n",
    "        test_tim_step=np.arange(i)\n",
    "        show_time_coll=np.tile(test_tim_step,(len(bb[i]),1))\n",
    "        data_show,label_show,traj_show,times_show=data_split(np.asarray(bb[i]),\n",
    "                                                             show_time_coll,labels=np.asarray(ccm[i]),\n",
    "                                                             start_row=0,num_row=10000,traj_len=i,n_in=0,\n",
    "                                                             n_samples=1,p_p=1,hmin=0.25,hmax=0.75,\n",
    "                                                             limith=False,normalization=True)\n",
    "\n",
    "        print('traj length=',i,'batch size=', batch_size,'\\n')\n",
    "        history_classi_norm_chi = model_classi_norm_chi.fit(traj_show.reshape(len(traj_show),i,1), \n",
    "                        label_show,validation_split=0.2,\n",
    "                        epochs=10-int(i/200), \n",
    "                        batch_size=batch_size,\n",
    "                        shuffle=True)\n",
    "    #                     ,validation_data=(data_val, \n",
    "    #                     label_val))"
   ]
  },
  {
   "cell_type": "code",
   "execution_count": 66,
   "metadata": {},
   "outputs": [
    {
     "data": {
      "text/plain": [
       "array([1.0000001 , 1.0000001 , 0.99999994, 1.        , 1.        ,\n",
       "       0.99999994, 1.        , 1.        , 1.        , 1.0000001 ],\n",
       "      dtype=float32)"
      ]
     },
     "execution_count": 66,
     "metadata": {},
     "output_type": "execute_result"
    }
   ],
   "source": [
    "np.sum(model_classi_norm_chi.predict(traj_show.reshape(len(traj_show),i,1)[:10]),axis=1)"
   ]
  },
  {
   "cell_type": "code",
   "execution_count": 62,
   "metadata": {},
   "outputs": [
    {
     "data": {
      "text/plain": [
       "array([1.        , 0.99999994, 0.9999999 , 1.0000001 , 0.9999999 ,\n",
       "       1.0000001 , 0.9999999 , 1.        , 1.        , 1.        ],\n",
       "      dtype=float32)"
      ]
     },
     "execution_count": 62,
     "metadata": {},
     "output_type": "execute_result"
    }
   ],
   "source": [
    "np.sum(model_classi_norm_chi.predict(traj_show.reshape(len(traj_show),i,1)[:10]),axis=1)"
   ]
  },
  {
   "cell_type": "code",
   "execution_count": 84,
   "metadata": {},
   "outputs": [
    {
     "name": "stdout",
     "output_type": "stream",
     "text": [
      "n initial= 0 gap= 0\n",
      "warning!! Overlapping trajectories. gap= 0 trajectory length= 25 final_point= 25 data length 25\n",
      "0.34\n",
      "n initial= 0 gap= 0\n",
      "warning!! Overlapping trajectories. gap= 0 trajectory length= 125 final_point= 125 data length 125\n",
      "0.589\n",
      "n initial= 0 gap= 0\n",
      "warning!! Overlapping trajectories. gap= 0 trajectory length= 225 final_point= 225 data length 225\n",
      "0.684\n",
      "n initial= 0 gap= 0\n",
      "warning!! Overlapping trajectories. gap= 0 trajectory length= 325 final_point= 325 data length 325\n",
      "0.747\n",
      "n initial= 0 gap= 0\n",
      "warning!! Overlapping trajectories. gap= 0 trajectory length= 425 final_point= 425 data length 425\n",
      "0.768\n",
      "n initial= 0 gap= 0\n",
      "warning!! Overlapping trajectories. gap= 0 trajectory length= 525 final_point= 525 data length 525\n",
      "0.793\n",
      "n initial= 0 gap= 0\n",
      "warning!! Overlapping trajectories. gap= 0 trajectory length= 625 final_point= 625 data length 625\n",
      "0.791\n",
      "n initial= 0 gap= 0\n",
      "warning!! Overlapping trajectories. gap= 0 trajectory length= 725 final_point= 725 data length 725\n",
      "0.802\n",
      "n initial= 0 gap= 0\n",
      "warning!! Overlapping trajectories. gap= 0 trajectory length= 825 final_point= 825 data length 825\n",
      "0.78\n",
      "n initial= 0 gap= 0\n",
      "warning!! Overlapping trajectories. gap= 0 trajectory length= 925 final_point= 925 data length 925\n",
      "0.764\n"
     ]
    }
   ],
   "source": [
    "from sklearn.metrics import f1_score\n",
    "for i in cl:\n",
    "    groundtruth = np.argmax(ccvm[i], axis = 1)\n",
    "    test_tim_step=np.arange(i)\n",
    "    show_time_coll=np.tile(test_tim_step,(len(bbv[i]),1))\n",
    "    data_show,label_show,traj_show,times_show=data_split(np.asarray(bbv[i]),\n",
    "                                                             show_time_coll,labels=np.asarray(ccvm[i]),\n",
    "                                                             start_row=0,num_row=10000,traj_len=i,n_in=0,\n",
    "                                                             n_samples=1,p_p=1,hmin=0.25,hmax=0.75,\n",
    "                                                             limith=False,normalization=True)\n",
    "\n",
    "    predictions = np.argmax(model_classi_norm_chi.predict(traj_show.reshape(len(traj_show),i,1)), axis = 1)\n",
    "\n",
    "    print(f1_score(groundtruth, predictions, average='micro'))\n",
    "                            "
   ]
  },
  {
   "cell_type": "code",
   "execution_count": 94,
   "metadata": {},
   "outputs": [],
   "source": [
    "from sklearn.metrics import confusion_matrix\n",
    "\n",
    "conf = confusion_matrix(groundtruth, predictions)\n",
    "\n",
    "fig, ax = plt.subplots(figsize = (7,7))\n",
    "ax.matshow(conf)\n",
    "for (i, j), z in np.ndenumerate(conf):\n",
    "    ax.text(j, i, '{:0.3f}'.format(z), ha='center', va='center', fontsize = 16)\n",
    "ax.set_xticklabels(['c','ATTM','CTRW','FBM','LW','SBM'], fontsize = 16)\n",
    "ax.set_yticklabels(['a','ATTM','CTRW','FBM','LW','SBM'], fontsize = 16)\n",
    "ax.set_xlabel('Predicted class', fontsize = 16)\n",
    "ax.set_ylabel('Groundtruth', fontsize = 16)\n",
    "ax.xaxis.set_ticks_position('bottom') "
   ]
  },
  {
   "cell_type": "code",
   "execution_count": 97,
   "metadata": {},
   "outputs": [],
   "source": [
    "import csv\n",
    "trajs_from_files = csv.reader(open('datasets/development_for_scoring_new/task2.txt','r'), delimiter=';', \n",
    "                                        lineterminator='\\n',quoting=csv.QUOTE_NONNUMERIC)\n",
    "validation = [[],[],[]]\n",
    "for trajs in enumerate(trajs_from_files):\n",
    "    validation[int(trajs[1][0])-1].append(trajs[1][1:])\n",
    "\n",
    "predictions=[]\n",
    "\n",
    "for traj in validation[0]:\n",
    "    traj=(traj-np.mean(traj))/np.std(traj)\n",
    "    #print(np.mean(traj),np.std(traj))\n",
    "    predictions.append(model_classi_norm_chi.predict(np.asarray(traj).reshape(1,len(traj),1)).flatten())\n",
    "    "
   ]
  },
  {
   "cell_type": "code",
   "execution_count": 109,
   "metadata": {},
   "outputs": [
    {
     "data": {
      "text/plain": [
       "5"
      ]
     },
     "execution_count": 109,
     "metadata": {},
     "output_type": "execute_result"
    }
   ],
   "source": [
    "len(predictions[0])"
   ]
  },
  {
   "cell_type": "code",
   "execution_count": 113,
   "metadata": {},
   "outputs": [
    {
     "data": {
      "text/plain": [
       "0.0006655277"
      ]
     },
     "execution_count": 113,
     "metadata": {},
     "output_type": "execute_result"
    }
   ],
   "source": [
    "predictions[0][4]"
   ]
  },
  {
   "cell_type": "code",
   "execution_count": 118,
   "metadata": {},
   "outputs": [],
   "source": [
    "pred_to_txt = np.ones((len(predictions), 6))\n",
    "for i in range(len(predictions)):\n",
    "    for j in range(5):\n",
    "        \n",
    "        pred_to_txt[i, j+1] = predictions[i][j]\n",
    "\n",
    "np.savetxt('task2.txt', pred_to_txt.astype(float), fmt = '%1.5f', delimiter = ';')"
   ]
  },
  {
   "cell_type": "code",
   "execution_count": 120,
   "metadata": {},
   "outputs": [],
   "source": [
    "model_classi_norm_chi.save('task2_1d_classi_norm_chi.h5')\n"
   ]
  },
  {
   "cell_type": "markdown",
   "metadata": {},
   "source": [
    "# Specialize the net on traj that are 100 long"
   ]
  },
  {
   "cell_type": "code",
   "execution_count": 6,
   "metadata": {},
   "outputs": [],
   "source": [
    "model_classi_norm_100=load_model('task2_1d_classi_norm_chi.h5')\n"
   ]
  },
  {
   "cell_type": "code",
   "execution_count": 7,
   "metadata": {},
   "outputs": [
    {
     "name": "stdout",
     "output_type": "stream",
     "text": [
      "Creating a dataset for task(s) 2 and dimension(s) 1.\n",
      "Generating dataset for dimension 1.\n"
     ]
    },
    {
     "name": "stderr",
     "output_type": "stream",
     "text": [
      "/Users/stebo/anaconda3/lib/python3.7/site-packages/fbm/fbm.py:172: UserWarning: Combination of increments n and Hurst value H invalid for Davies-Harte method. Reverting to Hosking method. Occurs when n is small and Hurst is close to 1. \n",
      "  \"Combination of increments n and Hurst value H \"\n",
      "/Users/stebo/anaconda3/lib/python3.7/site-packages/andi/diffusion_models.py:85: RuntimeWarning: overflow encountered in power\n",
      "  dt = (1-np.random.rand(T))**(-1/sigma)\n"
     ]
    }
   ],
   "source": [
    "bb={}\n",
    "cc={}\n",
    "cl=[100]\n",
    "j=0\n",
    "for i in cl:\n",
    "    X1, Y1, X2, Y2, X3, Y3 = AD.andi_dataset(N = 50000, tasks = 2, dimensions = 1,\n",
    "                                             min_T = i, max_T = i+1, save_dataset=True, path_datasets=str(i)+'multi')\n",
    "    bb[i]=X2[0]\n",
    "    cc[i]=Y2[0]"
   ]
  },
  {
   "cell_type": "code",
   "execution_count": 9,
   "metadata": {},
   "outputs": [
    {
     "name": "stdout",
     "output_type": "stream",
     "text": [
      "[[0. 0. 0. 0. 0.]\n",
      " [0. 0. 0. 0. 0.]\n",
      " [0. 0. 0. 0. 0.]\n",
      " ...\n",
      " [0. 0. 0. 0. 0.]\n",
      " [0. 0. 0. 0. 0.]\n",
      " [0. 0. 0. 0. 0.]]\n",
      "0.0\n"
     ]
    }
   ],
   "source": [
    "ccm={}\n",
    "for i in cl:\n",
    "    ccm[i]=np.zeros((len(cc[i]),5))\n",
    "    print(ccm[i])\n",
    "    print(ccm[i][j][2])\n",
    "    for j in range(len(cc[i])):\n",
    "        ccm[i][j][int(cc[i][j])]=1"
   ]
  },
  {
   "cell_type": "code",
   "execution_count": 10,
   "metadata": {},
   "outputs": [
    {
     "data": {
      "text/plain": [
       "{100: array([[0., 1., 0., 0., 0.],\n",
       "        [1., 0., 0., 0., 0.],\n",
       "        [0., 0., 0., 0., 1.],\n",
       "        ...,\n",
       "        [0., 0., 1., 0., 0.],\n",
       "        [0., 1., 0., 0., 0.],\n",
       "        [1., 0., 0., 0., 0.]])}"
      ]
     },
     "execution_count": 10,
     "metadata": {},
     "output_type": "execute_result"
    }
   ],
   "source": [
    "ccm"
   ]
  },
  {
   "cell_type": "code",
   "execution_count": 11,
   "metadata": {},
   "outputs": [
    {
     "name": "stdout",
     "output_type": "stream",
     "text": [
      "traj length= 100 batch size= 32 \n",
      "\n",
      "n initial= 0 gap= 0\n",
      "warning!! Overlapping trajectories. gap= 0 trajectory length= 100 final_point= 100 data length 100\n",
      "traj length= 100 batch size= 32 \n",
      "\n",
      "Train on 40000 samples, validate on 10000 samples\n",
      "Epoch 1/10\n",
      "40000/40000 [==============================] - 149s 4ms/step - loss: 0.2630 - accuracy: 0.8793 - val_loss: 0.2549 - val_accuracy: 0.8825\n",
      "Epoch 2/10\n",
      "40000/40000 [==============================] - 141s 4ms/step - loss: 0.2499 - accuracy: 0.8853 - val_loss: 0.2508 - val_accuracy: 0.8860\n",
      "Epoch 3/10\n",
      "40000/40000 [==============================] - 165s 4ms/step - loss: 0.2430 - accuracy: 0.8882 - val_loss: 0.2448 - val_accuracy: 0.8874\n",
      "Epoch 4/10\n",
      "40000/40000 [==============================] - 145s 4ms/step - loss: 0.2381 - accuracy: 0.8904 - val_loss: 0.2562 - val_accuracy: 0.8814\n",
      "Epoch 5/10\n",
      "40000/40000 [==============================] - 135s 3ms/step - loss: 0.2338 - accuracy: 0.8919 - val_loss: 0.2377 - val_accuracy: 0.8897\n",
      "Epoch 6/10\n",
      "40000/40000 [==============================] - 130s 3ms/step - loss: 0.2306 - accuracy: 0.8932 - val_loss: 0.2373 - val_accuracy: 0.8900\n",
      "Epoch 7/10\n",
      "40000/40000 [==============================] - 131s 3ms/step - loss: 0.2279 - accuracy: 0.8941 - val_loss: 0.2317 - val_accuracy: 0.8926\n",
      "Epoch 8/10\n",
      "40000/40000 [==============================] - 131s 3ms/step - loss: 0.2251 - accuracy: 0.8964 - val_loss: 0.2374 - val_accuracy: 0.8889\n",
      "Epoch 9/10\n",
      "40000/40000 [==============================] - 136s 3ms/step - loss: 0.2230 - accuracy: 0.8970 - val_loss: 0.2299 - val_accuracy: 0.8932\n",
      "Epoch 10/10\n",
      "40000/40000 [==============================] - 184s 5ms/step - loss: 0.2207 - accuracy: 0.8983 - val_loss: 0.2314 - val_accuracy: 0.8926\n",
      "traj length= 100 batch size= 128 \n",
      "\n",
      "n initial= 0 gap= 0\n",
      "warning!! Overlapping trajectories. gap= 0 trajectory length= 100 final_point= 100 data length 100\n",
      "traj length= 100 batch size= 128 \n",
      "\n",
      "Train on 40000 samples, validate on 10000 samples\n",
      "Epoch 1/10\n",
      "40000/40000 [==============================] - 68s 2ms/step - loss: 0.2113 - accuracy: 0.9031 - val_loss: 0.2259 - val_accuracy: 0.8947\n",
      "Epoch 2/10\n",
      "40000/40000 [==============================] - 54s 1ms/step - loss: 0.2095 - accuracy: 0.9037 - val_loss: 0.2279 - val_accuracy: 0.8926\n",
      "Epoch 3/10\n",
      "40000/40000 [==============================] - 61s 2ms/step - loss: 0.2085 - accuracy: 0.9042 - val_loss: 0.2271 - val_accuracy: 0.8934\n",
      "Epoch 4/10\n",
      "40000/40000 [==============================] - 55s 1ms/step - loss: 0.2082 - accuracy: 0.9043 - val_loss: 0.2268 - val_accuracy: 0.8948\n",
      "Epoch 5/10\n",
      "40000/40000 [==============================] - 56s 1ms/step - loss: 0.2078 - accuracy: 0.9042 - val_loss: 0.2254 - val_accuracy: 0.8948\n",
      "Epoch 6/10\n",
      "40000/40000 [==============================] - 54s 1ms/step - loss: 0.2070 - accuracy: 0.9054 - val_loss: 0.2301 - val_accuracy: 0.8919\n",
      "Epoch 7/10\n",
      "40000/40000 [==============================] - 54s 1ms/step - loss: 0.2064 - accuracy: 0.9052 - val_loss: 0.2244 - val_accuracy: 0.8956\n",
      "Epoch 8/10\n",
      "40000/40000 [==============================] - 54s 1ms/step - loss: 0.2056 - accuracy: 0.9056 - val_loss: 0.2267 - val_accuracy: 0.8953\n",
      "Epoch 9/10\n",
      "40000/40000 [==============================] - 54s 1ms/step - loss: 0.2042 - accuracy: 0.9061 - val_loss: 0.2294 - val_accuracy: 0.8933\n",
      "Epoch 10/10\n",
      "40000/40000 [==============================] - 54s 1ms/step - loss: 0.2038 - accuracy: 0.9063 - val_loss: 0.2272 - val_accuracy: 0.8943\n"
     ]
    }
   ],
   "source": [
    "for batch_size in [32,128]:#[32, 128]:\n",
    "    j=0\n",
    "   \n",
    "    for i in [100]:\n",
    "    \n",
    "        print('traj length=',i,'batch size=', batch_size,'\\n')\n",
    "\n",
    "        test_tim_step=np.arange(i)\n",
    "        show_time_coll=np.tile(test_tim_step,(len(bb[i]),1))\n",
    "        data_show,label_show,traj_show,times_show=data_split(np.asarray(bb[i]),\n",
    "                                                             show_time_coll,labels=np.asarray(ccm[i]),\n",
    "                                                             start_row=0,num_row=len(bb[i]),traj_len=i,n_in=0,\n",
    "                                                             n_samples=1,p_p=1,hmin=0,hmax=2,\n",
    "                                                             limith=False,normalization=True)\n",
    "\n",
    "        print('traj length=',i,'batch size=', batch_size,'\\n')\n",
    "        history_classi_norm_100 = model_classi_norm_100.fit(traj_show.reshape(len(traj_show),i,1), \n",
    "                        label_show,validation_split=0.2,\n",
    "                        epochs=10-int(i/200), \n",
    "                        batch_size=batch_size,\n",
    "                        shuffle=True)\n",
    "    #                     ,validation_data=(data_val, \n",
    "    #                     label_val))"
   ]
  },
  {
   "cell_type": "code",
   "execution_count": 19,
   "metadata": {},
   "outputs": [
    {
     "name": "stdout",
     "output_type": "stream",
     "text": [
      "Creating a dataset for task(s) 2 and dimension(s) 1.\n",
      "Generating dataset for dimension 1.\n"
     ]
    },
    {
     "name": "stderr",
     "output_type": "stream",
     "text": [
      "/Users/stebo/anaconda3/lib/python3.7/site-packages/fbm/fbm.py:172: UserWarning: Combination of increments n and Hurst value H invalid for Davies-Harte method. Reverting to Hosking method. Occurs when n is small and Hurst is close to 1. \n",
      "  \"Combination of increments n and Hurst value H \"\n",
      "/Users/stebo/anaconda3/lib/python3.7/site-packages/andi/diffusion_models.py:85: RuntimeWarning: overflow encountered in power\n",
      "  dt = (1-np.random.rand(T))**(-1/sigma)\n"
     ]
    }
   ],
   "source": [
    "bbv={}\n",
    "ccv={}\n",
    "cl=[100]\n",
    "j=0\n",
    "for i in cl:\n",
    "    X1, Y1, X2, Y2, X3, Y3 = AD.andi_dataset(N = 1000, tasks = 2, dimensions = 1,\n",
    "                                             min_T = i, max_T = i+1, save_dataset=True, path_datasets=str(i)+'multi_val')\n",
    "    bbv[i]=X2[0]\n",
    "    ccv[i]=Y2[0]"
   ]
  },
  {
   "cell_type": "code",
   "execution_count": 20,
   "metadata": {},
   "outputs": [
    {
     "name": "stdout",
     "output_type": "stream",
     "text": [
      "[[0. 0. 0. 0. 0.]\n",
      " [0. 0. 0. 0. 0.]\n",
      " [0. 0. 0. 0. 0.]\n",
      " ...\n",
      " [0. 0. 0. 0. 0.]\n",
      " [0. 0. 0. 0. 0.]\n",
      " [0. 0. 0. 0. 0.]]\n",
      "0.0\n"
     ]
    }
   ],
   "source": [
    "ccvm={}\n",
    "for i in cl:\n",
    "    ccvm[i]=np.zeros((len(ccv[i]),5))\n",
    "    print(ccvm[i])\n",
    "    print(ccvm[i][j][2])\n",
    "    for j in range(len(ccv[i])):\n",
    "        ccvm[i][j][int(ccv[i][j])]=1"
   ]
  },
  {
   "cell_type": "code",
   "execution_count": 21,
   "metadata": {},
   "outputs": [
    {
     "name": "stdout",
     "output_type": "stream",
     "text": [
      "n initial= 0 gap= 0\n",
      "warning!! Overlapping trajectories. gap= 0 trajectory length= 100 final_point= 100 data length 100\n",
      "0.691\n"
     ]
    }
   ],
   "source": [
    "from sklearn.metrics import f1_score\n",
    "for i in np.array([100]):\n",
    "    groundtruth = np.argmax(ccvm[i], axis = 1)\n",
    "    test_tim_step=np.arange(i)\n",
    "    show_time_coll=np.tile(test_tim_step,(len(bbv[i]),1))\n",
    "    data_show,label_show,traj_show,times_show=data_split(np.asarray(bbv[i]),\n",
    "                                                             show_time_coll,labels=np.asarray(ccvm[i]),\n",
    "                                                             start_row=0,num_row=len(bbv[i]),traj_len=i,n_in=0,\n",
    "                                                             n_samples=1,p_p=1,hmin=0.25,hmax=0.75,\n",
    "                                                             limith=False,normalization=True)\n",
    "\n",
    "    predictions = np.argmax(model_classi_norm_100.predict(traj_show.reshape(len(traj_show),i,1)), axis = 1)\n",
    "\n",
    "    print(f1_score(groundtruth, predictions, average='micro'))\n",
    "                            "
   ]
  },
  {
   "cell_type": "code",
   "execution_count": 22,
   "metadata": {},
   "outputs": [
    {
     "data": {
      "image/png": "[encoded data removed]",
      "text/plain": [
       "<Figure size 504x504 with 1 Axes>"
      ]
     },
     "metadata": {
      "needs_background": "light"
     },
     "output_type": "display_data"
    }
   ],
   "source": [
    "from sklearn.metrics import confusion_matrix\n",
    "\n",
    "conf = confusion_matrix(groundtruth, predictions)\n",
    "\n",
    "fig, ax = plt.subplots(figsize = (7,7))\n",
    "ax.matshow(conf)\n",
    "for (i, j), z in np.ndenumerate(conf):\n",
    "    ax.text(j, i, '{:0.3f}'.format(z), ha='center', va='center', fontsize = 16)\n",
    "ax.set_xticklabels(['c','ATTM','CTRW','FBM','LW','SBM'], fontsize = 16)\n",
    "ax.set_yticklabels(['a','ATTM','CTRW','FBM','LW','SBM'], fontsize = 16)\n",
    "ax.set_xlabel('Predicted class', fontsize = 16)\n",
    "ax.set_ylabel('Groundtruth', fontsize = 16)\n",
    "ax.xaxis.set_ticks_position('bottom') "
   ]
  },
  {
   "cell_type": "code",
   "execution_count": 15,
   "metadata": {},
   "outputs": [],
   "source": [
    "model_classi_norm_100.save('task2_1d_classi_norm_100.h5')\n"
   ]
  },
  {
   "cell_type": "markdown",
   "metadata": {},
   "source": [
    "# Specialize the net on traj that are 750 long"
   ]
  },
  {
   "cell_type": "code",
   "execution_count": 26,
   "metadata": {},
   "outputs": [],
   "source": [
    "model_classi_norm_750=load_model('task2_1d_classi_norm_chi.h5')\n"
   ]
  },
  {
   "cell_type": "code",
   "execution_count": 27,
   "metadata": {},
   "outputs": [
    {
     "name": "stdout",
     "output_type": "stream",
     "text": [
      "Creating a dataset for task(s) 2 and dimension(s) 1.\n",
      "Generating dataset for dimension 1.\n"
     ]
    },
    {
     "name": "stderr",
     "output_type": "stream",
     "text": [
      "/Users/stebo/anaconda3/lib/python3.7/site-packages/fbm/fbm.py:172: UserWarning: Combination of increments n and Hurst value H invalid for Davies-Harte method. Reverting to Hosking method. Occurs when n is small and Hurst is close to 1. \n",
      "  \"Combination of increments n and Hurst value H \"\n",
      "/Users/stebo/anaconda3/lib/python3.7/site-packages/andi/diffusion_models.py:85: RuntimeWarning: overflow encountered in power\n",
      "  dt = (1-np.random.rand(T))**(-1/sigma)\n"
     ]
    }
   ],
   "source": [
    "bb={}\n",
    "cc={}\n",
    "cl=[750]\n",
    "j=0\n",
    "for i in cl:\n",
    "    X1, Y1, X2, Y2, X3, Y3 = AD.andi_dataset(N = 50000, tasks = 2, dimensions = 1,\n",
    "                                             min_T = i, max_T = i+1, save_dataset=True, path_datasets=str(i)+'multi')\n",
    "    bb[i]=X2[0]\n",
    "    cc[i]=Y2[0]"
   ]
  },
  {
   "cell_type": "code",
   "execution_count": 29,
   "metadata": {},
   "outputs": [
    {
     "name": "stdout",
     "output_type": "stream",
     "text": [
      "[[0. 0. 0. 0. 0.]\n",
      " [0. 0. 0. 0. 0.]\n",
      " [0. 0. 0. 0. 0.]\n",
      " ...\n",
      " [0. 0. 0. 0. 0.]\n",
      " [0. 0. 0. 0. 0.]\n",
      " [0. 0. 0. 0. 0.]]\n",
      "0.0\n"
     ]
    }
   ],
   "source": [
    "ccm={}\n",
    "for i in cl:\n",
    "    ccm[i]=np.zeros((len(cc[i]),5))\n",
    "    print(ccm[i])\n",
    "    print(ccm[i][j][2])\n",
    "    for j in range(len(cc[i])):\n",
    "        ccm[i][j][int(cc[i][j])]=1"
   ]
  },
  {
   "cell_type": "code",
   "execution_count": 30,
   "metadata": {},
   "outputs": [
    {
     "name": "stdout",
     "output_type": "stream",
     "text": [
      "traj length= 750 batch size= 32 \n",
      "\n",
      "n initial= 0 gap= 0\n",
      "warning!! Overlapping trajectories. gap= 0 trajectory length= 750 final_point= 750 data length 750\n",
      "traj length= 750 batch size= 32 \n",
      "\n",
      "Train on 40000 samples, validate on 10000 samples\n",
      "Epoch 1/7\n",
      "40000/40000 [==============================] - 988s 25ms/step - loss: 0.2012 - accuracy: 0.9076 - val_loss: 0.1758 - val_accuracy: 0.9203\n",
      "Epoch 2/7\n",
      "40000/40000 [==============================] - 2133s 53ms/step - loss: 0.1808 - accuracy: 0.9186 - val_loss: 0.3767 - val_accuracy: 0.8174\n",
      "Epoch 3/7\n",
      "40000/40000 [==============================] - 1656s 41ms/step - loss: 0.2235 - accuracy: 0.8973 - val_loss: 0.1933 - val_accuracy: 0.9125\n",
      "Epoch 4/7\n",
      "40000/40000 [==============================] - 951s 24ms/step - loss: 0.1796 - accuracy: 0.9178 - val_loss: 0.1693 - val_accuracy: 0.9211\n",
      "Epoch 5/7\n",
      "40000/40000 [==============================] - 927s 23ms/step - loss: 0.1675 - accuracy: 0.9243 - val_loss: 0.1537 - val_accuracy: 0.9300\n",
      "Epoch 6/7\n",
      "40000/40000 [==============================] - 925s 23ms/step - loss: 0.1590 - accuracy: 0.9279 - val_loss: 0.1551 - val_accuracy: 0.9316\n",
      "Epoch 7/7\n",
      "40000/40000 [==============================] - 1003s 25ms/step - loss: 0.1537 - accuracy: 0.9302 - val_loss: 0.1549 - val_accuracy: 0.9313\n",
      "traj length= 750 batch size= 128 \n",
      "\n",
      "n initial= 0 gap= 0\n",
      "warning!! Overlapping trajectories. gap= 0 trajectory length= 750 final_point= 750 data length 750\n",
      "traj length= 750 batch size= 128 \n",
      "\n",
      "Train on 40000 samples, validate on 10000 samples\n",
      "Epoch 1/7\n",
      "40000/40000 [==============================] - 517s 13ms/step - loss: 0.1397 - accuracy: 0.9375 - val_loss: 0.1390 - val_accuracy: 0.9377\n",
      "Epoch 2/7\n",
      "40000/40000 [==============================] - 518s 13ms/step - loss: 0.1360 - accuracy: 0.9390 - val_loss: 0.1366 - val_accuracy: 0.9390\n",
      "Epoch 3/7\n",
      "40000/40000 [==============================] - 499s 12ms/step - loss: 0.1354 - accuracy: 0.9397 - val_loss: 0.1353 - val_accuracy: 0.9401\n",
      "Epoch 4/7\n",
      "40000/40000 [==============================] - 558s 14ms/step - loss: 0.1344 - accuracy: 0.9399 - val_loss: 0.1321 - val_accuracy: 0.9416\n",
      "Epoch 5/7\n",
      "40000/40000 [==============================] - 554s 14ms/step - loss: 0.1315 - accuracy: 0.9417 - val_loss: 0.1332 - val_accuracy: 0.9416\n",
      "Epoch 6/7\n",
      "40000/40000 [==============================] - 565s 14ms/step - loss: 0.1301 - accuracy: 0.9423 - val_loss: 0.1325 - val_accuracy: 0.9408\n",
      "Epoch 7/7\n",
      "40000/40000 [==============================] - 575s 14ms/step - loss: 0.1290 - accuracy: 0.9424 - val_loss: 0.1341 - val_accuracy: 0.9410\n"
     ]
    }
   ],
   "source": [
    "for batch_size in [32,128]:#[32, 128]:\n",
    "    j=0\n",
    "   \n",
    "    for i in [750]:\n",
    "    \n",
    "        print('traj length=',i,'batch size=', batch_size,'\\n')\n",
    "\n",
    "        test_tim_step=np.arange(i)\n",
    "        show_time_coll=np.tile(test_tim_step,(len(bb[i]),1))\n",
    "        data_show,label_show,traj_show,times_show=data_split(np.asarray(bb[i]),\n",
    "                                                             show_time_coll,labels=np.asarray(ccm[i]),\n",
    "                                                             start_row=0,num_row=len(bb[i]),traj_len=i,n_in=0,\n",
    "                                                             n_samples=1,p_p=1,hmin=0,hmax=2,\n",
    "                                                             limith=False,normalization=True)\n",
    "\n",
    "        print('traj length=',i,'batch size=', batch_size,'\\n')\n",
    "        history_classi_norm_750 = model_classi_norm_750.fit(traj_show.reshape(len(traj_show),i,1), \n",
    "                        label_show,validation_split=0.2,\n",
    "                        epochs=10-int(i/200), \n",
    "                        batch_size=batch_size,\n",
    "                        shuffle=True)\n",
    "    #                     ,validation_data=(data_val, \n",
    "    #                     label_val))"
   ]
  },
  {
   "cell_type": "code",
   "execution_count": 32,
   "metadata": {},
   "outputs": [
    {
     "name": "stdout",
     "output_type": "stream",
     "text": [
      "traj length= 750 batch size= 256 \n",
      "\n",
      "n initial= 0 gap= 0\n",
      "warning!! Overlapping trajectories. gap= 0 trajectory length= 750 final_point= 750 data length 750\n",
      "traj length= 750 batch size= 256 \n",
      "\n",
      "Train on 40000 samples, validate on 10000 samples\n",
      "Epoch 1/7\n",
      "40000/40000 [==============================] - 462s 12ms/step - loss: 0.1242 - accuracy: 0.9447 - val_loss: 0.1299 - val_accuracy: 0.9425\n",
      "Epoch 2/7\n",
      "40000/40000 [==============================] - 467s 12ms/step - loss: 0.1227 - accuracy: 0.9460 - val_loss: 0.1260 - val_accuracy: 0.9435\n",
      "Epoch 3/7\n",
      "40000/40000 [==============================] - 436s 11ms/step - loss: 0.1212 - accuracy: 0.9462 - val_loss: 0.1263 - val_accuracy: 0.9451\n",
      "Epoch 4/7\n",
      "40000/40000 [==============================] - 475s 12ms/step - loss: 0.1203 - accuracy: 0.9472 - val_loss: 0.1252 - val_accuracy: 0.9452\n",
      "Epoch 5/7\n",
      "40000/40000 [==============================] - 490s 12ms/step - loss: 0.1202 - accuracy: 0.9466 - val_loss: 0.1326 - val_accuracy: 0.9410\n",
      "Epoch 6/7\n",
      "40000/40000 [==============================] - 508s 13ms/step - loss: 0.1201 - accuracy: 0.9472 - val_loss: 0.1274 - val_accuracy: 0.9452\n",
      "Epoch 7/7\n",
      "40000/40000 [==============================] - 397s 10ms/step - loss: 0.1184 - accuracy: 0.9479 - val_loss: 0.1247 - val_accuracy: 0.9453\n"
     ]
    }
   ],
   "source": [
    "for batch_size in [256]:#[32, 128]:\n",
    "    j=0\n",
    "   \n",
    "    for i in [750]:\n",
    "    \n",
    "        print('traj length=',i,'batch size=', batch_size,'\\n')\n",
    "\n",
    "        test_tim_step=np.arange(i)\n",
    "        show_time_coll=np.tile(test_tim_step,(len(bb[i]),1))\n",
    "        data_show,label_show,traj_show,times_show=data_split(np.asarray(bb[i]),\n",
    "                                                             show_time_coll,labels=np.asarray(ccm[i]),\n",
    "                                                             start_row=0,num_row=len(bb[i]),traj_len=i,n_in=0,\n",
    "                                                             n_samples=1,p_p=1,hmin=0,hmax=2,\n",
    "                                                             limith=False,normalization=True)\n",
    "\n",
    "        print('traj length=',i,'batch size=', batch_size,'\\n')\n",
    "        history_classi_norm_750 = model_classi_norm_750.fit(traj_show.reshape(len(traj_show),i,1), \n",
    "                        label_show,validation_split=0.2,\n",
    "                        epochs=10-int(i/200), \n",
    "                        batch_size=batch_size,\n",
    "                        shuffle=True)\n",
    "    #                     ,validation_data=(data_val, \n",
    "    #                     label_val))"
   ]
  },
  {
   "cell_type": "code",
   "execution_count": 33,
   "metadata": {},
   "outputs": [],
   "source": [
    "model_classi_norm_750.save('task2_1d_classi_norm_750.h5')\n"
   ]
  },
  {
   "cell_type": "markdown",
   "metadata": {},
   "source": [
    "# Combine predictions of different nets"
   ]
  },
  {
   "cell_type": "code",
   "execution_count": 35,
   "metadata": {},
   "outputs": [],
   "source": [
    "model_classi_norm_chi = load_model('task2_1d_classi_norm_chi.h5')"
   ]
  },
  {
   "cell_type": "code",
   "execution_count": null,
   "metadata": {},
   "outputs": [],
   "source": [
    "model_classi_norm_750 = load_model('task2_1d_classi_norm_750.h5')"
   ]
  },
  {
   "cell_type": "code",
   "execution_count": null,
   "metadata": {},
   "outputs": [],
   "source": [
    "model_classi_norm_100 = load_model('task2_1d_classi_norm_100.h5')"
   ]
  },
  {
   "cell_type": "code",
   "execution_count": 36,
   "metadata": {},
   "outputs": [],
   "source": [
    "meta_model=[model_classi_norm_100, model_classi_norm_chi ,model_classi_norm_750]"
   ]
  },
  {
   "cell_type": "code",
   "execution_count": 37,
   "metadata": {},
   "outputs": [],
   "source": [
    "import csv\n",
    "trajs_from_files = csv.reader(open('validation_for_scoring/task2.txt','r'), delimiter=';', \n",
    "                                        lineterminator='\\n',quoting=csv.QUOTE_NONNUMERIC)\n",
    "validation = [[],[],[]]\n",
    "for trajs in enumerate(trajs_from_files):\n",
    "    validation[int(trajs[1][0])-1].append(trajs[1][1:])\n",
    "\n"
   ]
  },
  {
   "cell_type": "code",
   "execution_count": 38,
   "metadata": {},
   "outputs": [],
   "source": [
    "predictions=[]\n",
    "\n",
    "for traj in validation[0]:\n",
    "    traj=(traj-np.mean(traj))/np.std(traj)\n",
    "    #print(np.mean(traj),np.std(traj))\n",
    "    predictions.append(model_classi_norm_chi.predict(np.asarray(traj).reshape(1,len(traj),1)).flatten())\n",
    "    "
   ]
  },
  {
   "cell_type": "code",
   "execution_count": 39,
   "metadata": {},
   "outputs": [],
   "source": [
    "pred_to_txt = np.ones((len(predictions), 6))\n",
    "for i in range(len(predictions)):\n",
    "    for j in range(5):\n",
    "        \n",
    "        pred_to_txt[i, j+1] = predictions[i][j]\n",
    "\n",
    "np.savetxt('task2.txt', pred_to_txt.astype(float), fmt = '%1.5f', delimiter = ';')"
   ]
  },
  {
   "cell_type": "code",
   "execution_count": 42,
   "metadata": {},
   "outputs": [],
   "source": [
    "#Combining different models according to traj length\n",
    "predictions_comb=[]\n",
    "\n",
    "for traj in validation[0]:\n",
    "    traj=(traj-np.mean(traj))/np.std(traj)\n",
    "    jj=len(traj)\n",
    "    k=int(jj/334)\n",
    "   # print(len(traj),k)\n",
    "    \n",
    "    pr_b=meta_model[k].predict(np.asarray(traj).reshape(1,len(traj),1)).flatten()\n",
    "    if ((len(traj)-k*334>167)and(k<2)):\n",
    "    #    print(\"combine!\",len(traj),k,len(traj)-k*334)\n",
    "        pr_2b=meta_model[k+1].predict(np.asarray(traj).reshape(1,len(traj),1)).flatten()\n",
    "        pr_b=(pr_b+pr_2b)/2\n",
    "    predictions_comb.append(pr_b)\n",
    "    "
   ]
  },
  {
   "cell_type": "code",
   "execution_count": 43,
   "metadata": {},
   "outputs": [],
   "source": [
    "pred_to_txt = np.ones((len(predictions_comb), 6))\n",
    "for i in range(len(predictions_comb)):\n",
    "    for j in range(5):\n",
    "        \n",
    "        pred_to_txt[i, j+1] = predictions_comb[i][j]\n",
    "\n",
    "np.savetxt('task2_comb.txt', pred_to_txt.astype(float), fmt = '%1.5f', delimiter = ';')"
   ]
  },
  {
   "cell_type": "markdown",
   "metadata": {},
   "source": [
    "# Aykut's net with 225"
   ]
  },
  {
   "cell_type": "code",
   "execution_count": 33,
   "metadata": {},
   "outputs": [],
   "source": [
    "model = tf.keras.models.load_model('Task2_1D_recdout_225.h5')"
   ]
  },
  {
   "cell_type": "code",
   "execution_count": 7,
   "metadata": {},
   "outputs": [],
   "source": [
    "# regularize trajectories\n",
    "def data_prepare(X,Y):\n",
    "    import numpy as np \n",
    "    thr=1e-10\n",
    "    N=len(X)\n",
    "    x = np.array(X).reshape(N,i) \n",
    "    x = np.diff(x,axis=1) \n",
    "    sx = np.std(x,axis=1)\n",
    "    x = (x-np.mean(x,axis=1).reshape(len(x),1)) / np.where(sx>thr,sx,1).reshape(len(x),1)   # normalize x data\n",
    "\n",
    "    # regularize labels\n",
    "    label = []\n",
    "    label.append(np.equal(Y,0))\n",
    "    label.append(np.equal(Y,1))\n",
    "    label.append(np.equal(Y,2))\n",
    "    label.append(np.equal(Y,3))\n",
    "    label.append(np.equal(Y,4))\n",
    "    label = np.array(np.transpose(label)) + 0\n",
    "    return(x, label)"
   ]
  },
  {
   "cell_type": "code",
   "execution_count": 15,
   "metadata": {},
   "outputs": [
    {
     "name": "stdout",
     "output_type": "stream",
     "text": [
      "Creating a dataset for task(s) 2 and dimension(s) [1, 2].\n",
      "Generating dataset for dimension 1.\n",
      "Generating dataset for dimension 2.\n"
     ]
    }
   ],
   "source": [
    "bb={}\n",
    "cc={}\n",
    "cl=[225]\n",
    "j=0\n",
    "for i in cl:\n",
    "    X1, Y1, X2, Y2, X3, Y3 = AD.andi_dataset(N = 5000, tasks = 2, dimensions = [1,2],\n",
    "                                             min_T = i, max_T = i+1, save_dataset=True, path_datasets=str(i)+'multi')\n",
    "    bb[i]=X2[0]\n",
    "    cc[i]=Y2[0]"
   ]
  },
  {
   "cell_type": "markdown",
   "metadata": {},
   "source": [
    "How does it perform when classifiying radial trajectories instead of 1d"
   ]
  },
  {
   "cell_type": "code",
   "execution_count": 16,
   "metadata": {},
   "outputs": [
    {
     "data": {
      "text/plain": [
       "450"
      ]
     },
     "execution_count": 16,
     "metadata": {},
     "output_type": "execute_result"
    }
   ],
   "source": [
    "len(X2[1][0])"
   ]
  },
  {
   "cell_type": "code",
   "execution_count": 19,
   "metadata": {},
   "outputs": [],
   "source": [
    "x2a=np.asarray(X2[1])"
   ]
  },
  {
   "cell_type": "code",
   "execution_count": 20,
   "metadata": {},
   "outputs": [
    {
     "data": {
      "text/plain": [
       "(5000, 450)"
      ]
     },
     "execution_count": 20,
     "metadata": {},
     "output_type": "execute_result"
    }
   ],
   "source": [
    "x2a.shape"
   ]
  },
  {
   "cell_type": "code",
   "execution_count": null,
   "metadata": {},
   "outputs": [],
   "source": [
    "r=np.sqrt()"
   ]
  },
  {
   "cell_type": "code",
   "execution_count": 18,
   "metadata": {},
   "outputs": [],
   "source": [
    "i=225\n",
    "x ,lab = data_prepare(bb[i],cc[i])"
   ]
  },
  {
   "cell_type": "code",
   "execution_count": 21,
   "metadata": {},
   "outputs": [
    {
     "ename": "AttributeError",
     "evalue": "'list' object has no attribute 'input_shape'",
     "output_type": "error",
     "traceback": [
      "\u001b[0;31m---------------------------------------------------------------------------\u001b[0m",
      "\u001b[0;31mAttributeError\u001b[0m                            Traceback (most recent call last)",
      "\u001b[0;32m<ipython-input-21-b27a281ddd67>\u001b[0m in \u001b[0;36m<module>\u001b[0;34m\u001b[0m\n\u001b[0;32m----> 1\u001b[0;31m \u001b[0mmodel\u001b[0m\u001b[0;34m.\u001b[0m\u001b[0mlayers\u001b[0m\u001b[0;34m.\u001b[0m\u001b[0minput_shape\u001b[0m\u001b[0;34m\u001b[0m\u001b[0;34m\u001b[0m\u001b[0m\n\u001b[0m",
      "\u001b[0;31mAttributeError\u001b[0m: 'list' object has no attribute 'input_shape'"
     ]
    }
   ],
   "source": [
    "model.layers.input_shape"
   ]
  },
  {
   "cell_type": "code",
   "execution_count": null,
   "metadata": {},
   "outputs": [],
   "source": [
    "from keras.models import Sequential\n",
    "from keras.layers import Conv2D, MaxPool2D\n",
    "\n",
    "\n",
    "model = Sequential(layers=[\n",
    "    Conv2D(32, (3, 3), input_shape=(64, 64, 3)),\n",
    "    MaxPool2D(pool_size=(3, 3), strides=(2, 2))\n",
    "])\n",
    "\n",
    "for layer in model.layers:\n",
    "    print(layer.output_shape)"
   ]
  },
  {
   "cell_type": "code",
   "execution_count": 22,
   "metadata": {},
   "outputs": [
    {
     "name": "stdout",
     "output_type": "stream",
     "text": [
      "(None, None, 250)\n",
      "(None, 50)\n",
      "(None, 20)\n",
      "(None, 5)\n"
     ]
    }
   ],
   "source": [
    "for layer in model.layers:\n",
    "    print(layer.output_shape)"
   ]
  },
  {
   "cell_type": "code",
   "execution_count": 34,
   "metadata": {},
   "outputs": [],
   "source": [
    "pred_ay_new=model.predict(x.reshape(len(x),-1,4))"
   ]
  },
  {
   "cell_type": "code",
   "execution_count": 27,
   "metadata": {},
   "outputs": [],
   "source": [
    "pred_ay=model.predict(x.reshape(len(x),-1,4))"
   ]
  },
  {
   "cell_type": "code",
   "execution_count": 29,
   "metadata": {},
   "outputs": [
    {
     "data": {
      "text/plain": [
       "array([[3.74069214e-01, 1.49655709e-04, 4.92586851e-01, 1.41596147e-05,\n",
       "        1.33180052e-01],\n",
       "       [4.68179770e-02, 2.06437471e-04, 7.94500634e-02, 4.08086362e-06,\n",
       "        8.73521388e-01],\n",
       "       [3.64787094e-02, 9.63514447e-01, 1.34461175e-07, 6.63784567e-06,\n",
       "        4.18858939e-08],\n",
       "       ...,\n",
       "       [1.47346789e-02, 4.35535476e-05, 8.85182261e-01, 2.53880580e-06,\n",
       "        1.00036986e-01],\n",
       "       [2.51054130e-02, 6.77768298e-07, 4.79886069e-07, 9.58238267e-10,\n",
       "        9.74893451e-01],\n",
       "       [1.99576959e-01, 7.99345672e-01, 1.05502686e-05, 1.04082259e-03,\n",
       "        2.59953613e-05]], dtype=float32)"
      ]
     },
     "execution_count": 29,
     "metadata": {},
     "output_type": "execute_result"
    }
   ],
   "source": [
    "pred_ay"
   ]
  },
  {
   "cell_type": "code",
   "execution_count": 30,
   "metadata": {},
   "outputs": [
    {
     "data": {
      "text/plain": [
       "array([2, 4, 1, ..., 2, 4, 1])"
      ]
     },
     "execution_count": 30,
     "metadata": {},
     "output_type": "execute_result"
    }
   ],
   "source": [
    "np.argmax(pred_ay, axis = 1)"
   ]
  },
  {
   "cell_type": "code",
   "execution_count": 32,
   "metadata": {},
   "outputs": [
    {
     "name": "stdout",
     "output_type": "stream",
     "text": [
      "0.8538\n"
     ]
    }
   ],
   "source": [
    "from sklearn.metrics import f1_score\n",
    "\n",
    "groundtruth = np.argmax(lab, axis = 1)\n",
    "predictions = np.argmax(pred_ay, axis = 1)\n",
    "\n",
    "print(f1_score(groundtruth, predictions, average='micro'))\n",
    "                            "
   ]
  },
  {
   "cell_type": "code",
   "execution_count": 35,
   "metadata": {},
   "outputs": [
    {
     "name": "stdout",
     "output_type": "stream",
     "text": [
      "0.8572\n"
     ]
    }
   ],
   "source": [
    "from sklearn.metrics import f1_score\n",
    "\n",
    "groundtruth = np.argmax(lab, axis = 1)\n",
    "predictions = np.argmax(pred_ay_new, axis = 1)\n",
    "\n",
    "print(f1_score(groundtruth, predictions, average='micro'))\n",
    "                            "
   ]
  },
  {
   "cell_type": "code",
   "execution_count": 36,
   "metadata": {
    "scrolled": true
   },
   "outputs": [
    {
     "data": {
      "image/png": "[encoded data removed]",
      "text/plain": [
       "<Figure size 504x504 with 1 Axes>"
      ]
     },
     "metadata": {
      "needs_background": "light"
     },
     "output_type": "display_data"
    }
   ],
   "source": [
    "from sklearn.metrics import confusion_matrix\n",
    "\n",
    "conf = confusion_matrix(groundtruth, predictions)\n",
    "\n",
    "fig, ax = plt.subplots(figsize = (7,7))\n",
    "ax.matshow(conf)\n",
    "for (i, j), z in np.ndenumerate(conf):\n",
    "    ax.text(j, i, '{:0.3f}'.format(z), ha='center', va='center', fontsize = 16)\n",
    "ax.set_xticklabels(['c','ATTM','CTRW','FBM','LW','SBM'], fontsize = 16)\n",
    "ax.set_yticklabels(['a','ATTM','CTRW','FBM','LW','SBM'], fontsize = 16)\n",
    "ax.set_xlabel('Predicted class', fontsize = 16)\n",
    "ax.set_ylabel('Groundtruth', fontsize = 16)\n",
    "ax.xaxis.set_ticks_position('bottom') "
   ]
  },
  {
   "cell_type": "code",
   "execution_count": null,
   "metadata": {},
   "outputs": [],
   "source": []
  },
  {
   "cell_type": "code",
   "execution_count": 2,
   "metadata": {},
   "outputs": [],
   "source": [
    "model425 = tf.keras.models.load_model('Task2_1D_recdout_425.h5')"
   ]
  },
  {
   "cell_type": "code",
   "execution_count": 8,
   "metadata": {},
   "outputs": [
    {
     "name": "stdout",
     "output_type": "stream",
     "text": [
      "Creating a dataset for task(s) 2 and dimension(s) 1.\n",
      "Generating dataset for dimension 1.\n"
     ]
    },
    {
     "name": "stderr",
     "output_type": "stream",
     "text": [
      "/opt/anaconda3/lib/python3.7/site-packages/andi/diffusion_models.py:85: RuntimeWarning: overflow encountered in power\n",
      "  dt = (1-np.random.rand(T))**(-1/sigma)\n"
     ]
    }
   ],
   "source": [
    "bb={}\n",
    "cc={}\n",
    "cl=[425]\n",
    "j=0\n",
    "for i in cl:\n",
    "    X1, Y1, X2, Y2, X3, Y3 = AD.andi_dataset(N = 5000, tasks = 2, dimensions = 1,\n",
    "                                             min_T = i, max_T = i+1, save_dataset=True, path_datasets=str(i)+'multi')\n",
    "    bb[i]=X2[0]\n",
    "    cc[i]=Y2[0]"
   ]
  },
  {
   "cell_type": "code",
   "execution_count": 9,
   "metadata": {},
   "outputs": [],
   "source": [
    "i=425\n",
    "x ,lab = data_prepare(bb[i],cc[i])"
   ]
  },
  {
   "cell_type": "code",
   "execution_count": 21,
   "metadata": {},
   "outputs": [
    {
     "ename": "AttributeError",
     "evalue": "'list' object has no attribute 'input_shape'",
     "output_type": "error",
     "traceback": [
      "\u001b[0;31m---------------------------------------------------------------------------\u001b[0m",
      "\u001b[0;31mAttributeError\u001b[0m                            Traceback (most recent call last)",
      "\u001b[0;32m<ipython-input-21-b27a281ddd67>\u001b[0m in \u001b[0;36m<module>\u001b[0;34m\u001b[0m\n\u001b[0;32m----> 1\u001b[0;31m \u001b[0mmodel\u001b[0m\u001b[0;34m.\u001b[0m\u001b[0mlayers\u001b[0m\u001b[0;34m.\u001b[0m\u001b[0minput_shape\u001b[0m\u001b[0;34m\u001b[0m\u001b[0;34m\u001b[0m\u001b[0m\n\u001b[0m",
      "\u001b[0;31mAttributeError\u001b[0m: 'list' object has no attribute 'input_shape'"
     ]
    }
   ],
   "source": [
    "model.layers.input_shape"
   ]
  },
  {
   "cell_type": "code",
   "execution_count": 10,
   "metadata": {},
   "outputs": [],
   "source": [
    "pred_ay_425=model425.predict(x.reshape(len(x),-1,4))"
   ]
  },
  {
   "cell_type": "code",
   "execution_count": 13,
   "metadata": {},
   "outputs": [
    {
     "name": "stdout",
     "output_type": "stream",
     "text": [
      "0.8972\n"
     ]
    }
   ],
   "source": [
    "from sklearn.metrics import f1_score\n",
    "\n",
    "groundtruth = np.argmax(lab, axis = 1)\n",
    "predictions = np.argmax(pred_ay_425, axis = 1)\n",
    "\n",
    "print(f1_score(groundtruth, predictions, average='micro'))\n",
    "                            "
   ]
  },
  {
   "cell_type": "code",
   "execution_count": 14,
   "metadata": {
    "scrolled": true
   },
   "outputs": [
    {
     "data": {
      "image/png": "[encoded data removed]",
      "text/plain": [
       "<Figure size 504x504 with 1 Axes>"
      ]
     },
     "metadata": {
      "needs_background": "light"
     },
     "output_type": "display_data"
    }
   ],
   "source": [
    "from sklearn.metrics import confusion_matrix\n",
    "\n",
    "conf = confusion_matrix(groundtruth, predictions)\n",
    "\n",
    "fig, ax = plt.subplots(figsize = (7,7))\n",
    "ax.matshow(conf)\n",
    "for (i, j), z in np.ndenumerate(conf):\n",
    "    ax.text(j, i, '{:0.3f}'.format(z), ha='center', va='center', fontsize = 16)\n",
    "ax.set_xticklabels(['c','ATTM','CTRW','FBM','LW','SBM'], fontsize = 16)\n",
    "ax.set_yticklabels(['a','ATTM','CTRW','FBM','LW','SBM'], fontsize = 16)\n",
    "ax.set_xlabel('Predicted class', fontsize = 16)\n",
    "ax.set_ylabel('Groundtruth', fontsize = 16)\n",
    "ax.xaxis.set_ticks_position('bottom') "
   ]
  },
  {
   "cell_type": "code",
   "execution_count": 26,
   "metadata": {},
   "outputs": [],
   "source": [
    "def lw( T, alpha):\n",
    "            pi=np.pi\n",
    "            ''' Creates a 2D Levy walk trajectory '''             \n",
    "            if alpha < 1:\n",
    "                raise ValueError('Levy walks only allow for anomalous exponents > 1.')             \n",
    "            # Define exponents for the distribution of times              \n",
    "            if alpha == 2:\n",
    "                sigma = np.random.rand()\n",
    "            else:\n",
    "                sigma = 3-alpha\n",
    "            dt = (1-np.random.rand(T))**(-1/sigma)\n",
    "            print('dt=',dt)\n",
    "            dt[dt > T] = T+1\n",
    "            # Define the velocity\n",
    "            v = 10*np.random.rand()       \n",
    "            print('v=',v)\n",
    "            # Define the array where we save step length\n",
    "            d= np.empty(0)\n",
    "            # Define the array where we save the angle of the step\n",
    "            angles = np.empty(0)\n",
    "            # Generate trajectory\n",
    "            for t in dt:\n",
    "                d = np.append(d, v*np.ones(int(t))*(2*np.random.randint(0,2)-1))                \n",
    "                angles = np.append(angles, np.random.uniform(low = 0, high = 2*pi)*np.ones(int(t)))\n",
    "                print('d=',d)\n",
    "                if len(d) > T:\n",
    "                    break\n",
    "            d = d[:int(T)]  \n",
    "            angles = angles[:int(T)] \n",
    "            posX, posY = [d*np.cos(angles), d*np.sin(angles)]         \n",
    "            return np.concatenate((np.cumsum(posX)-posX[0], np.cumsum(posY)-posY[0]))\n",
    "        "
   ]
  },
  {
   "cell_type": "code",
   "execution_count": 27,
   "metadata": {},
   "outputs": [
    {
     "name": "stdout",
     "output_type": "stream",
     "text": [
      "dt= [1.77164779 2.05615862 1.05685994 1.68530242 1.08954237 3.83838665\n",
      " 1.22962462 1.44182044 1.05389057 1.15596654 1.30523367 1.32671081\n",
      " 3.60129085 8.57712512 2.15647801 2.48985854 2.5548548  2.18415061\n",
      " 1.4872088  1.59656912 1.78442099 2.17736879 3.84109777 1.44804159\n",
      " 7.12721597 3.67257403 3.38807369 1.75082639 1.50596533 1.17346896]\n",
      "v= 8.256583319338155\n",
      "d= [-8.25658332]\n",
      "d= [-8.25658332 -8.25658332 -8.25658332]\n",
      "d= [-8.25658332 -8.25658332 -8.25658332  8.25658332]\n",
      "d= [-8.25658332 -8.25658332 -8.25658332  8.25658332 -8.25658332]\n",
      "d= [-8.25658332 -8.25658332 -8.25658332  8.25658332 -8.25658332 -8.25658332]\n",
      "d= [-8.25658332 -8.25658332 -8.25658332  8.25658332 -8.25658332 -8.25658332\n",
      " -8.25658332 -8.25658332 -8.25658332]\n",
      "d= [-8.25658332 -8.25658332 -8.25658332  8.25658332 -8.25658332 -8.25658332\n",
      " -8.25658332 -8.25658332 -8.25658332 -8.25658332]\n",
      "d= [-8.25658332 -8.25658332 -8.25658332  8.25658332 -8.25658332 -8.25658332\n",
      " -8.25658332 -8.25658332 -8.25658332 -8.25658332 -8.25658332]\n",
      "d= [-8.25658332 -8.25658332 -8.25658332  8.25658332 -8.25658332 -8.25658332\n",
      " -8.25658332 -8.25658332 -8.25658332 -8.25658332 -8.25658332 -8.25658332]\n",
      "d= [-8.25658332 -8.25658332 -8.25658332  8.25658332 -8.25658332 -8.25658332\n",
      " -8.25658332 -8.25658332 -8.25658332 -8.25658332 -8.25658332 -8.25658332\n",
      "  8.25658332]\n",
      "d= [-8.25658332 -8.25658332 -8.25658332  8.25658332 -8.25658332 -8.25658332\n",
      " -8.25658332 -8.25658332 -8.25658332 -8.25658332 -8.25658332 -8.25658332\n",
      "  8.25658332  8.25658332]\n",
      "d= [-8.25658332 -8.25658332 -8.25658332  8.25658332 -8.25658332 -8.25658332\n",
      " -8.25658332 -8.25658332 -8.25658332 -8.25658332 -8.25658332 -8.25658332\n",
      "  8.25658332  8.25658332 -8.25658332]\n",
      "d= [-8.25658332 -8.25658332 -8.25658332  8.25658332 -8.25658332 -8.25658332\n",
      " -8.25658332 -8.25658332 -8.25658332 -8.25658332 -8.25658332 -8.25658332\n",
      "  8.25658332  8.25658332 -8.25658332 -8.25658332 -8.25658332 -8.25658332]\n",
      "d= [-8.25658332 -8.25658332 -8.25658332  8.25658332 -8.25658332 -8.25658332\n",
      " -8.25658332 -8.25658332 -8.25658332 -8.25658332 -8.25658332 -8.25658332\n",
      "  8.25658332  8.25658332 -8.25658332 -8.25658332 -8.25658332 -8.25658332\n",
      "  8.25658332  8.25658332  8.25658332  8.25658332  8.25658332  8.25658332\n",
      "  8.25658332  8.25658332]\n",
      "d= [-8.25658332 -8.25658332 -8.25658332  8.25658332 -8.25658332 -8.25658332\n",
      " -8.25658332 -8.25658332 -8.25658332 -8.25658332 -8.25658332 -8.25658332\n",
      "  8.25658332  8.25658332 -8.25658332 -8.25658332 -8.25658332 -8.25658332\n",
      "  8.25658332  8.25658332  8.25658332  8.25658332  8.25658332  8.25658332\n",
      "  8.25658332  8.25658332 -8.25658332 -8.25658332]\n",
      "d= [-8.25658332 -8.25658332 -8.25658332  8.25658332 -8.25658332 -8.25658332\n",
      " -8.25658332 -8.25658332 -8.25658332 -8.25658332 -8.25658332 -8.25658332\n",
      "  8.25658332  8.25658332 -8.25658332 -8.25658332 -8.25658332 -8.25658332\n",
      "  8.25658332  8.25658332  8.25658332  8.25658332  8.25658332  8.25658332\n",
      "  8.25658332  8.25658332 -8.25658332 -8.25658332  8.25658332  8.25658332]\n",
      "d= [-8.25658332 -8.25658332 -8.25658332  8.25658332 -8.25658332 -8.25658332\n",
      " -8.25658332 -8.25658332 -8.25658332 -8.25658332 -8.25658332 -8.25658332\n",
      "  8.25658332  8.25658332 -8.25658332 -8.25658332 -8.25658332 -8.25658332\n",
      "  8.25658332  8.25658332  8.25658332  8.25658332  8.25658332  8.25658332\n",
      "  8.25658332  8.25658332 -8.25658332 -8.25658332  8.25658332  8.25658332\n",
      "  8.25658332  8.25658332]\n"
     ]
    },
    {
     "data": {
      "text/plain": [
       "array([ 0.        , -3.23620736, -6.47241473, -8.51387   , -0.28467448,\n",
       "       -8.07378664, -0.61650636,  6.84077392, 14.2980542 , 14.45292427,\n",
       "       10.96660792, 12.72408548, 20.31311466, 13.42426083, 18.1980415 ,\n",
       "       21.68368849, 25.16933547, 28.65498246, 36.87562335, 45.09626425,\n",
       "       53.31690514, 61.53754603, 69.75818693, 77.97882782, 86.19946871,\n",
       "       94.42010961, 86.18050637, 77.94090313, 78.08219156, 78.22347998,\n",
       "        0.        ,  7.59592851, 15.19185703, 23.19208381, 23.86402808,\n",
       "       26.60280514, 23.05877651, 19.51474789, 15.97071926, 24.22584999,\n",
       "       16.74141505,  8.67404616,  5.42169253,  0.87033437,  7.60696456,\n",
       "       15.09171126, 22.57645796, 30.06120466, 29.29163893, 28.5220732 ,\n",
       "       27.75250747, 26.98294174, 26.21337601, 25.44381028, 24.67424455,\n",
       "       23.90467882, 23.37542786, 22.84617689, 31.10155125, 39.3569256 ])"
      ]
     },
     "execution_count": 27,
     "metadata": {},
     "output_type": "execute_result"
    }
   ],
   "source": [
    "lw( T=30, alpha=1.2)"
   ]
  },
  {
   "cell_type": "code",
   "execution_count": null,
   "metadata": {},
   "outputs": [],
   "source": []
  }
 ],
 "metadata": {
  "kernelspec": {
   "display_name": "Python 3",
   "language": "python",
   "name": "python3"
  },
  "language_info": {
   "codemirror_mode": {
    "name": "ipython",
    "version": 3
   },
   "file_extension": ".py",
   "mimetype": "text/x-python",
   "name": "python",
   "nbconvert_exporter": "python",
   "pygments_lexer": "ipython3",
   "version": "3.7.4"
  }
 },
 "nbformat": 4,
 "nbformat_minor": 4
}
