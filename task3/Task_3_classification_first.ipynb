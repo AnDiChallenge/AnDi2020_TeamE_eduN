{
 "cells": [
  {
   "cell_type": "code",
   "execution_count": null,
   "metadata": {},
   "outputs": [],
   "source": [
    "# regularize trajectories\n",
    "def data_prepare(X,Y):\n",
    "    import numpy as np \n",
    "    thr=1e-10\n",
    "    N=len(X)\n",
    "    x = np.array(X).reshape(N,i) \n",
    "    x = np.diff(x,axis=1) \n",
    "    sx = np.std(x,axis=1)\n",
    "    x = (x-np.mean(x,axis=1).reshape(len(x),1)) / np.where(sx>thr,sx,1).reshape(len(x),1)   # normalize x data\n",
    "\n",
    "    # regularize labels\n",
    "    label = []\n",
    "    label.append(np.equal(Y,0))\n",
    "    label.append(np.equal(Y,1))\n",
    "    label.append(np.equal(Y,2))\n",
    "    label.append(np.equal(Y,3))\n",
    "    label.append(np.equal(Y,4))\n",
    "    label = np.array(np.transpose(label)) + 0\n",
    "    return(x, label)"
   ]
  },
  {
   "cell_type": "code",
   "execution_count": null,
   "metadata": {},
   "outputs": [],
   "source": [
    "import tensorflow.keras as keras\n",
    "from tensorflow.keras.models import Sequential\n",
    "from tensorflow.keras.layers import Dense, Dropout, Activation\n",
    "from tensorflow.keras.optimizers import SGD\n",
    "from tensorflow.keras import losses, metrics\n",
    "\n",
    "from tensorflow.keras.models import Sequential\n",
    "from tensorflow.keras.layers import Dense\n",
    "from tensorflow.keras.layers import SimpleRNN\n",
    "from tensorflow.keras.layers import LSTM\n",
    "\n",
    "from tensorflow.keras.layers import Dropout\n",
    "from tensorflow.keras.layers import Bidirectional\n",
    "from tensorflow.keras.models import load_model\n",
    "import scipy.io as sci\n",
    "\n",
    "#block size\n",
    "bs=1\n",
    "\n",
    "\n",
    "#Building the network\n",
    "model_t2 = Sequential()\n",
    "#first layer: LSTM of dimension 64\n",
    "model_t2.add(LSTM(250,\n",
    "                return_sequences=True,\n",
    "                recurrent_dropout=0.2,\n",
    "                input_shape=(None, bs)\n",
    "                ))\n",
    "\n",
    "\n",
    "model_t2.add(LSTM(50,\n",
    "                    dropout=0,\n",
    "                    recurrent_dropout=0.2,\n",
    "                    ))\n",
    "\n",
    "\n",
    "model_t2.add(Dense(20))\n",
    "\n",
    "\n",
    "#Last layer, fully connected\n",
    "model_t2.add(Dense(5,\n",
    "             activation=\"softmax\",))\n",
    "\n",
    "model_t2.compile(optimizer='adam',\n",
    "                loss=\"categorical_crossentropy\",\n",
    "                metrics=[\"categorical_accuracy\"])\n",
    "\n",
    "#Printing a summary of the built network\n",
    "model_t2.summary()\n"
   ]
  },
  {
   "cell_type": "code",
   "execution_count": null,
   "metadata": {},
   "outputs": [],
   "source": [
    "data['Y'][0][0][:,2]"
   ]
  },
  {
   "cell_type": "code",
   "execution_count": null,
   "metadata": {},
   "outputs": [],
   "source": [
    "i = 200\n",
    "N = 100000\n",
    "batch_sizes = [32, 128, 512, 2048]\n",
    "dataset_used = [1, 4, 5, 20]\n",
    "number_epochs = [5, 4, 3, 2]\n",
    "n = 0\n",
    "for batch in range(len(batch_sizes)):    \n",
    "    for repeat in range(dataset_used[batch]):\n",
    "        data = sci.loadmat('task3_1d' + str(i) + '_' + str(n) + '.mat')\n",
    "        n += 1\n",
    "        X = data['X'][0][0]\n",
    "        #The label for the first model is in position 2 so\n",
    "        Y = data['Y'][0][0][:,2].reshape(N,)\n",
    "        x, label = data_prepare(X,Y)\n",
    "        print(x.shape)\n",
    "        history_t2 = model_t2.fit(x.reshape(len(x),int((i-1)/bs),bs), \n",
    "                                label, \n",
    "                                epochs=number_epochs[batch], \n",
    "                                batch_size=batch_sizes[batch],\n",
    "                                validation_split=0.1,\n",
    "                                shuffle=True,\n",
    "                                )"
   ]
  },
  {
   "cell_type": "code",
   "execution_count": null,
   "metadata": {},
   "outputs": [],
   "source": [
    "batch_sizes = [512,]\n",
    "dataset_used = [20,]\n",
    "number_epochs = [2,]\n",
    "n = 0\n",
    "for batch in range(len(batch_sizes)):    \n",
    "    for repeat in range(dataset_used[batch]):\n",
    "        data = sci.loadmat('task3_1d' + str(i) + '_' + str(n) + '.mat')\n",
    "        n += 1\n",
    "        X = data['X'][0][0]\n",
    "        Y = data['Y'][0][0][:,2].reshape(N,)\n",
    "        x, label = data_prepare(X,Y)\n",
    "        history_t2 = model_t2.fit(x.reshape(len(x),int((i-1)/bs),bs), \n",
    "                                label, \n",
    "                                epochs=number_epochs[batch], \n",
    "                                batch_size=batch_sizes[batch],\n",
    "                                validation_split=0.1,\n",
    "                                shuffle=True,\n",
    "                                )"
   ]
  },
  {
   "cell_type": "code",
   "execution_count": null,
   "metadata": {},
   "outputs": [],
   "source": [
    "model_t2.save('Task3_1D_classi_first_' + str(i) +'.h5')"
   ]
  }
 ],
 "metadata": {
  "kernelspec": {
   "display_name": "Python 3",
   "language": "python",
   "name": "python3"
  },
  "language_info": {
   "codemirror_mode": {
    "name": "ipython",
    "version": 3
   },
   "file_extension": ".py",
   "mimetype": "text/x-python",
   "name": "python",
   "nbconvert_exporter": "python",
   "pygments_lexer": "ipython3",
   "version": "3.7.4"
  }
 },
 "nbformat": 4,
 "nbformat_minor": 4
}
