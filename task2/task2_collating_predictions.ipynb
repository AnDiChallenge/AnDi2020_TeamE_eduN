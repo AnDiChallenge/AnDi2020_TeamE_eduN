{
 "cells": [
  {
   "cell_type": "code",
   "execution_count": 1,
   "metadata": {},
   "outputs": [
    {
     "name": "stderr",
     "output_type": "stream",
     "text": [
      "Using TensorFlow backend.\n"
     ]
    }
   ],
   "source": [
    "import andi\n",
    "import numpy as np\n",
    "import csv as csv\n",
    "import numpy as np\n",
    "\n",
    "from sklearn.metrics import mean_absolute_error\n",
    "import tensorflow as tf\n",
    "\n",
    "\n",
    "\n",
    "import keras\n",
    "from keras.models import Sequential\n",
    "from keras.layers import Dense, Dropout, Activation\n",
    "from keras.optimizers import SGD\n",
    "from keras import losses, metrics\n",
    "\n",
    "from keras.models import Sequential\n",
    "from keras.layers import Dense\n",
    "from keras.layers import SimpleRNN\n",
    "from keras.layers import LSTM\n",
    "\n",
    "from keras.layers import Dropout\n",
    "from keras.layers import Bidirectional\n",
    "#from keras.models import load_model\n",
    "from tensorflow.keras.models import load_model\n",
    "import os\n",
    "from matplotlib import pyplot as plt\n",
    "from data_split import data_split\n",
    "from many_net import many_net, many_net_diffv, many_net_only_diff, many_net_odcv_hd"
   ]
  },
  {
   "cell_type": "code",
   "execution_count": 4,
   "metadata": {},
   "outputs": [
    {
     "data": {
      "text/plain": [
       "'/Users/stefabo/Documents/GitHub/eduRNN'"
      ]
     },
     "execution_count": 4,
     "metadata": {},
     "output_type": "execute_result"
    }
   ],
   "source": [
    "os.getcwd()"
   ]
  },
  {
   "cell_type": "markdown",
   "metadata": {},
   "source": [
    "Importing the data"
   ]
  },
  {
   "cell_type": "code",
   "execution_count": 8,
   "metadata": {},
   "outputs": [],
   "source": [
    "import csv\n",
    "trajs_from_files = csv.reader(open('challenge_for_scoring/task2.txt','r'), delimiter=';', \n",
    "                                        lineterminator='\\n',quoting=csv.QUOTE_NONNUMERIC)\n",
    "validation = [[],[],[]]\n",
    "for trajs in enumerate(trajs_from_files):\n",
    "    validation[int(trajs[1][0])-1].append(trajs[1][1:])"
   ]
  },
  {
   "cell_type": "code",
   "execution_count": 19,
   "metadata": {},
   "outputs": [],
   "source": [
    "predictions1d=np.load('task2_predictions1d_more_nets.npy')"
   ]
  },
  {
   "cell_type": "code",
   "execution_count": 3,
   "metadata": {},
   "outputs": [
    {
     "data": {
      "text/plain": [
       "(16618, 5)"
      ]
     },
     "execution_count": 3,
     "metadata": {},
     "output_type": "execute_result"
    }
   ],
   "source": [
    "predictions1d.shape"
   ]
  },
  {
   "cell_type": "markdown",
   "metadata": {},
   "source": [
    "#2d case"
   ]
  },
  {
   "cell_type": "code",
   "execution_count": 20,
   "metadata": {},
   "outputs": [],
   "source": [
    "predictions2d=np.load('task2_predictions2d_using2d.npy')"
   ]
  },
  {
   "cell_type": "code",
   "execution_count": 21,
   "metadata": {},
   "outputs": [
    {
     "data": {
      "text/plain": [
       "(13309, 5)"
      ]
     },
     "execution_count": 21,
     "metadata": {},
     "output_type": "execute_result"
    }
   ],
   "source": [
    "predictions2d.shape"
   ]
  },
  {
   "cell_type": "code",
   "execution_count": 22,
   "metadata": {},
   "outputs": [],
   "source": [
    "pred2_num=np.argmax(predictions2d,axis=1)"
   ]
  },
  {
   "cell_type": "code",
   "execution_count": 23,
   "metadata": {},
   "outputs": [
    {
     "data": {
      "text/plain": [
       "1"
      ]
     },
     "execution_count": 23,
     "metadata": {},
     "output_type": "execute_result"
    }
   ],
   "source": [
    "pred2_num[5]"
   ]
  },
  {
   "cell_type": "code",
   "execution_count": 43,
   "metadata": {},
   "outputs": [],
   "source": [
    "kk=7"
   ]
  },
  {
   "cell_type": "code",
   "execution_count": 44,
   "metadata": {},
   "outputs": [
    {
     "data": {
      "text/plain": [
       "array([7.3018862e-04, 1.5829311e-05, 1.2071896e-01, 8.7116998e-01,\n",
       "       7.3649925e-03], dtype=float32)"
      ]
     },
     "execution_count": 44,
     "metadata": {},
     "output_type": "execute_result"
    }
   ],
   "source": [
    "predictions2d[kk]"
   ]
  },
  {
   "cell_type": "code",
   "execution_count": 45,
   "metadata": {},
   "outputs": [
    {
     "data": {
      "text/plain": [
       "array([6.7479354e-03, 7.4782643e-06, 5.2145386e-01, 1.9716774e-03,\n",
       "       4.6981910e-01], dtype=float32)"
      ]
     },
     "execution_count": 45,
     "metadata": {},
     "output_type": "execute_result"
    }
   ],
   "source": [
    "predictions2d_u1d[kk]"
   ]
  },
  {
   "cell_type": "code",
   "execution_count": 46,
   "metadata": {},
   "outputs": [
    {
     "data": {
      "text/plain": [
       "array([7.3018862e-04, 1.5829311e-05, 1.2071896e-01, 8.7116998e-01,\n",
       "       7.3649925e-03], dtype=float32)"
      ]
     },
     "execution_count": 46,
     "metadata": {},
     "output_type": "execute_result"
    }
   ],
   "source": [
    "comb[kk]"
   ]
  },
  {
   "cell_type": "code",
   "execution_count": 24,
   "metadata": {},
   "outputs": [],
   "source": [
    "aa=pred2_num!=3"
   ]
  },
  {
   "cell_type": "code",
   "execution_count": 43,
   "metadata": {},
   "outputs": [
    {
     "data": {
      "text/plain": [
       "array([[7.10955113e-02, 9.28892732e-01, 8.45228499e-07, 1.02566955e-05,\n",
       "        7.14144221e-07],\n",
       "       [2.82730162e-03, 2.95465616e-05, 4.87502098e-01, 4.89522336e-06,\n",
       "        5.09636104e-01],\n",
       "       [2.58082330e-01, 1.50984415e-04, 4.66389179e-01, 1.45336715e-04,\n",
       "        2.75232255e-01],\n",
       "       ...,\n",
       "       [1.77724034e-01, 3.45109105e-01, 2.82557428e-01, 3.53250653e-02,\n",
       "        1.59284353e-01],\n",
       "       [5.29826768e-02, 7.82516718e-01, 1.35927528e-01, 1.18120536e-02,\n",
       "        1.67610720e-02],\n",
       "       [2.30676471e-03, 1.14575708e-02, 9.85278368e-01, 5.39639914e-05,\n",
       "        9.03344247e-04]], dtype=float32)"
      ]
     },
     "execution_count": 43,
     "metadata": {},
     "output_type": "execute_result"
    }
   ],
   "source": [
    "comb[aa]"
   ]
  },
  {
   "cell_type": "code",
   "execution_count": 25,
   "metadata": {},
   "outputs": [],
   "source": [
    "predictions2d_u1d=np.load('task2_predictions2d_more_using2traj_1dnets.npy')"
   ]
  },
  {
   "cell_type": "code",
   "execution_count": 26,
   "metadata": {},
   "outputs": [
    {
     "data": {
      "text/plain": [
       "(13309, 5)"
      ]
     },
     "execution_count": 26,
     "metadata": {},
     "output_type": "execute_result"
    }
   ],
   "source": [
    "predictions2d_u1d.shape"
   ]
  },
  {
   "cell_type": "code",
   "execution_count": 27,
   "metadata": {},
   "outputs": [
    {
     "data": {
      "text/plain": [
       "(13309, 5)"
      ]
     },
     "execution_count": 27,
     "metadata": {},
     "output_type": "execute_result"
    }
   ],
   "source": [
    "predictions2d.shape"
   ]
  },
  {
   "cell_type": "code",
   "execution_count": 30,
   "metadata": {},
   "outputs": [],
   "source": [
    "comb=predictions2d\n",
    "comb[aa]=(predictions2d_u1d[aa]+predictions2d[aa])/2"
   ]
  },
  {
   "cell_type": "code",
   "execution_count": 47,
   "metadata": {},
   "outputs": [],
   "source": [
    "predictions3d=np.load('task2_predictions3d.npy')"
   ]
  },
  {
   "cell_type": "code",
   "execution_count": 40,
   "metadata": {},
   "outputs": [
    {
     "data": {
      "text/plain": [
       "array([2.5808233e-01, 1.5098442e-04, 4.6638918e-01, 1.4533671e-04,\n",
       "       2.7523226e-01], dtype=float32)"
      ]
     },
     "execution_count": 40,
     "metadata": {},
     "output_type": "execute_result"
    }
   ],
   "source": [
    "comb[2]"
   ]
  },
  {
   "cell_type": "code",
   "execution_count": 48,
   "metadata": {},
   "outputs": [
    {
     "data": {
      "text/plain": [
       "(10000, 5)"
      ]
     },
     "execution_count": 48,
     "metadata": {},
     "output_type": "execute_result"
    }
   ],
   "source": [
    "predictions3d.shape"
   ]
  },
  {
   "cell_type": "code",
   "execution_count": null,
   "metadata": {},
   "outputs": [],
   "source": [
    "#combine predict"
   ]
  },
  {
   "cell_type": "code",
   "execution_count": 49,
   "metadata": {},
   "outputs": [],
   "source": [
    "predictions_task2=[predictions1d,comb,predictions3d]"
   ]
  },
  {
   "cell_type": "code",
   "execution_count": null,
   "metadata": {},
   "outputs": [],
   "source": [
    "# pred_to_txt = np.ones((len(predictions), 6))\n",
    "# for i in range(len(predictions)):\n",
    "#     for j in range(5):\n",
    "        \n",
    "#         pred_to_txt[i, j+1] = predictions[i][j]\n",
    "\n",
    "# np.savetxt('task2.txt', pred_to_txt.astype(float), fmt = '%1.5f', delimiter = ';')"
   ]
  },
  {
   "cell_type": "code",
   "execution_count": 16,
   "metadata": {},
   "outputs": [],
   "source": [
    "# #having only 2d cases\n",
    "# #predictions_task2=[predictions1d,predictions2d]\n",
    "# pred_to_txt = np.concatenate((np.ones((len(predictions1d), 6)),\n",
    "#                               2*np.ones((len(), 6)),3*np.ones((len(predictions3d), 6))))\n",
    "# for dim in [1,2,3]: \n",
    "#     for i in range(len(predictions_task2[dim-1])):\n",
    "#         for j in range(5):\n",
    "        \n",
    "#             pred_to_txt[i+len(predictions1d)*(dim-1), j+1] = predictions_task2[dim-1][i][j]\n",
    "\n",
    "    \n",
    "# #     pred_to_txt_temp = dim*np.ones((len(predictions_task2[dim-1]), 2))\n",
    "# #     pred_to_txt_temp[:, 1] = predictions_task2[dim-2]\n",
    "# #     pred_to_txt.append(pred_to_txt_temp)\n",
    "# np.savetxt('task2_pro.txt', pred_to_txt.astype(float), fmt = '%1.5f', delimiter = ';')"
   ]
  },
  {
   "cell_type": "code",
   "execution_count": 50,
   "metadata": {},
   "outputs": [
    {
     "name": "stdout",
     "output_type": "stream",
     "text": [
      "0\n",
      "16618\n",
      "16618\n",
      "29927\n",
      "29927\n",
      "39927\n"
     ]
    }
   ],
   "source": [
    "pred_to_txt = np.concatenate((np.ones((len(predictions1d), 6)),\n",
    "                              2*np.ones((len(comb), 6)),\n",
    "                              3*np.ones((len(predictions3d), 6))))\n",
    "bb=0\n",
    "for dim in [1,2,3]:\n",
    "    dis=len(predictions_task2[dim-1])\n",
    "    print(bb)\n",
    "    for i in range(dis):\n",
    "        for j in range(5):\n",
    "            pred_to_txt[i+bb, j+1] = predictions_task2[dim-1][i][j]\n",
    "    bb=bb+dis\n",
    "    print(bb)\n",
    "#     pred_to_txt_temp = dim*np.ones((len(predictions_task2[dim-1]), 2))\n",
    "#     pred_to_txt_temp[:, 1] = predictions_task2[dim-2]\n",
    "#     pred_to_txt.append(pred_to_txt_temp)\n",
    "np.savetxt('task2_pro.txt', pred_to_txt.astype(float), fmt = '%1.5f', delimiter = ';')"
   ]
  },
  {
   "cell_type": "code",
   "execution_count": 34,
   "metadata": {},
   "outputs": [
    {
     "data": {
      "text/plain": [
       "array([3.00000000e+00, 8.67642879e-01, 1.72879063e-02, 8.37111584e-05,\n",
       "       1.13977821e-05, 1.14974037e-01])"
      ]
     },
     "execution_count": 34,
     "metadata": {},
     "output_type": "execute_result"
    }
   ],
   "source": [
    "pred_to_txt[20001]"
   ]
  },
  {
   "cell_type": "code",
   "execution_count": 35,
   "metadata": {},
   "outputs": [
    {
     "data": {
      "text/plain": [
       "array([8.6764288e-01, 1.7287906e-02, 8.3711158e-05, 1.1397782e-05,\n",
       "       1.1497404e-01], dtype=float32)"
      ]
     },
     "execution_count": 35,
     "metadata": {},
     "output_type": "execute_result"
    }
   ],
   "source": [
    "predictions3d[]"
   ]
  },
  {
   "cell_type": "code",
   "execution_count": null,
   "metadata": {},
   "outputs": [],
   "source": [
    "pred_to_txt = np.ones((len(predictions_comb), 6))\n",
    "for i in range(len(predictions_comb)):\n",
    "    for j in range(5):\n",
    "        \n",
    "        pred_to_txt[i, j+1] = predictions_comb[i][j]\n",
    "\n",
    "np.savetxt('task2_comb.txt', pred_to_txt.astype(float), fmt = '%1.5f', delimiter = ';')"
   ]
  }
 ],
 "metadata": {
  "kernelspec": {
   "display_name": "Python 3",
   "language": "python",
   "name": "python3"
  },
  "language_info": {
   "codemirror_mode": {
    "name": "ipython",
    "version": 3
   },
   "file_extension": ".py",
   "mimetype": "text/x-python",
   "name": "python",
   "nbconvert_exporter": "python",
   "pygments_lexer": "ipython3",
   "version": "3.7.4"
  }
 },
 "nbformat": 4,
 "nbformat_minor": 4
}
