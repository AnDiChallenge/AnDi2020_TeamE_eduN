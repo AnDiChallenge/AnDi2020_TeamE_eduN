{
 "cells": [
  {
   "cell_type": "code",
   "execution_count": 1,
   "metadata": {},
   "outputs": [
    {
     "name": "stderr",
     "output_type": "stream",
     "text": [
      "Using TensorFlow backend.\n"
     ]
    }
   ],
   "source": [
    "import andi\n",
    "import numpy as np\n",
    "import csv as csv\n",
    "import numpy as np\n",
    "\n",
    "from sklearn.metrics import mean_absolute_error\n",
    "import tensorflow as tf\n",
    "\n",
    "\n",
    "\n",
    "import keras\n",
    "from keras.models import Sequential\n",
    "from keras.layers import Dense, Dropout, Activation\n",
    "from keras.optimizers import SGD\n",
    "from keras import losses, metrics\n",
    "\n",
    "from keras.models import Sequential\n",
    "from keras.layers import Dense\n",
    "from keras.layers import SimpleRNN\n",
    "from keras.layers import LSTM\n",
    "\n",
    "from keras.layers import Dropout\n",
    "from keras.layers import Bidirectional\n",
    "#from keras.models import load_model\n",
    "from tensorflow.keras.models import load_model\n",
    "import os\n",
    "from matplotlib import pyplot as plt\n",
    "from data_split import data_split\n",
    "from many_net import many_net, many_net_diffv, many_net_only_diff, many_net_odcv_hd"
   ]
  },
  {
   "cell_type": "code",
   "execution_count": 4,
   "metadata": {},
   "outputs": [
    {
     "data": {
      "text/plain": [
       "'/Users/stefabo/Documents/GitHub/eduRNN'"
      ]
     },
     "execution_count": 4,
     "metadata": {},
     "output_type": "execute_result"
    }
   ],
   "source": [
    "os.getcwd()"
   ]
  },
  {
   "cell_type": "markdown",
   "metadata": {},
   "source": [
    "Importing the data"
   ]
  },
  {
   "cell_type": "code",
   "execution_count": 8,
   "metadata": {},
   "outputs": [],
   "source": [
    "import csv\n",
    "trajs_from_files = csv.reader(open('challenge_for_scoring/task2.txt','r'), delimiter=';', \n",
    "                                        lineterminator='\\n',quoting=csv.QUOTE_NONNUMERIC)\n",
    "validation = [[],[],[]]\n",
    "for trajs in enumerate(trajs_from_files):\n",
    "    validation[int(trajs[1][0])-1].append(trajs[1][1:])"
   ]
  },
  {
   "cell_type": "code",
   "execution_count": 2,
   "metadata": {},
   "outputs": [],
   "source": [
    "predictions1d=np.load('task2_predictions1d_more_nets.npy')"
   ]
  },
  {
   "cell_type": "code",
   "execution_count": 3,
   "metadata": {},
   "outputs": [
    {
     "data": {
      "text/plain": [
       "(16618, 5)"
      ]
     },
     "execution_count": 3,
     "metadata": {},
     "output_type": "execute_result"
    }
   ],
   "source": [
    "predictions1d.shape"
   ]
  },
  {
   "cell_type": "markdown",
   "metadata": {},
   "source": [
    "#2d case"
   ]
  },
  {
   "cell_type": "code",
   "execution_count": 4,
   "metadata": {},
   "outputs": [],
   "source": [
    "predictions2d=np.load('task2_predictions2d_using2d_CORRECTED.npy')"
   ]
  },
  {
   "cell_type": "code",
   "execution_count": 5,
   "metadata": {},
   "outputs": [
    {
     "data": {
      "text/plain": [
       "(13309, 5)"
      ]
     },
     "execution_count": 5,
     "metadata": {},
     "output_type": "execute_result"
    }
   ],
   "source": [
    "predictions2d.shape"
   ]
  },
  {
   "cell_type": "code",
   "execution_count": 6,
   "metadata": {},
   "outputs": [],
   "source": [
    "pred2_num=np.argmax(predictions2d,axis=1)"
   ]
  },
  {
   "cell_type": "code",
   "execution_count": 7,
   "metadata": {},
   "outputs": [
    {
     "data": {
      "text/plain": [
       "1"
      ]
     },
     "execution_count": 7,
     "metadata": {},
     "output_type": "execute_result"
    }
   ],
   "source": [
    "pred2_num[5]"
   ]
  },
  {
   "cell_type": "code",
   "execution_count": 37,
   "metadata": {},
   "outputs": [],
   "source": [
    "kk=3"
   ]
  },
  {
   "cell_type": "code",
   "execution_count": 38,
   "metadata": {},
   "outputs": [
    {
     "data": {
      "text/plain": [
       "array([2.81368375e-01, 2.32711864e-05, 1.12689704e-04, 1.27438079e-06,\n",
       "       7.18494236e-01], dtype=float32)"
      ]
     },
     "execution_count": 38,
     "metadata": {},
     "output_type": "execute_result"
    }
   ],
   "source": [
    "predictions2d[kk]"
   ]
  },
  {
   "cell_type": "code",
   "execution_count": 39,
   "metadata": {},
   "outputs": [
    {
     "data": {
      "text/plain": [
       "array([2.81368375e-01, 2.32711864e-05, 1.12689704e-04, 1.27438079e-06,\n",
       "       7.18494236e-01], dtype=float32)"
      ]
     },
     "execution_count": 39,
     "metadata": {},
     "output_type": "execute_result"
    }
   ],
   "source": [
    "predictions2d[kk]"
   ]
  },
  {
   "cell_type": "code",
   "execution_count": 40,
   "metadata": {},
   "outputs": [
    {
     "data": {
      "text/plain": [
       "array([6.7091334e-01, 1.5887665e-04, 3.3362240e-02, 4.0948700e-05,\n",
       "       2.9552466e-01], dtype=float32)"
      ]
     },
     "execution_count": 40,
     "metadata": {},
     "output_type": "execute_result"
    }
   ],
   "source": [
    "predictions2d_u1d[kk]"
   ]
  },
  {
   "cell_type": "code",
   "execution_count": 41,
   "metadata": {},
   "outputs": [
    {
     "data": {
      "text/plain": [
       "array([4.7614086e-01, 9.1073918e-05, 1.6737465e-02, 2.1111540e-05,\n",
       "       5.0700945e-01], dtype=float32)"
      ]
     },
     "execution_count": 41,
     "metadata": {},
     "output_type": "execute_result"
    }
   ],
   "source": [
    "comb[kk]"
   ]
  },
  {
   "cell_type": "code",
   "execution_count": 10,
   "metadata": {},
   "outputs": [],
   "source": [
    "aa=pred2_num!=3"
   ]
  },
  {
   "cell_type": "code",
   "execution_count": 11,
   "metadata": {},
   "outputs": [
    {
     "data": {
      "text/plain": [
       "11361"
      ]
     },
     "execution_count": 11,
     "metadata": {},
     "output_type": "execute_result"
    }
   ],
   "source": [
    "np.count_nonzero(aa)"
   ]
  },
  {
   "cell_type": "code",
   "execution_count": 18,
   "metadata": {},
   "outputs": [
    {
     "data": {
      "text/plain": [
       "(11361, 5)"
      ]
     },
     "execution_count": 18,
     "metadata": {},
     "output_type": "execute_result"
    }
   ],
   "source": [
    "comb[aa,:].shape"
   ]
  },
  {
   "cell_type": "code",
   "execution_count": 12,
   "metadata": {},
   "outputs": [],
   "source": [
    "predictions2d_u1d=np.load('task2_predictions2d_more_using2traj_1dnets.npy')"
   ]
  },
  {
   "cell_type": "code",
   "execution_count": 13,
   "metadata": {},
   "outputs": [
    {
     "data": {
      "text/plain": [
       "(13309, 5)"
      ]
     },
     "execution_count": 13,
     "metadata": {},
     "output_type": "execute_result"
    }
   ],
   "source": [
    "predictions2d_u1d.shape"
   ]
  },
  {
   "cell_type": "code",
   "execution_count": 14,
   "metadata": {},
   "outputs": [
    {
     "data": {
      "text/plain": [
       "(13309, 5)"
      ]
     },
     "execution_count": 14,
     "metadata": {},
     "output_type": "execute_result"
    }
   ],
   "source": [
    "predictions2d.shape"
   ]
  },
  {
   "cell_type": "code",
   "execution_count": 15,
   "metadata": {},
   "outputs": [],
   "source": [
    "pred_2d_u2d_int=np.copy(predictions2d)"
   ]
  },
  {
   "cell_type": "code",
   "execution_count": 16,
   "metadata": {},
   "outputs": [],
   "source": [
    "comb=np.copy(pred_2d_u2d_int)\n",
    "comb_ave=(predictions2d_u1d+pred_2d_u2d_int)/2\n",
    "comb[aa,:]=comb_ave[aa,:]"
   ]
  },
  {
   "cell_type": "code",
   "execution_count": 17,
   "metadata": {},
   "outputs": [
    {
     "data": {
      "text/plain": [
       "-1.7828848"
      ]
     },
     "execution_count": 17,
     "metadata": {},
     "output_type": "execute_result"
    }
   ],
   "source": [
    "np.min(predictions2d)"
   ]
  },
  {
   "cell_type": "code",
   "execution_count": 75,
   "metadata": {},
   "outputs": [
    {
     "data": {
      "text/plain": [
       "1.4243132e-17"
      ]
     },
     "execution_count": 75,
     "metadata": {},
     "output_type": "execute_result"
    }
   ],
   "source": [
    "np.min(predictions2d_u1d)"
   ]
  },
  {
   "cell_type": "code",
   "execution_count": 33,
   "metadata": {},
   "outputs": [
    {
     "data": {
      "text/plain": [
       "array([1.4243132e-17, 8.4228136e-17, 1.1205282e-16, 1.3298640e-16,\n",
       "       1.7883847e-16, 2.4020573e-16, 3.5759539e-16, 8.2201011e-16,\n",
       "       1.1061284e-15, 1.2059451e-15, 1.2166796e-15, 1.3286062e-15,\n",
       "       1.3411235e-15, 1.4724599e-15, 2.8980944e-15, 3.0933044e-15,\n",
       "       3.3311476e-15, 3.5644743e-15, 4.0173413e-15, 4.8836032e-15],\n",
       "      dtype=float32)"
      ]
     },
     "execution_count": 33,
     "metadata": {},
     "output_type": "execute_result"
    }
   ],
   "source": [
    "np.sort(predictions2d_u1d.flatten())[:20]"
   ]
  },
  {
   "cell_type": "code",
   "execution_count": 31,
   "metadata": {},
   "outputs": [
    {
     "data": {
      "text/plain": [
       "array([1.3651712, 1.3681145, 1.3811347, 1.3820627, 1.382435 , 1.3841519,\n",
       "       1.3849874, 1.3904436, 1.3908808, 1.3940005, 1.3956432, 1.3970739,\n",
       "       1.4001739, 1.4008023, 1.4012104, 1.4025639, 1.4145017, 1.4150304,\n",
       "       1.4159441, 1.4167441, 1.4209636, 1.421852 , 1.4218715, 1.4225233,\n",
       "       1.4253209, 1.4254175, 1.4266965, 1.4268854, 1.4279376, 1.4290079,\n",
       "       1.4344213, 1.4356186, 1.4358485, 1.4358959, 1.4372768, 1.4395409,\n",
       "       1.4397264, 1.4408166, 1.4412644, 1.4419794, 1.4422289, 1.4448876,\n",
       "       1.4460754, 1.4469401, 1.4477375, 1.4487789, 1.4496102, 1.4521025,\n",
       "       1.4532676, 1.4533259, 1.4551094, 1.4556532, 1.4602878, 1.463263 ,\n",
       "       1.4645464, 1.471554 , 1.47331  , 1.4734108, 1.4746748, 1.4748346,\n",
       "       1.4792266, 1.4809092, 1.4812933, 1.4817605, 1.4832046, 1.4875679,\n",
       "       1.4878298, 1.4901534, 1.4901943, 1.4912297, 1.4923034, 1.4929543,\n",
       "       1.4981972, 1.5071597, 1.5082101, 1.5082932, 1.508702 , 1.509679 ,\n",
       "       1.5110493, 1.5112206, 1.5179832, 1.5262864, 1.529904 , 1.5392174,\n",
       "       1.5403566, 1.5415206, 1.5415902, 1.5471921, 1.549166 , 1.5551957,\n",
       "       1.557344 , 1.5593855, 1.5657443, 1.5671608, 1.5684832, 1.5698798,\n",
       "       1.5715463, 1.5723293, 1.5734358, 1.5735657, 1.5808744, 1.5924295,\n",
       "       1.5942739, 1.597533 , 1.598545 , 1.6003137, 1.603693 , 1.6101127,\n",
       "       1.6152136, 1.6193523, 1.6204593, 1.6242039, 1.6251607, 1.6308641,\n",
       "       1.631854 , 1.6360362, 1.6363513, 1.6387814, 1.6425501, 1.6436194,\n",
       "       1.6476884, 1.6691662, 1.6827635, 1.6842092, 1.6893451, 1.6919066,\n",
       "       1.691927 , 1.6995316, 1.7019778, 1.7048215, 1.7080457, 1.7095661,\n",
       "       1.7114582, 1.7207592, 1.7388   , 1.7394475, 1.7473431, 1.750715 ,\n",
       "       1.758595 , 1.7591431, 1.7740555, 1.7794703, 1.7812133, 1.7902136,\n",
       "       1.791622 , 1.7954803, 1.7982669, 1.7983589, 1.7990577, 1.7991805,\n",
       "       1.8031718, 1.8059417, 1.8207806, 1.8257715, 1.832166 , 1.8355676,\n",
       "       1.8386334, 1.840157 , 1.8455895, 1.8595428, 1.8630818, 1.8705151,\n",
       "       1.8871857, 1.8915004, 1.9048415, 1.907071 , 1.9218342, 1.9407942,\n",
       "       1.9426574, 1.9435399, 1.945663 , 1.9534066, 2.0152082, 2.0236206,\n",
       "       2.0254605, 2.027766 , 2.0779464, 2.0783548, 2.10506  , 2.1205182,\n",
       "       2.1235342, 2.1241057, 2.1299844, 2.1526823, 2.1767948, 2.230122 ,\n",
       "       2.2420704, 2.27388  , 2.2816155, 2.3057432, 2.317499 , 2.3288777,\n",
       "       2.3530116, 2.3981118, 2.4498003, 2.5240202, 2.5335057, 2.551252 ,\n",
       "       2.7153256, 2.782453 ], dtype=float32)"
      ]
     },
     "execution_count": 31,
     "metadata": {},
     "output_type": "execute_result"
    }
   ],
   "source": [
    "np.sort(predictions2d.flatten())[-200:]"
   ]
  },
  {
   "cell_type": "code",
   "execution_count": 73,
   "metadata": {},
   "outputs": [
    {
     "data": {
      "text/plain": [
       "array([[ 1.52129903e-02, -1.52154565e-02,  1.51597817e-07,\n",
       "         2.30740716e-06,  2.42876581e-08],\n",
       "       [ 1.79986237e-04,  6.97105497e-06,  1.21537715e-01,\n",
       "         8.52037374e-07, -1.21725500e-01],\n",
       "       [-6.62054420e-02,  4.22156591e-05, -2.23181546e-02,\n",
       "         4.22001031e-05,  8.84392411e-02],\n",
       "       ...,\n",
       "       [ 1.16059259e-02, -3.86416018e-02, -1.14351213e-02,\n",
       "         7.81518966e-03,  3.06556076e-02],\n",
       "       [-3.53891123e-03,  5.96654415e-03, -3.04578245e-03,\n",
       "        -6.67528715e-04,  1.28564611e-03],\n",
       "       [ 6.96199480e-04,  3.99565510e-03, -4.94563580e-03,\n",
       "         1.73265471e-05,  2.36411113e-04]], dtype=float32)"
      ]
     },
     "execution_count": 73,
     "metadata": {},
     "output_type": "execute_result"
    }
   ],
   "source": [
    "predictions2d_u1d-predictions2d"
   ]
  },
  {
   "cell_type": "code",
   "execution_count": 25,
   "metadata": {},
   "outputs": [],
   "source": [
    "nlw_2d=np.argmax(predictions2d[aa],axis=1)"
   ]
  },
  {
   "cell_type": "code",
   "execution_count": 26,
   "metadata": {},
   "outputs": [],
   "source": [
    "tot_2d=np.argmax(predictions2d,axis=1)"
   ]
  },
  {
   "cell_type": "code",
   "execution_count": 27,
   "metadata": {},
   "outputs": [],
   "source": [
    "tot_comb=np.argmax(comb,axis=1)"
   ]
  },
  {
   "cell_type": "code",
   "execution_count": 12,
   "metadata": {},
   "outputs": [],
   "source": [
    "nlw_1d=np.argmax(predictions2d_u1d[aa],axis=1)"
   ]
  },
  {
   "cell_type": "code",
   "execution_count": 13,
   "metadata": {},
   "outputs": [
    {
     "data": {
      "text/plain": [
       "array([ True,  True,  True, ...,  True,  True,  True])"
      ]
     },
     "execution_count": 13,
     "metadata": {},
     "output_type": "execute_result"
    }
   ],
   "source": [
    "nlw_2d==nlw_1d"
   ]
  },
  {
   "cell_type": "code",
   "execution_count": 16,
   "metadata": {},
   "outputs": [
    {
     "data": {
      "text/plain": [
       "11361"
      ]
     },
     "execution_count": 16,
     "metadata": {},
     "output_type": "execute_result"
    }
   ],
   "source": [
    "len(nlw_2d)"
   ]
  },
  {
   "cell_type": "code",
   "execution_count": 15,
   "metadata": {},
   "outputs": [
    {
     "data": {
      "text/plain": [
       "9543"
      ]
     },
     "execution_count": 15,
     "metadata": {},
     "output_type": "execute_result"
    }
   ],
   "source": [
    "np.count_nonzero(nlw_2d==nlw_1d)"
   ]
  },
  {
   "cell_type": "code",
   "execution_count": 28,
   "metadata": {},
   "outputs": [
    {
     "data": {
      "text/plain": [
       "13309"
      ]
     },
     "execution_count": 28,
     "metadata": {},
     "output_type": "execute_result"
    }
   ],
   "source": [
    "np.count_nonzero(tot_comb==tot_2d)"
   ]
  },
  {
   "cell_type": "code",
   "execution_count": 43,
   "metadata": {},
   "outputs": [],
   "source": [
    "predictions3d_u1d=np.load('task2_predictions3d_u1d_more_nets.npy')"
   ]
  },
  {
   "cell_type": "code",
   "execution_count": 44,
   "metadata": {},
   "outputs": [
    {
     "ename": "FileNotFoundError",
     "evalue": "[Errno 2] No such file or directory: 'task2_predictions3d_u2d_CORRECTED.npy'",
     "output_type": "error",
     "traceback": [
      "\u001b[0;31m---------------------------------------------------------------------------\u001b[0m",
      "\u001b[0;31mFileNotFoundError\u001b[0m                         Traceback (most recent call last)",
      "\u001b[0;32m<ipython-input-44-3bf1820d7463>\u001b[0m in \u001b[0;36m<module>\u001b[0;34m\u001b[0m\n\u001b[0;32m----> 1\u001b[0;31m \u001b[0mpredictions3d_u2d\u001b[0m\u001b[0;34m=\u001b[0m\u001b[0mnp\u001b[0m\u001b[0;34m.\u001b[0m\u001b[0mload\u001b[0m\u001b[0;34m(\u001b[0m\u001b[0;34m'task2_predictions3d_u2d_CORRECTED.npy'\u001b[0m\u001b[0;34m)\u001b[0m\u001b[0;34m\u001b[0m\u001b[0;34m\u001b[0m\u001b[0m\n\u001b[0m",
      "\u001b[0;32m/opt/anaconda3/lib/python3.7/site-packages/numpy/lib/npyio.py\u001b[0m in \u001b[0;36mload\u001b[0;34m(file, mmap_mode, allow_pickle, fix_imports, encoding)\u001b[0m\n\u001b[1;32m    426\u001b[0m         \u001b[0mown_fid\u001b[0m \u001b[0;34m=\u001b[0m \u001b[0;32mFalse\u001b[0m\u001b[0;34m\u001b[0m\u001b[0;34m\u001b[0m\u001b[0m\n\u001b[1;32m    427\u001b[0m     \u001b[0;32melse\u001b[0m\u001b[0;34m:\u001b[0m\u001b[0;34m\u001b[0m\u001b[0;34m\u001b[0m\u001b[0m\n\u001b[0;32m--> 428\u001b[0;31m         \u001b[0mfid\u001b[0m \u001b[0;34m=\u001b[0m \u001b[0mopen\u001b[0m\u001b[0;34m(\u001b[0m\u001b[0mos_fspath\u001b[0m\u001b[0;34m(\u001b[0m\u001b[0mfile\u001b[0m\u001b[0;34m)\u001b[0m\u001b[0;34m,\u001b[0m \u001b[0;34m\"rb\"\u001b[0m\u001b[0;34m)\u001b[0m\u001b[0;34m\u001b[0m\u001b[0;34m\u001b[0m\u001b[0m\n\u001b[0m\u001b[1;32m    429\u001b[0m         \u001b[0mown_fid\u001b[0m \u001b[0;34m=\u001b[0m \u001b[0;32mTrue\u001b[0m\u001b[0;34m\u001b[0m\u001b[0;34m\u001b[0m\u001b[0m\n\u001b[1;32m    430\u001b[0m \u001b[0;34m\u001b[0m\u001b[0m\n",
      "\u001b[0;31mFileNotFoundError\u001b[0m: [Errno 2] No such file or directory: 'task2_predictions3d_u2d_CORRECTED.npy'"
     ]
    }
   ],
   "source": [
    "predictions3d_u2d=np.load('task2_predictions3d_u2d_CORRECTED.npy')"
   ]
  },
  {
   "cell_type": "code",
   "execution_count": 40,
   "metadata": {},
   "outputs": [
    {
     "data": {
      "text/plain": [
       "array([2.5808233e-01, 1.5098442e-04, 4.6638918e-01, 1.4533671e-04,\n",
       "       2.7523226e-01], dtype=float32)"
      ]
     },
     "execution_count": 40,
     "metadata": {},
     "output_type": "execute_result"
    }
   ],
   "source": [
    "comb[2]"
   ]
  },
  {
   "cell_type": "code",
   "execution_count": 19,
   "metadata": {},
   "outputs": [
    {
     "data": {
      "text/plain": [
       "(10000, 5)"
      ]
     },
     "execution_count": 19,
     "metadata": {},
     "output_type": "execute_result"
    }
   ],
   "source": [
    "predictions3d.shape"
   ]
  },
  {
   "cell_type": "code",
   "execution_count": null,
   "metadata": {},
   "outputs": [],
   "source": [
    "#combine predict"
   ]
  },
  {
   "cell_type": "code",
   "execution_count": 20,
   "metadata": {},
   "outputs": [],
   "source": [
    "predictions_task2=[predictions1d,comb,predictions3d]"
   ]
  },
  {
   "cell_type": "code",
   "execution_count": null,
   "metadata": {},
   "outputs": [],
   "source": [
    "# pred_to_txt = np.ones((len(predictions), 6))\n",
    "# for i in range(len(predictions)):\n",
    "#     for j in range(5):\n",
    "        \n",
    "#         pred_to_txt[i, j+1] = predictions[i][j]\n",
    "\n",
    "# np.savetxt('task2.txt', pred_to_txt.astype(float), fmt = '%1.5f', delimiter = ';')"
   ]
  },
  {
   "cell_type": "code",
   "execution_count": 16,
   "metadata": {},
   "outputs": [],
   "source": [
    "# #having only 2d cases\n",
    "# #predictions_task2=[predictions1d,predictions2d]\n",
    "# pred_to_txt = np.concatenate((np.ones((len(predictions1d), 6)),\n",
    "#                               2*np.ones((len(), 6)),3*np.ones((len(predictions3d), 6))))\n",
    "# for dim in [1,2,3]: \n",
    "#     for i in range(len(predictions_task2[dim-1])):\n",
    "#         for j in range(5):\n",
    "        \n",
    "#             pred_to_txt[i+len(predictions1d)*(dim-1), j+1] = predictions_task2[dim-1][i][j]\n",
    "\n",
    "    \n",
    "# #     pred_to_txt_temp = dim*np.ones((len(predictions_task2[dim-1]), 2))\n",
    "# #     pred_to_txt_temp[:, 1] = predictions_task2[dim-2]\n",
    "# #     pred_to_txt.append(pred_to_txt_temp)\n",
    "# np.savetxt('task2_pro.txt', pred_to_txt.astype(float), fmt = '%1.5f', delimiter = ';')"
   ]
  },
  {
   "cell_type": "code",
   "execution_count": 42,
   "metadata": {},
   "outputs": [
    {
     "name": "stdout",
     "output_type": "stream",
     "text": [
      "0\n",
      "16618\n",
      "16618\n",
      "29927\n",
      "29927\n",
      "39927\n"
     ]
    }
   ],
   "source": [
    "pred_to_txt = np.concatenate((np.ones((len(predictions1d), 6)),\n",
    "                              2*np.ones((len(comb), 6)),\n",
    "                              3*np.ones((len(predictions3d), 6))))\n",
    "bb=0\n",
    "for dim in [1,2,3]:\n",
    "    dis=len(predictions_task2[dim-1])\n",
    "    print(bb)\n",
    "    for i in range(dis):\n",
    "        for j in range(5):\n",
    "            pred_to_txt[i+bb, j+1] = predictions_task2[dim-1][i][j]\n",
    "    bb=bb+dis\n",
    "    print(bb)\n",
    "#     pred_to_txt_temp = dim*np.ones((len(predictions_task2[dim-1]), 2))\n",
    "#     pred_to_txt_temp[:, 1] = predictions_task2[dim-2]\n",
    "#     pred_to_txt.append(pred_to_txt_temp)\n",
    "np.savetxt('task2_pro.txt', pred_to_txt.astype(float), fmt = '%1.5f', delimiter = ';')"
   ]
  },
  {
   "cell_type": "code",
   "execution_count": 34,
   "metadata": {},
   "outputs": [
    {
     "data": {
      "text/plain": [
       "array([3.00000000e+00, 8.67642879e-01, 1.72879063e-02, 8.37111584e-05,\n",
       "       1.13977821e-05, 1.14974037e-01])"
      ]
     },
     "execution_count": 34,
     "metadata": {},
     "output_type": "execute_result"
    }
   ],
   "source": [
    "pred_to_txt[20001]"
   ]
  },
  {
   "cell_type": "code",
   "execution_count": 35,
   "metadata": {},
   "outputs": [
    {
     "data": {
      "text/plain": [
       "array([8.6764288e-01, 1.7287906e-02, 8.3711158e-05, 1.1397782e-05,\n",
       "       1.1497404e-01], dtype=float32)"
      ]
     },
     "execution_count": 35,
     "metadata": {},
     "output_type": "execute_result"
    }
   ],
   "source": [
    "predictions3d[]"
   ]
  },
  {
   "cell_type": "code",
   "execution_count": null,
   "metadata": {},
   "outputs": [],
   "source": [
    "pred_to_txt = np.ones((len(predictions_comb), 6))\n",
    "for i in range(len(predictions_comb)):\n",
    "    for j in range(5):\n",
    "        \n",
    "        pred_to_txt[i, j+1] = predictions_comb[i][j]\n",
    "\n",
    "np.savetxt('task2_comb.txt', pred_to_txt.astype(float), fmt = '%1.5f', delimiter = ';')"
   ]
  }
 ],
 "metadata": {
  "kernelspec": {
   "display_name": "Python 3",
   "language": "python",
   "name": "python3"
  },
  "language_info": {
   "codemirror_mode": {
    "name": "ipython",
    "version": 3
   },
   "file_extension": ".py",
   "mimetype": "text/x-python",
   "name": "python",
   "nbconvert_exporter": "python",
   "pygments_lexer": "ipython3",
   "version": "3.7.4"
  }
 },
 "nbformat": 4,
 "nbformat_minor": 4
}
