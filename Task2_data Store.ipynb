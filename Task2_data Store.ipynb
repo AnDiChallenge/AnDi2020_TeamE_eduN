{
 "cells": [
  {
   "cell_type": "code",
   "execution_count": null,
   "metadata": {},
   "outputs": [
    {
     "name": "stdout",
     "output_type": "stream",
     "text": [
      "Creating a dataset for task(s) 2 and dimension(s) 2.\n",
      "Generating dataset for dimension 2.\n"
     ]
    },
    {
     "name": "stderr",
     "output_type": "stream",
     "text": [
      "C:\\Users\\Aykut\\Miniconda3\\lib\\site-packages\\andi\\diffusion_models.py:189: RuntimeWarning: overflow encountered in power\n",
      "  dt = (1-np.random.rand(T))**(-1/sigma)\n"
     ]
    },
    {
     "name": "stdout",
     "output_type": "stream",
     "text": [
      "Creating a dataset for task(s) 2 and dimension(s) 2.\n",
      "Generating dataset for dimension 2.\n",
      "Creating a dataset for task(s) 2 and dimension(s) 2.\n",
      "Generating dataset for dimension 2.\n",
      "Creating a dataset for task(s) 2 and dimension(s) 2.\n",
      "Generating dataset for dimension 2.\n",
      "Creating a dataset for task(s) 2 and dimension(s) 2.\n",
      "Generating dataset for dimension 2.\n",
      "Creating a dataset for task(s) 2 and dimension(s) 2.\n",
      "Generating dataset for dimension 2.\n",
      "Creating a dataset for task(s) 2 and dimension(s) 2.\n",
      "Generating dataset for dimension 2.\n"
     ]
    }
   ],
   "source": [
    "import andi\n",
    "import numpy as np\n",
    "from tensorflow.keras.models import load_model\n",
    "import os\n",
    "import scipy.io as sci\n",
    "AD = andi.andi_datasets()\n",
    "n=0\n",
    "for repeat in range(30): \n",
    "    i = 425\n",
    "    N = 100000\n",
    "    dimension = 2\n",
    "    z, z, X, Y, Z, Z = AD.andi_dataset(N = N, tasks = 2, dimensions = dimension,\n",
    "                                                 min_T = i, max_T = i+1, save_dataset=False, path_datasets=str(i)+'master1')\n",
    "    sci.savemat('task2_1d' + str(i) + '_' + str(n) + '.mat',{'X': X, 'Y':Y})\n",
    "    n += 1 "
   ]
  }
 ],
 "metadata": {
  "kernelspec": {
   "display_name": "Python 3",
   "language": "python",
   "name": "python3"
  },
  "language_info": {
   "codemirror_mode": {
    "name": "ipython",
    "version": 3
   },
   "file_extension": ".py",
   "mimetype": "text/x-python",
   "name": "python",
   "nbconvert_exporter": "python",
   "pygments_lexer": "ipython3",
   "version": "3.7.4"
  }
 },
 "nbformat": 4,
 "nbformat_minor": 4
}
