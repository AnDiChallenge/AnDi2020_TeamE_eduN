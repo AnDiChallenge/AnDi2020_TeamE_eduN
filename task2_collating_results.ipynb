{
 "cells": [
  {
   "cell_type": "code",
   "execution_count": null,
   "metadata": {},
   "outputs": [],
   "source": [
    "import numpy as np\n",
    "import csv as csv\n"
   ]
  },
  {
   "cell_type": "markdown",
   "metadata": {},
   "source": [
    "Importing the predictions for 1d data"
   ]
  },
  {
   "cell_type": "code",
   "execution_count": null,
   "metadata": {},
   "outputs": [],
   "source": [
    "predictions1d=np.load('predictions/task2/task2_predictions1d_more_nets.npy')"
   ]
  },
  {
   "cell_type": "code",
   "execution_count": null,
   "metadata": {},
   "outputs": [],
   "source": [
    "predictions1d.shape"
   ]
  },
  {
   "cell_type": "markdown",
   "metadata": {},
   "source": [
    "# 2d case"
   ]
  },
  {
   "cell_type": "markdown",
   "metadata": {},
   "source": [
    "Importing predictions made on 2d data using nets trained on 2d data"
   ]
  },
  {
   "cell_type": "code",
   "execution_count": null,
   "metadata": {},
   "outputs": [],
   "source": [
    "predictions2d_u2d=np.load('predictions/task2/task2_predictions2d_using2d_CORRECTED.npy')"
   ]
  },
  {
   "cell_type": "code",
   "execution_count": null,
   "metadata": {},
   "outputs": [],
   "source": [
    "predictions2d_u2d.shape"
   ]
  },
  {
   "cell_type": "markdown",
   "metadata": {},
   "source": [
    "Converting output of predictions in two single number indicating what model class it was predicted. Recall 3 is LW"
   ]
  },
  {
   "cell_type": "code",
   "execution_count": null,
   "metadata": {},
   "outputs": [],
   "source": [
    "pred2_num=np.argmax(predictions2d_u2d,axis=1)"
   ]
  },
  {
   "cell_type": "markdown",
   "metadata": {},
   "source": [
    "Writing vector identifying all trajectories that were NOT predicted as LW by the 2d nets"
   ]
  },
  {
   "cell_type": "code",
   "execution_count": null,
   "metadata": {},
   "outputs": [],
   "source": [
    "aa=pred2_num!=3"
   ]
  },
  {
   "cell_type": "code",
   "execution_count": null,
   "metadata": {},
   "outputs": [],
   "source": [
    "np.count_nonzero(aa)"
   ]
  },
  {
   "cell_type": "markdown",
   "metadata": {},
   "source": [
    "Predictions on 2d data using average of 1d nets applied on different dimensions independently.\n",
    "We know that this gives a wrong result for LW trajectories"
   ]
  },
  {
   "cell_type": "code",
   "execution_count": null,
   "metadata": {},
   "outputs": [],
   "source": [
    "predictions2d_u1d=np.load('predictions/task2/task2_predictions2d_u1d_newest.npy')"
   ]
  },
  {
   "cell_type": "code",
   "execution_count": null,
   "metadata": {},
   "outputs": [],
   "source": [
    "predictions2d_u1d.shape"
   ]
  },
  {
   "cell_type": "markdown",
   "metadata": {},
   "source": [
    "For trajectories that are NOT LW, the 1d nets yield good results.\n",
    "Here we average the predictions made with 1d nets and the ones made on 2d nets for trajectories that were predicted NOT to be LW. \n",
    "For the LW traj keep 2d predictions"
   ]
  },
  {
   "cell_type": "code",
   "execution_count": null,
   "metadata": {},
   "outputs": [],
   "source": [
    "comb=np.copy(predictions2d_u2d)\n",
    "comb_ave=(predictions2d_u1d+predictions2d_u2d)/2\n",
    "comb[aa,:]=comb_ave[aa,:]"
   ]
  },
  {
   "cell_type": "markdown",
   "metadata": {},
   "source": [
    "# 3d case"
   ]
  },
  {
   "cell_type": "markdown",
   "metadata": {},
   "source": [
    "Predictions made using 1d nets avreaging predictions made on x, y ,z independently"
   ]
  },
  {
   "cell_type": "code",
   "execution_count": null,
   "metadata": {},
   "outputs": [],
   "source": [
    "predictions3d_u1d=np.load('predictions/task2/task2_predictions3d_u1d_more_nets.npy')"
   ]
  },
  {
   "cell_type": "markdown",
   "metadata": {},
   "source": [
    "Predictions made using 2d nets on combinations of 2 of the 3 dimension of the data: xy, xz,yz"
   ]
  },
  {
   "cell_type": "code",
   "execution_count": null,
   "metadata": {},
   "outputs": [],
   "source": [
    "predictions3d_u2d=np.load('predictions/task2/task2_predictions3d_u2d_CORRECTED.npy')"
   ]
  },
  {
   "cell_type": "markdown",
   "metadata": {},
   "source": [
    "turnning 2d predictions on numerical value. Recall 3 is LW"
   ]
  },
  {
   "cell_type": "code",
   "execution_count": null,
   "metadata": {},
   "outputs": [],
   "source": [
    "pred3_num=np.argmax(predictions3d_u2d,axis=1)"
   ]
  },
  {
   "cell_type": "markdown",
   "metadata": {},
   "source": [
    "Identify trajectories that are NOT LW"
   ]
  },
  {
   "cell_type": "code",
   "execution_count": null,
   "metadata": {},
   "outputs": [],
   "source": [
    "bb=pred3_num!=3"
   ]
  },
  {
   "cell_type": "markdown",
   "metadata": {},
   "source": [
    "For traj that are NOT LW combine predictions made with 2d and 3d data, for LW traj keep 2d predictions"
   ]
  },
  {
   "cell_type": "code",
   "execution_count": null,
   "metadata": {},
   "outputs": [],
   "source": [
    "comb3d=np.copy(predictions3d_u2d)\n",
    "comb_ave3d=(predictions3d_u1d+predictions3d_u2d)/2\n",
    "comb3d[bb,:]=comb_ave3d[bb,:]"
   ]
  },
  {
   "cell_type": "markdown",
   "metadata": {},
   "source": [
    "put together predictions for different dimensions"
   ]
  },
  {
   "cell_type": "code",
   "execution_count": null,
   "metadata": {},
   "outputs": [],
   "source": [
    "predictions_task2 = [predictions1d, comb, comb3d]"
   ]
  },
  {
   "cell_type": "code",
   "execution_count": null,
   "metadata": {},
   "outputs": [],
   "source": [
    "pred_to_txt = np.concatenate((np.ones((len(predictions1d), 6)),\n",
    "                              2*np.ones((len(comb), 6)),\n",
    "                              3*np.ones((len(comb3d), 6))))\n",
    "bb=0\n",
    "for dim in [1,2,3]:\n",
    "    dis=len(predictions_task2[dim-1])\n",
    "    #print(bb)\n",
    "    for i in range(dis):\n",
    "        for j in range(5):\n",
    "            pred_to_txt[i+bb, j+1] = predictions_task2[dim-1][i][j]\n",
    "    bb=bb+dis\n",
    "    \n",
    "np.savetxt('best_sub/task2.txt', pred_to_txt.astype(float), fmt = '%1.5f', delimiter = ';')"
   ]
  },
  {
   "cell_type": "code",
   "execution_count": null,
   "metadata": {},
   "outputs": [],
   "source": []
  }
 ],
 "metadata": {
  "kernelspec": {
   "display_name": "Python 3",
   "language": "python",
   "name": "python3"
  },
  "language_info": {
   "codemirror_mode": {
    "name": "ipython",
    "version": 3
   },
   "file_extension": ".py",
   "mimetype": "text/x-python",
   "name": "python",
   "nbconvert_exporter": "python",
   "pygments_lexer": "ipython3",
   "version": "3.7.4"
  }
 },
 "nbformat": 4,
 "nbformat_minor": 4
}
