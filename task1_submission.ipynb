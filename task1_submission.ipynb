{
 "cells": [
  {
   "cell_type": "code",
   "execution_count": null,
   "metadata": {},
   "outputs": [],
   "source": [
    "import andi\n",
    "import numpy as np\n",
    "import csv as csv\n",
    "import numpy as np\n",
    "\n",
    "from sklearn.metrics import mean_absolute_error\n",
    "import tensorflow as tf\n",
    "\n",
    "\n",
    "\n",
    "import keras\n",
    "from keras.models import Sequential\n",
    "from keras.layers import Dense, Dropout, Activation\n",
    "from keras.optimizers import SGD\n",
    "from keras import losses, metrics\n",
    "\n",
    "from keras.models import Sequential\n",
    "from keras.layers import Dense\n",
    "from keras.layers import SimpleRNN\n",
    "from keras.layers import LSTM\n",
    "\n",
    "from keras.layers import Dropout\n",
    "from keras.layers import Bidirectional\n",
    "#from keras.models import load_model\n",
    "from tensorflow.keras.models import load_model\n",
    "import os\n",
    "from matplotlib import pyplot as plt\n",
    "#from data_split import data_split\n",
    "from many_net import   many_net_hd_u1d, many_net_1d, many_net_3d_u2d, many_net_uhd"
   ]
  },
  {
   "cell_type": "markdown",
   "metadata": {},
   "source": [
    "Importing the data"
   ]
  },
  {
   "cell_type": "code",
   "execution_count": null,
   "metadata": {},
   "outputs": [],
   "source": [
    "import csv\n",
    "trajs_from_files = csv.reader(open('challenge_for_scoring/task1.txt','r'), delimiter=';', \n",
    "                                        lineterminator='\\n',quoting=csv.QUOTE_NONNUMERIC)\n",
    "validation = [[],[],[]]\n",
    "for trajs in enumerate(trajs_from_files):\n",
    "    validation[int(trajs[1][0])-1].append(trajs[1][1:])"
   ]
  },
  {
   "cell_type": "code",
   "execution_count": null,
   "metadata": {},
   "outputs": [],
   "source": [
    "len(validation[1])"
   ]
  },
  {
   "cell_type": "markdown",
   "metadata": {},
   "source": [
    "Importing the networks"
   ]
  },
  {
   "cell_type": "code",
   "execution_count": null,
   "metadata": {},
   "outputs": [],
   "source": [
    "centers1d =[25, 50, 65, 75, 125, 165, 225,\n",
    "            325, 425, 525, 625, 725, 825, 925]\n",
    "meta_model1d=[]\n",
    "for i in centers1d: #NB I should go the whole way to 925 and use 25 and 60\n",
    "    m=load_model('nets/task1/1d/Model_1D_recdout_'+str(i)+'.h5')\n",
    "    #m=tf.keras.models.load_model('Model_1D_recdout_'+str(i)+'.h5')\n",
    "\n",
    "\n",
    "    meta_model1d.append(m)\n",
    "    "
   ]
  },
  {
   "cell_type": "code",
   "execution_count": null,
   "metadata": {
    "scrolled": true
   },
   "outputs": [],
   "source": [
    "predictions1d=many_net_1d(meta_model1d,validation[0],centers=centers1d)"
   ]
  },
  {
   "cell_type": "code",
   "execution_count": null,
   "metadata": {},
   "outputs": [],
   "source": [
    "np.save('predictions/task1/task1_pred_1d_final.npy',predictions1d)"
   ]
  },
  {
   "cell_type": "markdown",
   "metadata": {},
   "source": [
    "# 2d case"
   ]
  },
  {
   "cell_type": "markdown",
   "metadata": {},
   "source": [
    "Using 1d nets"
   ]
  },
  {
   "cell_type": "code",
   "execution_count": null,
   "metadata": {},
   "outputs": [],
   "source": [
    "a, predictions2d_u1d = many_net_hd_u1d(meta_model1d, validation[1],\n",
    "                                     centers=centers1d,dim=2,thr=1e-12)"
   ]
  },
  {
   "cell_type": "code",
   "execution_count": null,
   "metadata": {},
   "outputs": [],
   "source": [
    "np.save('predictions/task1/task1_pred_2d_u1d_final.npy',predictions2d_u1d)"
   ]
  },
  {
   "cell_type": "code",
   "execution_count": null,
   "metadata": {},
   "outputs": [],
   "source": [
    "predictions2d_u1d.shape"
   ]
  },
  {
   "cell_type": "markdown",
   "metadata": {},
   "source": [
    "Using 2d nets"
   ]
  },
  {
   "cell_type": "code",
   "execution_count": null,
   "metadata": {},
   "outputs": [],
   "source": [
    "net_centers2d=[25, 65, 125, 225, 325,  525, 725]\n",
    "meta_model2d=[]\n",
    "for i in net_centers2d: \n",
    "    m=load_model('nets/task1/2d/task1_2D_checkpoint_'+str(i)+'.h5')\n",
    "    #m=tf.keras.models.load_model('Model_1D_recdout_'+str(i)+'.h5')\n",
    "\n",
    "\n",
    "    meta_model2d.append(m)\n",
    "    "
   ]
  },
  {
   "cell_type": "code",
   "execution_count": null,
   "metadata": {},
   "outputs": [],
   "source": [
    "len(validation[1])"
   ]
  },
  {
   "cell_type": "code",
   "execution_count": null,
   "metadata": {},
   "outputs": [],
   "source": [
    "predictions2d_u2d = many_net_uhd(meta_model2d,validation[1],\n",
    "                                 centers=net_centers2d,dim=2)"
   ]
  },
  {
   "cell_type": "code",
   "execution_count": null,
   "metadata": {},
   "outputs": [],
   "source": [
    "np.save('predictions/task1/task1_pred_2d_u2d_final.npy',predictions2d_u2d)"
   ]
  },
  {
   "cell_type": "markdown",
   "metadata": {},
   "source": [
    "Classifying which trajectories are LW"
   ]
  },
  {
   "cell_type": "code",
   "execution_count": null,
   "metadata": {},
   "outputs": [],
   "source": [
    "net_centers2d_classi = [25,125, 225,425]\n",
    "meta_model2d_classi = []\n",
    "for i in net_centers2d_classi: #NB I should go the whole way to 925 and use 25 and 60\n",
    "    m=load_model('nets/task2/2d/task2_2D_checkpoint_'+str(i)+'.h5')\n",
    "    #m=tf.keras.models.load_model('Model_1D_recdout_'+str(i)+'.h5')\n",
    "\n",
    "\n",
    "    meta_model2d_classi.append(m)\n",
    "    "
   ]
  },
  {
   "cell_type": "code",
   "execution_count": null,
   "metadata": {},
   "outputs": [],
   "source": [
    "classi_2d = many_net_uhd(meta_model2d_classi, validation[1], \n",
    "                         centers=net_centers2d_classi,dim=2)\n"
   ]
  },
  {
   "cell_type": "code",
   "execution_count": null,
   "metadata": {},
   "outputs": [],
   "source": [
    "classi_2d=classi_2d.reshape(-1,5)"
   ]
  },
  {
   "cell_type": "code",
   "execution_count": null,
   "metadata": {},
   "outputs": [],
   "source": [
    "classi2d_num=np.argmax(classi_2d,axis=1)"
   ]
  },
  {
   "cell_type": "code",
   "execution_count": null,
   "metadata": {},
   "outputs": [],
   "source": [
    "np.save('predictions/task1/task1_classi2d.npy',classi2d_num)"
   ]
  },
  {
   "cell_type": "code",
   "execution_count": null,
   "metadata": {},
   "outputs": [],
   "source": [
    "aa=classi2_num!=3"
   ]
  },
  {
   "cell_type": "markdown",
   "metadata": {},
   "source": [
    "# 3d case"
   ]
  },
  {
   "cell_type": "code",
   "execution_count": null,
   "metadata": {},
   "outputs": [],
   "source": [
    "a3, predictions3d_u1d = many_net_hd_u1d(meta_model1d,validation[2], \n",
    "                                        centers=centers1d, dim=3,\n",
    "                                        thr=1e-12)"
   ]
  },
  {
   "cell_type": "code",
   "execution_count": null,
   "metadata": {},
   "outputs": [],
   "source": [
    "np.save('predictions/task1/task1_pred_3d_u1d_final.npy',predictions3d_u1d)"
   ]
  },
  {
   "cell_type": "markdown",
   "metadata": {},
   "source": [
    "3d using 2d nets"
   ]
  },
  {
   "cell_type": "code",
   "execution_count": null,
   "metadata": {},
   "outputs": [],
   "source": [
    "predictions3d_u2d = many_net_3d_u2d(meta_model2d,validation[2],\n",
    "                                    centers=net_centers2d)"
   ]
  },
  {
   "cell_type": "code",
   "execution_count": null,
   "metadata": {},
   "outputs": [],
   "source": [
    "np.save('predictions/task1/task1_predictions3d_u2d_final.npy',predictions3d_u2d)"
   ]
  },
  {
   "cell_type": "markdown",
   "metadata": {},
   "source": [
    "Classify the trajectories using nets trained on 2d data on the 2d projections of the 3d data"
   ]
  },
  {
   "cell_type": "code",
   "execution_count": null,
   "metadata": {},
   "outputs": [],
   "source": [
    "classi3d_u2d = many_net_3d_u2d(meta_model2d_classi,validation[2],\n",
    "                               centers=net_centers2d_classi)"
   ]
  },
  {
   "cell_type": "code",
   "execution_count": null,
   "metadata": {},
   "outputs": [],
   "source": [
    "classi3d_u2d = classi3d_u2d.reshape(-1,5)\n",
    "num_classi3d_u2d = np.argmax(classi3d_u2d,axis=1)"
   ]
  },
  {
   "cell_type": "code",
   "execution_count": null,
   "metadata": {},
   "outputs": [],
   "source": [
    "np.save('predictions/task1/task1_classi3d_u2d.npy',num_classi3d_u2d)"
   ]
  }
 ],
 "metadata": {
  "kernelspec": {
   "display_name": "Python 3",
   "language": "python",
   "name": "python3"
  },
  "language_info": {
   "codemirror_mode": {
    "name": "ipython",
    "version": 3
   },
   "file_extension": ".py",
   "mimetype": "text/x-python",
   "name": "python",
   "nbconvert_exporter": "python",
   "pygments_lexer": "ipython3",
   "version": "3.7.4"
  }
 },
 "nbformat": 4,
 "nbformat_minor": 4
}
