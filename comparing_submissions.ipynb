{
 "cells": [
  {
   "cell_type": "code",
   "execution_count": 1,
   "metadata": {},
   "outputs": [
    {
     "name": "stderr",
     "output_type": "stream",
     "text": [
      "Using TensorFlow backend.\n"
     ]
    }
   ],
   "source": [
    "import andi\n",
    "import numpy as np\n",
    "import csv as csv\n",
    "import numpy as np\n",
    "\n",
    "from sklearn.metrics import mean_absolute_error\n",
    "import tensorflow as tf\n",
    "\n",
    "\n",
    "\n",
    "import keras\n",
    "from keras.models import Sequential\n",
    "from keras.layers import Dense, Dropout, Activation\n",
    "from keras.optimizers import SGD\n",
    "from keras import losses, metrics\n",
    "\n",
    "from keras.models import Sequential\n",
    "from keras.layers import Dense\n",
    "from keras.layers import SimpleRNN\n",
    "from keras.layers import LSTM\n",
    "\n",
    "from keras.layers import Dropout\n",
    "from keras.layers import Bidirectional\n",
    "from tensorflow.keras.models import load_model\n",
    "import os\n",
    "from matplotlib import pyplot as plt\n",
    "from data_split import data_split"
   ]
  },
  {
   "cell_type": "markdown",
   "metadata": {},
   "source": [
    "# check how different were the two files"
   ]
  },
  {
   "cell_type": "code",
   "execution_count": 2,
   "metadata": {},
   "outputs": [],
   "source": [
    "import csv\n",
    "trajs_from_files = csv.reader(open('task3_tem3d_new.txt','r'), delimiter=';', \n",
    "                                        lineterminator='\\n',quoting=csv.QUOTE_NONNUMERIC)\n",
    "new = [[],[],[]]\n",
    "for trajs in enumerate(trajs_from_files):\n",
    "    new[int(trajs[1][0])-1].append(trajs[1][1:])"
   ]
  },
  {
   "cell_type": "code",
   "execution_count": 11,
   "metadata": {},
   "outputs": [],
   "source": [
    "new_mod2=np.asarray(new[0])[:,3]"
   ]
  },
  {
   "cell_type": "code",
   "execution_count": 8,
   "metadata": {},
   "outputs": [],
   "source": [
    "import csv\n",
    "trajs_from_files = csv.reader(open('task3_tem3d.txt','r'), delimiter=';', \n",
    "                                        lineterminator='\\n',quoting=csv.QUOTE_NONNUMERIC)\n",
    "old = [[],[],[]]\n",
    "for trajs in enumerate(trajs_from_files):\n",
    "    old[int(trajs[1][0])-1].append(trajs[1][1:])"
   ]
  },
  {
   "cell_type": "code",
   "execution_count": 9,
   "metadata": {},
   "outputs": [],
   "source": [
    "old_mod2=np.asarray(old[0])[:,3]"
   ]
  },
  {
   "cell_type": "code",
   "execution_count": 15,
   "metadata": {},
   "outputs": [
    {
     "data": {
      "text/plain": [
       "2418"
      ]
     },
     "execution_count": 15,
     "metadata": {},
     "output_type": "execute_result"
    }
   ],
   "source": [
    "np.count_nonzero(new_mod2-old_mod2)"
   ]
  },
  {
   "cell_type": "code",
   "execution_count": 16,
   "metadata": {},
   "outputs": [
    {
     "data": {
      "text/plain": [
       "10000"
      ]
     },
     "execution_count": 16,
     "metadata": {},
     "output_type": "execute_result"
    }
   ],
   "source": [
    "len(old_mod2)"
   ]
  },
  {
   "cell_type": "code",
   "execution_count": 2,
   "metadata": {},
   "outputs": [],
   "source": [
    "import csv\n",
    "trajs_from_files = csv.reader(open('/Users/stefabo/Documents/GitHub/eduRNN/fin4/fin4/task3.txt','r'), delimiter=';', \n",
    "                                        lineterminator='\\n',quoting=csv.QUOTE_NONNUMERIC)\n",
    "sub = [[],[],[]]\n",
    "for trajs in enumerate(trajs_from_files):\n",
    "    sub[int(trajs[1][0])-1].append(trajs[1][1:])"
   ]
  },
  {
   "cell_type": "code",
   "execution_count": 18,
   "metadata": {},
   "outputs": [],
   "source": [
    "sub_mod2=np.asarray(sub[0])[:,3]"
   ]
  },
  {
   "cell_type": "code",
   "execution_count": 19,
   "metadata": {},
   "outputs": [
    {
     "data": {
      "text/plain": [
       "0.0"
      ]
     },
     "execution_count": 19,
     "metadata": {},
     "output_type": "execute_result"
    }
   ],
   "source": [
    "np.max(np.abs(new_mod2-sub_mod2))"
   ]
  },
  {
   "cell_type": "code",
   "execution_count": 3,
   "metadata": {},
   "outputs": [],
   "source": [
    "trajs_from_files = csv.reader(open('/Users/stefabo/Documents/fin4/task3.txt','r'), delimiter=';', \n",
    "                                        lineterminator='\\n',quoting=csv.QUOTE_NONNUMERIC)\n",
    "sub4 = [[],[],[]]\n",
    "for trajs in enumerate(trajs_from_files):\n",
    "    sub4[int(trajs[1][0])-1].append(trajs[1][1:])"
   ]
  },
  {
   "cell_type": "code",
   "execution_count": 4,
   "metadata": {},
   "outputs": [],
   "source": [
    "trajs_from_files = csv.reader(open('/Users/stefabo/Documents/fin3/task3.txt','r'), delimiter=';', \n",
    "                                        lineterminator='\\n',quoting=csv.QUOTE_NONNUMERIC)\n",
    "sub3 = [[],[],[]]\n",
    "for trajs in enumerate(trajs_from_files):\n",
    "    sub3[int(trajs[1][0])-1].append(trajs[1][1:])"
   ]
  },
  {
   "cell_type": "code",
   "execution_count": 5,
   "metadata": {},
   "outputs": [],
   "source": [
    "sub4_mod2=np.asarray(sub4[0])[:,3]"
   ]
  },
  {
   "cell_type": "code",
   "execution_count": 6,
   "metadata": {},
   "outputs": [],
   "source": [
    "sub3_mod2=np.asarray(sub3[0])[:,3]"
   ]
  },
  {
   "cell_type": "code",
   "execution_count": 24,
   "metadata": {},
   "outputs": [
    {
     "data": {
      "text/plain": [
       "4.0"
      ]
     },
     "execution_count": 24,
     "metadata": {},
     "output_type": "execute_result"
    }
   ],
   "source": [
    "np.max(np.abs(sub4_mod2-sub3_mod2))"
   ]
  },
  {
   "cell_type": "code",
   "execution_count": 25,
   "metadata": {},
   "outputs": [
    {
     "data": {
      "text/plain": [
       "2418"
      ]
     },
     "execution_count": 25,
     "metadata": {},
     "output_type": "execute_result"
    }
   ],
   "source": [
    "np.count_nonzero(sub4_mod2-sub3_mod2)"
   ]
  },
  {
   "cell_type": "code",
   "execution_count": 2,
   "metadata": {},
   "outputs": [],
   "source": [
    "trajs_from_files = csv.reader(open('/Users/stefabo/Documents/fin4/task1.txt','r'), delimiter=';', \n",
    "                                        lineterminator='\\n',quoting=csv.QUOTE_NONNUMERIC)\n",
    "sub4_task1 = [[],[],[]]\n",
    "for trajs in enumerate(trajs_from_files):\n",
    "    sub4_task1[int(trajs[1][0])-1].append(trajs[1][1:])\n",
    "\n",
    "trajs_from_files = csv.reader(open('/Users/stefabo/Documents/fin3/task1.txt','r'), delimiter=';', \n",
    "                                        lineterminator='\\n',quoting=csv.QUOTE_NONNUMERIC)\n",
    "sub3_task1 = [[],[],[]]\n",
    "for trajs in enumerate(trajs_from_files):\n",
    "    sub3_task1[int(trajs[1][0])-1].append(trajs[1][1:])\n",
    "\n",
    "trajs_from_files = csv.reader(open('/Users/stefabo/Documents/fin2/task1.txt','r'), delimiter=';', \n",
    "                                        lineterminator='\\n',quoting=csv.QUOTE_NONNUMERIC)\n",
    "sub2_task1 = [[],[],[]]\n",
    "for trajs in enumerate(trajs_from_files):\n",
    "    sub2_task1[int(trajs[1][0])-1].append(trajs[1][1:])\n",
    "\n",
    "trajs_from_files = csv.reader(open('/Users/stefabo/Documents/fin1/task1.txt','r'), delimiter=';', \n",
    "                                        lineterminator='\\n',quoting=csv.QUOTE_NONNUMERIC)\n",
    "sub1_task1 = [[],[],[]]\n",
    "for trajs in enumerate(trajs_from_files):\n",
    "    sub1_task1[int(trajs[1][0])-1].append(trajs[1][1:])\n",
    "\n",
    "trajs_from_files = csv.reader(open('/Users/stefabo/Documents/fin0/task1.txt','r'), delimiter=';', \n",
    "                                        lineterminator='\\n',quoting=csv.QUOTE_NONNUMERIC)\n",
    "sub0_task1 = [[],[],[]]\n",
    "for trajs in enumerate(trajs_from_files):\n",
    "    sub0_task1[int(trajs[1][0])-1].append(trajs[1][1:])\n",
    "\n",
    "trajs_from_files = csv.reader(open('/Users/stefabo/Documents/GitHub/eduRNN/fin5/task1.txt','r'), delimiter=';', \n",
    "                                        lineterminator='\\n',quoting=csv.QUOTE_NONNUMERIC)\n",
    "sub5_task1 = [[],[],[]]\n",
    "for trajs in enumerate(trajs_from_files):\n",
    "    sub5_task1[int(trajs[1][0])-1].append(trajs[1][1:])\n",
    "\n",
    "trajs_from_files = csv.reader(open('/Users/stefabo/Documents/GitHub/eduRNN/final_submission/task1.txt','r'), delimiter=';', \n",
    "                                        lineterminator='\\n',quoting=csv.QUOTE_NONNUMERIC)\n",
    "sub_final_task1 = [[],[],[]]\n",
    "for trajs in enumerate(trajs_from_files):\n",
    "    sub_final_task1[int(trajs[1][0])-1].append(trajs[1][1:])"
   ]
  },
  {
   "cell_type": "code",
   "execution_count": 13,
   "metadata": {},
   "outputs": [],
   "source": [
    "ddd=0\n",
    "sub0_task1_mod= np.asarray(sub0_task1[ddd])\n",
    "\n",
    "sub1_task1_mod= np.asarray(sub1_task1[ddd])\n",
    "\n",
    "\n",
    "sub2_task1_mod= np.asarray(sub2_task1[ddd])\n",
    "\n",
    "sub3_task1_mod= np.asarray(sub3_task1[ddd])\n",
    "\n",
    "sub4_task1_mod= np.asarray(sub4_task1[ddd])\n",
    "\n",
    "sub5_task1_mod= np.asarray(sub5_task1[ddd])\n",
    "\n",
    "sub_final_task1_mod= np.asarray(sub_final_task1[ddd])"
   ]
  },
  {
   "cell_type": "code",
   "execution_count": 14,
   "metadata": {},
   "outputs": [
    {
     "data": {
      "text/plain": [
       "0"
      ]
     },
     "execution_count": 14,
     "metadata": {},
     "output_type": "execute_result"
    }
   ],
   "source": [
    "np.count_nonzero(sub5_task1_mod-sub_final_task1_mod)"
   ]
  },
  {
   "cell_type": "code",
   "execution_count": 47,
   "metadata": {},
   "outputs": [
    {
     "data": {
      "text/plain": [
       "0"
      ]
     },
     "execution_count": 47,
     "metadata": {},
     "output_type": "execute_result"
    }
   ],
   "source": [
    "np.count_nonzero(sub0_task1_mod-sub1_task1_mod)"
   ]
  },
  {
   "cell_type": "code",
   "execution_count": 48,
   "metadata": {},
   "outputs": [
    {
     "data": {
      "text/plain": [
       "4336"
      ]
     },
     "execution_count": 48,
     "metadata": {},
     "output_type": "execute_result"
    }
   ],
   "source": [
    "np.count_nonzero(sub1_task1_mod-sub2_task1_mod)"
   ]
  },
  {
   "cell_type": "code",
   "execution_count": 57,
   "metadata": {},
   "outputs": [
    {
     "data": {
      "text/plain": [
       "6377"
      ]
     },
     "execution_count": 57,
     "metadata": {},
     "output_type": "execute_result"
    }
   ],
   "source": [
    "np.count_nonzero(sub1_task1_mod-sub3_task1_mod)"
   ]
  },
  {
   "cell_type": "code",
   "execution_count": 58,
   "metadata": {},
   "outputs": [
    {
     "data": {
      "text/plain": [
       "2041"
      ]
     },
     "execution_count": 58,
     "metadata": {},
     "output_type": "execute_result"
    }
   ],
   "source": [
    "np.count_nonzero(sub2_task1_mod-sub3_task1_mod)"
   ]
  },
  {
   "cell_type": "code",
   "execution_count": 50,
   "metadata": {},
   "outputs": [
    {
     "data": {
      "text/plain": [
       "6377"
      ]
     },
     "execution_count": 50,
     "metadata": {},
     "output_type": "execute_result"
    }
   ],
   "source": [
    "np.count_nonzero(sub1_task1_mod-sub3_task1_mod)"
   ]
  },
  {
   "cell_type": "code",
   "execution_count": 59,
   "metadata": {},
   "outputs": [
    {
     "data": {
      "text/plain": [
       "0"
      ]
     },
     "execution_count": 59,
     "metadata": {},
     "output_type": "execute_result"
    }
   ],
   "source": [
    "np.count_nonzero(sub3_task1_mod-sub4_task1_mod)"
   ]
  },
  {
   "cell_type": "code",
   "execution_count": 52,
   "metadata": {},
   "outputs": [
    {
     "data": {
      "text/plain": [
       "0"
      ]
     },
     "execution_count": 52,
     "metadata": {},
     "output_type": "execute_result"
    }
   ],
   "source": [
    "np.count_nonzero(sub3_task1_mod-sub4_task1_mod)"
   ]
  },
  {
   "cell_type": "code",
   "execution_count": 53,
   "metadata": {},
   "outputs": [
    {
     "data": {
      "text/plain": [
       "0"
      ]
     },
     "execution_count": 53,
     "metadata": {},
     "output_type": "execute_result"
    }
   ],
   "source": [
    "np.count_nonzero(sub4_task1_mod-sub3_task1_mod)"
   ]
  },
  {
   "cell_type": "code",
   "execution_count": 54,
   "metadata": {},
   "outputs": [
    {
     "data": {
      "text/plain": [
       "0.12281863040077025"
      ]
     },
     "execution_count": 54,
     "metadata": {},
     "output_type": "execute_result"
    }
   ],
   "source": [
    "np.count_nonzero(sub2_task1_mod-sub4_task1_mod)/len(sub2_task1_mod)"
   ]
  },
  {
   "cell_type": "code",
   "execution_count": 55,
   "metadata": {},
   "outputs": [
    {
     "data": {
      "text/plain": [
       "4336"
      ]
     },
     "execution_count": 55,
     "metadata": {},
     "output_type": "execute_result"
    }
   ],
   "source": [
    "np.count_nonzero(sub2_task1_mod-sub0_task1_mod)"
   ]
  },
  {
   "cell_type": "code",
   "execution_count": 18,
   "metadata": {},
   "outputs": [
    {
     "data": {
      "text/plain": [
       "0.000751260049590503"
      ]
     },
     "execution_count": 18,
     "metadata": {},
     "output_type": "execute_result"
    }
   ],
   "source": [
    "np.mean(np.abs(sub_final_task1_mod-sub4_task1_mod))"
   ]
  },
  {
   "cell_type": "code",
   "execution_count": 28,
   "metadata": {},
   "outputs": [
    {
     "data": {
      "text/plain": [
       "0.0008381079999999995"
      ]
     },
     "execution_count": 28,
     "metadata": {},
     "output_type": "execute_result"
    }
   ],
   "source": [
    "np.mean(np.abs(sub_final_task1_mod-sub4_task1_mod))"
   ]
  },
  {
   "cell_type": "code",
   "execution_count": 60,
   "metadata": {},
   "outputs": [
    {
     "data": {
      "text/plain": [
       "0.0018620369478878325"
      ]
     },
     "execution_count": 60,
     "metadata": {},
     "output_type": "execute_result"
    }
   ],
   "source": [
    "np.mean(np.abs(sub2_task1_mod-sub3_task1_mod))"
   ]
  },
  {
   "cell_type": "code",
   "execution_count": 62,
   "metadata": {},
   "outputs": [
    {
     "data": {
      "text/plain": [
       "0.011224434348297029"
      ]
     },
     "execution_count": 62,
     "metadata": {},
     "output_type": "execute_result"
    }
   ],
   "source": [
    "np.mean(np.abs(sub2_task1_mod-sub1_task1_mod))"
   ]
  },
  {
   "cell_type": "code",
   "execution_count": 63,
   "metadata": {},
   "outputs": [
    {
     "data": {
      "text/plain": [
       "0.0018620369478878325"
      ]
     },
     "execution_count": 63,
     "metadata": {},
     "output_type": "execute_result"
    }
   ],
   "source": [
    "np.mean(np.abs(sub2_task1_mod-sub3_task1_mod))"
   ]
  },
  {
   "cell_type": "code",
   "execution_count": 64,
   "metadata": {},
   "outputs": [
    {
     "data": {
      "text/plain": [
       "0.0"
      ]
     },
     "execution_count": 64,
     "metadata": {},
     "output_type": "execute_result"
    }
   ],
   "source": [
    "np.mean(np.abs(sub0_task1_mod-sub0_task1_mod))"
   ]
  },
  {
   "cell_type": "code",
   "execution_count": 18,
   "metadata": {},
   "outputs": [],
   "source": [
    "trajs_from_files = csv.reader(open('/Users/stefabo/Documents/fin4/task2.txt','r'), delimiter=';', \n",
    "                                        lineterminator='\\n',quoting=csv.QUOTE_NONNUMERIC)\n",
    "sub4_task2 = [[],[],[]]\n",
    "for trajs in enumerate(trajs_from_files):\n",
    "    sub4_task2[int(trajs[1][0])-1].append(trajs[1][1:])\n",
    "\n",
    "trajs_from_files = csv.reader(open('/Users/stefabo/Documents/fin3/task2.txt','r'), delimiter=';', \n",
    "                                        lineterminator='\\n',quoting=csv.QUOTE_NONNUMERIC)\n",
    "sub3_task2 = [[],[],[]]\n",
    "for trajs in enumerate(trajs_from_files):\n",
    "    sub3_task2[int(trajs[1][0])-1].append(trajs[1][1:])\n",
    "\n",
    "trajs_from_files = csv.reader(open('/Users/stefabo/Documents/fin2/task2.txt','r'), delimiter=';', \n",
    "                                        lineterminator='\\n',quoting=csv.QUOTE_NONNUMERIC)\n",
    "sub2_task2 = [[],[],[]]\n",
    "for trajs in enumerate(trajs_from_files):\n",
    "    sub2_task2[int(trajs[1][0])-1].append(trajs[1][1:])\n",
    "\n",
    "trajs_from_files = csv.reader(open('/Users/stefabo/Documents/fin1/task2.txt','r'), delimiter=';', \n",
    "                                        lineterminator='\\n',quoting=csv.QUOTE_NONNUMERIC)\n",
    "sub1_task2 = [[],[],[]]\n",
    "for trajs in enumerate(trajs_from_files):\n",
    "    sub1_task2[int(trajs[1][0])-1].append(trajs[1][1:])\n",
    "\n",
    "trajs_from_files = csv.reader(open('/Users/stefabo/Documents/fin0/task2.txt','r'), delimiter=';', \n",
    "                                        lineterminator='\\n',quoting=csv.QUOTE_NONNUMERIC)\n",
    "sub0_task2 = [[],[],[]]\n",
    "for trajs in enumerate(trajs_from_files):\n",
    "    sub0_task2[int(trajs[1][0])-1].append(trajs[1][1:])\n",
    "\n",
    "trajs_from_files = csv.reader(open('/Users/stefabo/Documents/GitHub/eduRNN/fin5/task2.txt','r'), delimiter=';', \n",
    "                                        lineterminator='\\n',quoting=csv.QUOTE_NONNUMERIC)\n",
    "sub5_task2 = [[],[],[]]\n",
    "for trajs in enumerate(trajs_from_files):\n",
    "    sub5_task2[int(trajs[1][0])-1].append(trajs[1][1:])\n",
    "\n",
    "trajs_from_files = csv.reader(open('/Users/stefabo/Documents/GitHub/eduRNN/final_submission/task2.txt','r'), delimiter=';', \n",
    "                                        lineterminator='\\n',quoting=csv.QUOTE_NONNUMERIC)\n",
    "sub_final_task2 = [[],[],[]]\n",
    "for trajs in enumerate(trajs_from_files):\n",
    "    sub_final_task2[int(trajs[1][0])-1].append(trajs[1][1:])"
   ]
  },
  {
   "cell_type": "code",
   "execution_count": 30,
   "metadata": {},
   "outputs": [],
   "source": [
    "ddd=1\n",
    "sub0_task2_mod= np.asarray(sub0_task2[ddd])\n",
    "\n",
    "sub1_task2_mod= np.asarray(sub1_task2[ddd])\n",
    "\n",
    "\n",
    "sub2_task2_mod= np.asarray(sub2_task2[ddd])\n",
    "\n",
    "sub3_task2_mod= np.asarray(sub3_task2[ddd])\n",
    "\n",
    "sub4_task2_mod= np.asarray(sub4_task2[ddd])\n",
    "\n",
    "sub5_task2_mod= np.asarray(sub5_task2[ddd])\n",
    "\n",
    "sub_final_task2_mod= np.asarray(sub_final_task2[ddd])"
   ]
  },
  {
   "cell_type": "code",
   "execution_count": 35,
   "metadata": {},
   "outputs": [
    {
     "data": {
      "text/plain": [
       "1.0709400000000002"
      ]
     },
     "execution_count": 35,
     "metadata": {},
     "output_type": "execute_result"
    }
   ],
   "source": [
    "np.max(np.abs(sub_final_task2_mod-sub1_task2_mod))"
   ]
  },
  {
   "cell_type": "code",
   "execution_count": 36,
   "metadata": {},
   "outputs": [
    {
     "data": {
      "text/plain": [
       "1.0"
      ]
     },
     "execution_count": 36,
     "metadata": {},
     "output_type": "execute_result"
    }
   ],
   "source": [
    "np.max(np.abs(sub_final_task2_mod-sub0_task2_mod))"
   ]
  },
  {
   "cell_type": "code",
   "execution_count": 38,
   "metadata": {},
   "outputs": [
    {
     "data": {
      "text/plain": [
       "0.0"
      ]
     },
     "execution_count": 38,
     "metadata": {},
     "output_type": "execute_result"
    }
   ],
   "source": [
    "np.min(sub_final_task2_mod)"
   ]
  },
  {
   "cell_type": "code",
   "execution_count": null,
   "metadata": {},
   "outputs": [],
   "source": []
  },
  {
   "cell_type": "code",
   "execution_count": 77,
   "metadata": {},
   "outputs": [],
   "source": [
    "trajs_from_files = csv.reader(open('/Users/stefabo/Documents/fin4/task3.txt','r'), delimiter=';', \n",
    "                                        lineterminator='\\n',quoting=csv.QUOTE_NONNUMERIC)\n",
    "sub4_task3 = [[],[],[]]\n",
    "for trajs in enumerate(trajs_from_files):\n",
    "    sub4_task3[int(trajs[1][0])-1].append(trajs[1][1:])\n",
    "\n",
    "trajs_from_files = csv.reader(open('/Users/stefabo/Documents/fin3/task3.txt','r'), delimiter=';', \n",
    "                                        lineterminator='\\n',quoting=csv.QUOTE_NONNUMERIC)\n",
    "sub3_task3 = [[],[],[]]\n",
    "for trajs in enumerate(trajs_from_files):\n",
    "    sub3_task3[int(trajs[1][0])-1].append(trajs[1][1:])\n",
    "\n",
    "trajs_from_files = csv.reader(open('/Users/stefabo/Documents/fin2/task3.txt','r'), delimiter=';', \n",
    "                                        lineterminator='\\n',quoting=csv.QUOTE_NONNUMERIC)\n",
    "sub2_task3 = [[],[],[]]\n",
    "for trajs in enumerate(trajs_from_files):\n",
    "    sub2_task3[int(trajs[1][0])-1].append(trajs[1][1:])\n",
    "\n",
    "trajs_from_files = csv.reader(open('/Users/stefabo/Documents/fin1/task3.txt','r'), delimiter=';', \n",
    "                                        lineterminator='\\n',quoting=csv.QUOTE_NONNUMERIC)\n",
    "sub1_task3 = [[],[],[]]\n",
    "for trajs in enumerate(trajs_from_files):\n",
    "    sub1_task3[int(trajs[1][0])-1].append(trajs[1][1:])\n",
    "\n",
    "trajs_from_files = csv.reader(open('/Users/stefabo/Documents/fin0/task3.txt','r'), delimiter=';', \n",
    "                                        lineterminator='\\n',quoting=csv.QUOTE_NONNUMERIC)\n",
    "sub0_task3 = [[],[],[]]\n",
    "for trajs in enumerate(trajs_from_files):\n",
    "    sub0_task3[int(trajs[1][0])-1].append(trajs[1][1:])\n",
    "\n",
    "trajs_from_files = csv.reader(open('/Users/stefabo/Documents/GitHub/eduRNN/fin5/task3.txt','r'), delimiter=';', \n",
    "                                        lineterminator='\\n',quoting=csv.QUOTE_NONNUMERIC)\n",
    "sub5_task3 = [[],[],[]]\n",
    "for trajs in enumerate(trajs_from_files):\n",
    "    sub5_task3[int(trajs[1][0])-1].append(trajs[1][1:])\n",
    "\n",
    "trajs_from_files = csv.reader(open('/Users/stefabo/Documents/GitHub/eduRNN/final_submission/task3.txt','r'), delimiter=';', \n",
    "                                        lineterminator='\\n',quoting=csv.QUOTE_NONNUMERIC)\n",
    "sub_final_task3 = [[],[],[]]\n",
    "for trajs in enumerate(trajs_from_files):\n",
    "    sub_final_task3[int(trajs[1][0])-1].append(trajs[1][1:])\n",
    "    \n",
    "    \n",
    "trajs_from_files = csv.reader(open('/Users/stefabo/Documents/GitHub/eduRNN/task3/task3_old.txt','r'), delimiter=';', \n",
    "                                        lineterminator='\\n',quoting=csv.QUOTE_NONNUMERIC)\n",
    "sub_jolly_task3 = [[],[],[]]\n",
    "for trajs in enumerate(trajs_from_files):\n",
    "    sub_jolly_task3[int(trajs[1][0])-1].append(trajs[1][1:])    "
   ]
  },
  {
   "cell_type": "code",
   "execution_count": 86,
   "metadata": {},
   "outputs": [],
   "source": [
    "ddd=2\n",
    "sub0_task3_mod= np.asarray(sub0_task3[ddd])\n",
    "\n",
    "sub1_task3_mod= np.asarray(sub1_task3[ddd])\n",
    "\n",
    "\n",
    "sub2_task3_mod= np.asarray(sub2_task3[ddd])\n",
    "\n",
    "sub3_task3_mod= np.asarray(sub3_task3[ddd])\n",
    "\n",
    "sub4_task3_mod= np.asarray(sub4_task3[ddd])\n",
    "\n",
    "sub5_task3_mod= np.asarray(sub5_task3[ddd])\n",
    "\n",
    "sub_jolly_task3_mod= np.asarray(sub_jolly_task3[ddd])\n",
    "\n",
    "\n",
    "sub_final_task3_mod= np.asarray(sub_final_task3[ddd])"
   ]
  },
  {
   "cell_type": "code",
   "execution_count": 87,
   "metadata": {},
   "outputs": [
    {
     "name": "stdout",
     "output_type": "stream",
     "text": [
      "dimension 3\n",
      "recall: 0 is time, 1 is model 1, 2 is a1, 3 model2, 4 is a2\n",
      "0 max 192.80259999999998\n",
      "0 mae 12.708155245\n",
      "10000\n",
      "1 max 4.0\n",
      "1 mae 0.6852\n",
      "3199\n",
      "2 max 1.59113\n",
      "2 mae 0.154925849\n",
      "10000\n",
      "3 max 4.0\n",
      "3 mae 0.3365\n",
      "1717\n",
      "4 max 1.5282999999999998\n",
      "4 mae 0.11850216599999999\n",
      "10000\n"
     ]
    }
   ],
   "source": [
    "print('dimension',ddd+1)\n",
    "print('recall: 0 is time, 1 is model 1, 2 is a1, 3 model2, 4 is a2')\n",
    "for predin in range(5):\n",
    "\n",
    "    print(predin,'max',np.max(np.abs(sub_final_task3_mod[:,predin]-sub5_task3_mod[:,predin])))\n",
    "    print(predin,'mae',np.mean(np.abs(sub_final_task3_mod[:,predin]-sub5_task3_mod[:,predin])))\n",
    "    print(np.count_nonzero(sub_final_task3_mod[:,predin]-sub5_task3_mod[:,predin]))\n",
    "   "
   ]
  },
  {
   "cell_type": "code",
   "execution_count": 88,
   "metadata": {},
   "outputs": [
    {
     "data": {
      "text/plain": [
       "[<matplotlib.lines.Line2D at 0x7fdceec50110>]"
      ]
     },
     "execution_count": 88,
     "metadata": {},
     "output_type": "execute_result"
    },
    {
     "data": {
      "image/png": "[encoded data removed]",
      "text/plain": [
       "<Figure size 432x288 with 1 Axes>"
      ]
     },
     "metadata": {
      "needs_background": "light"
     },
     "output_type": "display_data"
    }
   ],
   "source": [
    "predin=0\n",
    "plt.scatter(sub5_task3_mod[:,predin],sub_final_task3_mod[:,predin],s=1)\n",
    "plt.plot(np.arange(200),np.arange(200),color='k')"
   ]
  },
  {
   "cell_type": "code",
   "execution_count": 89,
   "metadata": {},
   "outputs": [
    {
     "data": {
      "text/plain": [
       "[<matplotlib.lines.Line2D at 0x7fdce9c50250>]"
      ]
     },
     "execution_count": 89,
     "metadata": {},
     "output_type": "execute_result"
    },
    {
     "data": {
      "image/png": "[encoded data removed]",
      "text/plain": [
       "<Figure size 432x288 with 1 Axes>"
      ]
     },
     "metadata": {
      "needs_background": "light"
     },
     "output_type": "display_data"
    }
   ],
   "source": [
    "predin=2\n",
    "plt.scatter(sub5_task3_mod[:,predin],sub_final_task3_mod[:,predin],s=1)\n",
    "plt.plot(np.arange(2.1),np.arange(2.1),color='k')"
   ]
  },
  {
   "cell_type": "code",
   "execution_count": 85,
   "metadata": {},
   "outputs": [
    {
     "data": {
      "text/plain": [
       "[<matplotlib.lines.Line2D at 0x7fdceeb5e590>]"
      ]
     },
     "execution_count": 85,
     "metadata": {},
     "output_type": "execute_result"
    },
    {
     "data": {
      "image/png": "[encoded data removed]",
      "text/plain": [
       "<Figure size 432x288 with 1 Axes>"
      ]
     },
     "metadata": {
      "needs_background": "light"
     },
     "output_type": "display_data"
    }
   ],
   "source": [
    "predin=4\n",
    "plt.scatter(sub5_task3_mod[:,predin],sub_final_task3_mod[:,predin],s=1)\n",
    "plt.plot(np.arange(2.1),np.arange(2.1),color='k')"
   ]
  },
  {
   "cell_type": "code",
   "execution_count": 71,
   "metadata": {},
   "outputs": [
    {
     "data": {
      "text/plain": [
       "<matplotlib.collections.PathCollection at 0x7fdce98d1710>"
      ]
     },
     "execution_count": 71,
     "metadata": {},
     "output_type": "execute_result"
    },
    {
     "data": {
      "image/png": "[encoded data removed]",
      "text/plain": [
       "<Figure size 432x288 with 1 Axes>"
      ]
     },
     "metadata": {
      "needs_background": "light"
     },
     "output_type": "display_data"
    }
   ],
   "source": [
    "predin=1\n",
    "plt.scatter(sub5_task3_mod[:,predin],sub_final_task3_mod[:,predin]+0.1*np.random.randn(len(sub_final_task3_mod[:,predin])),s=1)\n",
    "#plt.plot(np.arange(2),np.arange(2),color='k')"
   ]
  },
  {
   "cell_type": "code",
   "execution_count": null,
   "metadata": {},
   "outputs": [],
   "source": []
  },
  {
   "cell_type": "code",
   "execution_count": 44,
   "metadata": {},
   "outputs": [
    {
     "data": {
      "text/plain": [
       "9.938813354600002"
      ]
     },
     "execution_count": 44,
     "metadata": {},
     "output_type": "execute_result"
    }
   ],
   "source": [
    "np.mean(np.abs(sub_final_task3_mod-sub5_task3_mod))"
   ]
  },
  {
   "cell_type": "code",
   "execution_count": null,
   "metadata": {},
   "outputs": [],
   "source": []
  }
 ],
 "metadata": {
  "kernelspec": {
   "display_name": "Python 3",
   "language": "python",
   "name": "python3"
  },
  "language_info": {
   "codemirror_mode": {
    "name": "ipython",
    "version": 3
   },
   "file_extension": ".py",
   "mimetype": "text/x-python",
   "name": "python",
   "nbconvert_exporter": "python",
   "pygments_lexer": "ipython3",
   "version": "3.7.4"
  }
 },
 "nbformat": 4,
 "nbformat_minor": 4
}
