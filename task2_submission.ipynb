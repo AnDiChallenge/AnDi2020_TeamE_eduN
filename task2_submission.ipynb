{
 "cells": [
  {
   "cell_type": "code",
   "execution_count": null,
   "metadata": {},
   "outputs": [],
   "source": [
    "import numpy as np\n",
    "import csv as csv\n",
    "import numpy as np\n",
    "\n",
    "import tensorflow as tf\n",
    "\n",
    "\n",
    "\n",
    "import keras\n",
    "from keras.models import Sequential\n",
    "from keras.layers import Dense, Dropout, Activation\n",
    "from keras.optimizers import SGD\n",
    "from keras import losses, metrics\n",
    "\n",
    "from keras.models import Sequential\n",
    "from keras.layers import Dense\n",
    "from keras.layers import SimpleRNN\n",
    "from keras.layers import LSTM\n",
    "\n",
    "from keras.layers import Dropout\n",
    "from keras.layers import Bidirectional\n",
    "#from keras.models import load_model\n",
    "from tensorflow.keras.models import load_model\n",
    "import os\n",
    "from matplotlib import pyplot as plt\n",
    "from data_split import data_split\n",
    "from many_net import  many_net_hd_u1d, many_net_3d_u2d, many_net_uhd"
   ]
  },
  {
   "cell_type": "markdown",
   "metadata": {},
   "source": [
    "Importing the data"
   ]
  },
  {
   "cell_type": "code",
   "execution_count": null,
   "metadata": {},
   "outputs": [],
   "source": [
    "import csv\n",
    "trajs_from_files = csv.reader(open('challenge_for_scoring/task2.txt','r'), delimiter=';', \n",
    "                                        lineterminator='\\n',quoting=csv.QUOTE_NONNUMERIC)\n",
    "validation = [[],[],[]]\n",
    "for trajs in enumerate(trajs_from_files):\n",
    "    validation[int(trajs[1][0])-1].append(trajs[1][1:])"
   ]
  },
  {
   "cell_type": "markdown",
   "metadata": {},
   "source": [
    "# 1d case"
   ]
  },
  {
   "cell_type": "markdown",
   "metadata": {},
   "source": [
    "Loading the models and specifiying the trajectory length on which they have been trained (centers)"
   ]
  },
  {
   "cell_type": "code",
   "execution_count": null,
   "metadata": {},
   "outputs": [],
   "source": [
    "net_centers1d=[25,65,125, 225,425,825]\n",
    "meta_model1d=[]\n",
    "for i in net_centers1d: #NB I should go the whole way to 925 and use 25 and 60\n",
    "    m=load_model('nets/task2/1d/Task2_1D_recdout_'+str(i)+'.h5')\n",
    "    #m=tf.keras.models.load_model('Model_1D_recdout_'+str(i)+'.h5')\n",
    "\n",
    "\n",
    "    meta_model1d.append(m)\n",
    "    "
   ]
  },
  {
   "cell_type": "markdown",
   "metadata": {},
   "source": [
    "Predictions"
   ]
  },
  {
   "cell_type": "code",
   "execution_count": null,
   "metadata": {
    "scrolled": true
   },
   "outputs": [],
   "source": [
    "a1, predictions1d=many_net_hd_u1d(meta_model1d,validation[0],\n",
    "                 centers=net_centers1d,\n",
    "                 dim=1,thr=1e-12,skip=[],min_tr=0,max_tr=1000)"
   ]
  },
  {
   "cell_type": "code",
   "execution_count": null,
   "metadata": {},
   "outputs": [],
   "source": [
    "predictions1d=predictions1d.reshape((len(validation[0]),5))"
   ]
  },
  {
   "cell_type": "code",
   "execution_count": null,
   "metadata": {},
   "outputs": [],
   "source": [
    "np.save('predictions/task2/task2_predictions1d_more_nets.npy',predictions1d)"
   ]
  },
  {
   "cell_type": "markdown",
   "metadata": {},
   "source": [
    "# 2d case"
   ]
  },
  {
   "cell_type": "code",
   "execution_count": null,
   "metadata": {},
   "outputs": [],
   "source": [
    "net_centers2d = [25,125, 225,425]\n",
    "meta_model2d = []\n",
    "for i in net_centers2d: #NB I should go the whole way to 925 and use 25 and 60\n",
    "    m=load_model('nets/task2/2d/Task2_2D_checkpoint_'+str(i)+'.h5')\n",
    "    #m=tf.keras.models.load_model('Model_1D_recdout_'+str(i)+'.h5')\n",
    "\n",
    "\n",
    "    meta_model2d.append(m)\n",
    "    "
   ]
  },
  {
   "cell_type": "markdown",
   "metadata": {},
   "source": [
    "Predictions on 2d data using nets trained on 2d data"
   ]
  },
  {
   "cell_type": "code",
   "execution_count": null,
   "metadata": {},
   "outputs": [],
   "source": [
    "pred_2d_u2d=many_net_uhd(meta_model2d,validation[1],\n",
    "                                             centers=net_centers2d,dim=2)"
   ]
  },
  {
   "cell_type": "code",
   "execution_count": null,
   "metadata": {},
   "outputs": [],
   "source": [
    "predictions2d_u2d=pred_2d_u2d.reshape((len(validation[1]),5))"
   ]
  },
  {
   "cell_type": "code",
   "execution_count": null,
   "metadata": {},
   "outputs": [],
   "source": [
    "np.save('predictions/task2/task2_predictions2d_using2d_CORRECTED.npy',predictions2d_u2d)"
   ]
  },
  {
   "cell_type": "markdown",
   "metadata": {},
   "source": [
    "Predictions on 2d data using nets trained on 1d data, it won't work well on LW"
   ]
  },
  {
   "cell_type": "code",
   "execution_count": null,
   "metadata": {},
   "outputs": [],
   "source": [
    "a, predictions2d_u1d=many_net_hd_u1d(meta_model1d,validation[1],\n",
    "                 centers=net_centers1d,\n",
    "                 dim=2,thr=1e-12,skip=[],min_tr=0,max_tr=1000)"
   ]
  },
  {
   "cell_type": "code",
   "execution_count": null,
   "metadata": {},
   "outputs": [],
   "source": [
    "predictions2d_u1d=predictions2d_u1d.reshape((len(validation[1]),5))\n",
    "\n",
    "np.save('predictions/task2/task2_predictions2d_u1d_newest.npy',predictions2d_u1d)"
   ]
  },
  {
   "cell_type": "markdown",
   "metadata": {},
   "source": [
    "# 3d case"
   ]
  },
  {
   "cell_type": "markdown",
   "metadata": {},
   "source": [
    "3d using 1d with centers"
   ]
  },
  {
   "cell_type": "code",
   "execution_count": null,
   "metadata": {},
   "outputs": [],
   "source": [
    "a3, predictions3d_u1d=many_net_hd_u1d(meta_model1d,validation[2],\n",
    "                 centers=net_centers1d,\n",
    "                 dim=3,thr=1e-12,skip=[],min_tr=0,max_tr=1000)"
   ]
  },
  {
   "cell_type": "code",
   "execution_count": null,
   "metadata": {},
   "outputs": [],
   "source": [
    "predictions3d_u1d=predictions3d_u1d.reshape((len(validation[2]),5))"
   ]
  },
  {
   "cell_type": "code",
   "execution_count": null,
   "metadata": {},
   "outputs": [],
   "source": [
    "np.save('predictions/task2/task2_predictions3d_u1d_more_nets.npy',predictions3d_u1d)"
   ]
  },
  {
   "cell_type": "markdown",
   "metadata": {},
   "source": [
    "3d using combination of 2d trajectories"
   ]
  },
  {
   "cell_type": "code",
   "execution_count": null,
   "metadata": {},
   "outputs": [],
   "source": [
    "predictions3d_u2d = many_net_3d_u2d(meta_model2d,validation[2],\n",
    "                 centers=net_centers2d,\n",
    "                 skip=[],min_tr=0,max_tr=1000)"
   ]
  },
  {
   "cell_type": "code",
   "execution_count": null,
   "metadata": {},
   "outputs": [],
   "source": [
    "predictions3d_u2d=predictions3d_u2d.reshape((len(validation[2]),5))"
   ]
  },
  {
   "cell_type": "code",
   "execution_count": null,
   "metadata": {},
   "outputs": [],
   "source": [
    "np.save('predictions/task2/task2_predictions3d_u2d_CORRECTED.npy',predictions3d_u2d)"
   ]
  }
 ],
 "metadata": {
  "kernelspec": {
   "display_name": "Python 3",
   "language": "python",
   "name": "python3"
  },
  "language_info": {
   "codemirror_mode": {
    "name": "ipython",
    "version": 3
   },
   "file_extension": ".py",
   "mimetype": "text/x-python",
   "name": "python",
   "nbconvert_exporter": "python",
   "pygments_lexer": "ipython3",
   "version": "3.7.4"
  }
 },
 "nbformat": 4,
 "nbformat_minor": 4
}
